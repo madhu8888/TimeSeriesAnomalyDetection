{
  "nbformat": 4,
  "nbformat_minor": 0,
  "metadata": {
    "colab": {
      "name": "Multivariate_Time_Series_Forecasting.ipynb",
      "provenance": [],
      "collapsed_sections": []
    },
    "kernelspec": {
      "name": "python3",
      "display_name": "Python 3"
    },
    "language_info": {
      "name": "python"
    }
  },
  "cells": [
    {
      "cell_type": "markdown",
      "source": [
        "1. https://analyticsindiamag.com/a-guide-to-varma-with-auto-arima-in-time-series-modelling/\n",
        "2. https://www.analyticsvidhya.com/blog/2018/09/multivariate-time-series-guide-forecasting-modeling-python-codes/\n",
        "3. https://analyticsindiamag.com/a-complete-tutorial-on-time-series-filters/\n",
        "4. https://towardsdatascience.com/prediction-task-with-multivariate-timeseries-and-var-model-47003f629f9\n",
        "6. https://michael-fuchs-python.netlify.app/2020/10/29/time-series-analysis-regression-extension-techniques-for-forecasting-multivariate-variables/\n",
        "6. https://www.statology.org/ljung-box-test-python/\n",
        "7. "
      ],
      "metadata": {
        "id": "6kH00ZWr-S35"
      }
    },
    {
      "cell_type": "code",
      "execution_count": 41,
      "metadata": {
        "id": "iImGQ_4EafRv",
        "colab": {
          "base_uri": "https://localhost:8080/"
        },
        "outputId": "f4b87ace-eb73-40f0-f19a-6faba4c1fcf5"
      },
      "outputs": [
        {
          "output_type": "stream",
          "name": "stderr",
          "text": [
            "/usr/local/lib/python3.7/dist-packages/statsmodels/tools/_testing.py:19: FutureWarning:\n",
            "\n",
            "pandas.util.testing is deprecated. Use the functions in the public API at pandas.testing instead.\n",
            "\n"
          ]
        }
      ],
      "source": [
        "import pandas as pd\n",
        "import matplotlib.pyplot as plt\n",
        "from statsmodels.tsa.statespace.varmax import VARMAX\n",
        "import numpy as np\n",
        "from statsmodels.tsa.stattools import adfuller\n",
        "from sklearn import metrics\n",
        "from timeit import default_timer as timer\n",
        "import warnings\n",
        "warnings.filterwarnings(\"ignore\")"
      ]
    },
    {
      "cell_type": "code",
      "source": [
        "import os\n",
        "from google.colab import drive\n",
        "drive.mount('/content/drive/')"
      ],
      "metadata": {
        "colab": {
          "base_uri": "https://localhost:8080/"
        },
        "id": "MmZ3VCY6B9t1",
        "outputId": "c190db1a-e30a-4deb-cb1a-e7f8ac88edd1"
      },
      "execution_count": null,
      "outputs": [
        {
          "output_type": "stream",
          "name": "stdout",
          "text": [
            "Mounted at /content/drive/\n"
          ]
        }
      ]
    },
    {
      "cell_type": "code",
      "source": [
        "path = \"/content/drive/My Drive/data/Dow_Jones.csv\"\n",
        "data_Dow_Jones = pd.read_csv(path)"
      ],
      "metadata": {
        "id": "uFSyE48mCBNT"
      },
      "execution_count": null,
      "outputs": []
    },
    {
      "cell_type": "code",
      "source": [
        "data_Dow_Jones['Open'].replace(',','', regex=True, inplace=True)\n",
        "data_Dow_Jones['High'].replace(',','', regex=True, inplace=True)\n",
        "data_Dow_Jones['Low'].replace(',','', regex=True, inplace=True)\n",
        "data_Dow_Jones['Close'].replace(',','', regex=True, inplace=True)"
      ],
      "metadata": {
        "id": "5l1gHdJpdBf7"
      },
      "execution_count": null,
      "outputs": []
    },
    {
      "cell_type": "code",
      "source": [
        "data_Dow_Jones['Date']= pd.to_datetime(data_Dow_Jones['Date'])\n",
        "data_Dow_Jones['Open'] = data_Dow_Jones['Open'].astype(float, errors = 'raise')\n",
        "data_Dow_Jones['High'] = data_Dow_Jones['High'].astype(float, errors = 'raise')\n",
        "data_Dow_Jones['Low'] = data_Dow_Jones['Low'].astype(float, errors = 'raise')\n",
        "data_Dow_Jones['Close'] = data_Dow_Jones['Close'].astype(float, errors = 'raise')"
      ],
      "metadata": {
        "id": "C6d15NQMZxXm"
      },
      "execution_count": null,
      "outputs": []
    },
    {
      "cell_type": "code",
      "source": [
        "data_Dow_Jones.head()"
      ],
      "metadata": {
        "colab": {
          "base_uri": "https://localhost:8080/",
          "height": 204
        },
        "id": "Bi5WPymfChm1",
        "outputId": "e35da147-aba9-45ca-9854-05f97aa1fb60"
      },
      "execution_count": null,
      "outputs": [
        {
          "output_type": "execute_result",
          "data": {
            "text/html": [
              "\n",
              "  <div id=\"df-5cf1e309-18a8-4fa9-aff9-403a780592ff\">\n",
              "    <div class=\"colab-df-container\">\n",
              "      <div>\n",
              "<style scoped>\n",
              "    .dataframe tbody tr th:only-of-type {\n",
              "        vertical-align: middle;\n",
              "    }\n",
              "\n",
              "    .dataframe tbody tr th {\n",
              "        vertical-align: top;\n",
              "    }\n",
              "\n",
              "    .dataframe thead th {\n",
              "        text-align: right;\n",
              "    }\n",
              "</style>\n",
              "<table border=\"1\" class=\"dataframe\">\n",
              "  <thead>\n",
              "    <tr style=\"text-align: right;\">\n",
              "      <th></th>\n",
              "      <th>Date</th>\n",
              "      <th>Open</th>\n",
              "      <th>High</th>\n",
              "      <th>Low</th>\n",
              "      <th>Close</th>\n",
              "    </tr>\n",
              "  </thead>\n",
              "  <tbody>\n",
              "    <tr>\n",
              "      <th>0</th>\n",
              "      <td>2021-12-23</td>\n",
              "      <td>35782.42</td>\n",
              "      <td>36060.99</td>\n",
              "      <td>35782.42</td>\n",
              "      <td>35950.56</td>\n",
              "    </tr>\n",
              "    <tr>\n",
              "      <th>1</th>\n",
              "      <td>2021-12-22</td>\n",
              "      <td>35491.71</td>\n",
              "      <td>35764.67</td>\n",
              "      <td>35433.13</td>\n",
              "      <td>35753.89</td>\n",
              "    </tr>\n",
              "    <tr>\n",
              "      <th>2</th>\n",
              "      <td>2021-12-21</td>\n",
              "      <td>35069.50</td>\n",
              "      <td>35508.96</td>\n",
              "      <td>35069.50</td>\n",
              "      <td>35492.70</td>\n",
              "    </tr>\n",
              "    <tr>\n",
              "      <th>3</th>\n",
              "      <td>2021-12-20</td>\n",
              "      <td>35222.12</td>\n",
              "      <td>35222.12</td>\n",
              "      <td>34665.50</td>\n",
              "      <td>34932.16</td>\n",
              "    </tr>\n",
              "    <tr>\n",
              "      <th>4</th>\n",
              "      <td>2021-12-17</td>\n",
              "      <td>35800.11</td>\n",
              "      <td>35800.11</td>\n",
              "      <td>35284.26</td>\n",
              "      <td>35365.44</td>\n",
              "    </tr>\n",
              "  </tbody>\n",
              "</table>\n",
              "</div>\n",
              "      <button class=\"colab-df-convert\" onclick=\"convertToInteractive('df-5cf1e309-18a8-4fa9-aff9-403a780592ff')\"\n",
              "              title=\"Convert this dataframe to an interactive table.\"\n",
              "              style=\"display:none;\">\n",
              "        \n",
              "  <svg xmlns=\"http://www.w3.org/2000/svg\" height=\"24px\"viewBox=\"0 0 24 24\"\n",
              "       width=\"24px\">\n",
              "    <path d=\"M0 0h24v24H0V0z\" fill=\"none\"/>\n",
              "    <path d=\"M18.56 5.44l.94 2.06.94-2.06 2.06-.94-2.06-.94-.94-2.06-.94 2.06-2.06.94zm-11 1L8.5 8.5l.94-2.06 2.06-.94-2.06-.94L8.5 2.5l-.94 2.06-2.06.94zm10 10l.94 2.06.94-2.06 2.06-.94-2.06-.94-.94-2.06-.94 2.06-2.06.94z\"/><path d=\"M17.41 7.96l-1.37-1.37c-.4-.4-.92-.59-1.43-.59-.52 0-1.04.2-1.43.59L10.3 9.45l-7.72 7.72c-.78.78-.78 2.05 0 2.83L4 21.41c.39.39.9.59 1.41.59.51 0 1.02-.2 1.41-.59l7.78-7.78 2.81-2.81c.8-.78.8-2.07 0-2.86zM5.41 20L4 18.59l7.72-7.72 1.47 1.35L5.41 20z\"/>\n",
              "  </svg>\n",
              "      </button>\n",
              "      \n",
              "  <style>\n",
              "    .colab-df-container {\n",
              "      display:flex;\n",
              "      flex-wrap:wrap;\n",
              "      gap: 12px;\n",
              "    }\n",
              "\n",
              "    .colab-df-convert {\n",
              "      background-color: #E8F0FE;\n",
              "      border: none;\n",
              "      border-radius: 50%;\n",
              "      cursor: pointer;\n",
              "      display: none;\n",
              "      fill: #1967D2;\n",
              "      height: 32px;\n",
              "      padding: 0 0 0 0;\n",
              "      width: 32px;\n",
              "    }\n",
              "\n",
              "    .colab-df-convert:hover {\n",
              "      background-color: #E2EBFA;\n",
              "      box-shadow: 0px 1px 2px rgba(60, 64, 67, 0.3), 0px 1px 3px 1px rgba(60, 64, 67, 0.15);\n",
              "      fill: #174EA6;\n",
              "    }\n",
              "\n",
              "    [theme=dark] .colab-df-convert {\n",
              "      background-color: #3B4455;\n",
              "      fill: #D2E3FC;\n",
              "    }\n",
              "\n",
              "    [theme=dark] .colab-df-convert:hover {\n",
              "      background-color: #434B5C;\n",
              "      box-shadow: 0px 1px 3px 1px rgba(0, 0, 0, 0.15);\n",
              "      filter: drop-shadow(0px 1px 2px rgba(0, 0, 0, 0.3));\n",
              "      fill: #FFFFFF;\n",
              "    }\n",
              "  </style>\n",
              "\n",
              "      <script>\n",
              "        const buttonEl =\n",
              "          document.querySelector('#df-5cf1e309-18a8-4fa9-aff9-403a780592ff button.colab-df-convert');\n",
              "        buttonEl.style.display =\n",
              "          google.colab.kernel.accessAllowed ? 'block' : 'none';\n",
              "\n",
              "        async function convertToInteractive(key) {\n",
              "          const element = document.querySelector('#df-5cf1e309-18a8-4fa9-aff9-403a780592ff');\n",
              "          const dataTable =\n",
              "            await google.colab.kernel.invokeFunction('convertToInteractive',\n",
              "                                                     [key], {});\n",
              "          if (!dataTable) return;\n",
              "\n",
              "          const docLinkHtml = 'Like what you see? Visit the ' +\n",
              "            '<a target=\"_blank\" href=https://colab.research.google.com/notebooks/data_table.ipynb>data table notebook</a>'\n",
              "            + ' to learn more about interactive tables.';\n",
              "          element.innerHTML = '';\n",
              "          dataTable['output_type'] = 'display_data';\n",
              "          await google.colab.output.renderOutput(dataTable, element);\n",
              "          const docLink = document.createElement('div');\n",
              "          docLink.innerHTML = docLinkHtml;\n",
              "          element.appendChild(docLink);\n",
              "        }\n",
              "      </script>\n",
              "    </div>\n",
              "  </div>\n",
              "  "
            ],
            "text/plain": [
              "        Date      Open      High       Low     Close\n",
              "0 2021-12-23  35782.42  36060.99  35782.42  35950.56\n",
              "1 2021-12-22  35491.71  35764.67  35433.13  35753.89\n",
              "2 2021-12-21  35069.50  35508.96  35069.50  35492.70\n",
              "3 2021-12-20  35222.12  35222.12  34665.50  34932.16\n",
              "4 2021-12-17  35800.11  35800.11  35284.26  35365.44"
            ]
          },
          "metadata": {},
          "execution_count": 11
        }
      ]
    },
    {
      "cell_type": "code",
      "source": [
        "data_Dow_Jones.info()"
      ],
      "metadata": {
        "colab": {
          "base_uri": "https://localhost:8080/"
        },
        "id": "tzjR8Rd3Ct1-",
        "outputId": "fbe7c7ac-f38d-4749-b0b3-9d268a1d11b8"
      },
      "execution_count": null,
      "outputs": [
        {
          "output_type": "stream",
          "name": "stdout",
          "text": [
            "<class 'pandas.core.frame.DataFrame'>\n",
            "RangeIndex: 251 entries, 0 to 250\n",
            "Data columns (total 5 columns):\n",
            " #   Column  Non-Null Count  Dtype         \n",
            "---  ------  --------------  -----         \n",
            " 0   Date    251 non-null    datetime64[ns]\n",
            " 1   Open    251 non-null    float64       \n",
            " 2   High    251 non-null    float64       \n",
            " 3   Low     251 non-null    float64       \n",
            " 4   Close   251 non-null    float64       \n",
            "dtypes: datetime64[ns](1), float64(4)\n",
            "memory usage: 9.9 KB\n"
          ]
        }
      ]
    },
    {
      "cell_type": "code",
      "source": [
        "data_Dow_Jones['Date']"
      ],
      "metadata": {
        "colab": {
          "base_uri": "https://localhost:8080/"
        },
        "id": "LDusAHMtbVzA",
        "outputId": "38e2b065-e30a-4988-a8f8-71dcb5f566ae"
      },
      "execution_count": null,
      "outputs": [
        {
          "output_type": "execute_result",
          "data": {
            "text/plain": [
              "0     2021-12-23\n",
              "1     2021-12-22\n",
              "2     2021-12-21\n",
              "3     2021-12-20\n",
              "4     2021-12-17\n",
              "         ...    \n",
              "246   2021-01-04\n",
              "247   2020-12-31\n",
              "248   2020-12-30\n",
              "249   2020-12-29\n",
              "250   2020-12-28\n",
              "Name: Date, Length: 251, dtype: datetime64[ns]"
            ]
          },
          "metadata": {},
          "execution_count": 25
        }
      ]
    },
    {
      "cell_type": "code",
      "source": [
        "data_Dow_Jones.isnull().sum()"
      ],
      "metadata": {
        "colab": {
          "base_uri": "https://localhost:8080/"
        },
        "id": "BHDwS692cTX6",
        "outputId": "16615dc4-a225-42e2-d9db-dc5de299a744"
      },
      "execution_count": null,
      "outputs": [
        {
          "output_type": "execute_result",
          "data": {
            "text/plain": [
              "Date     0\n",
              "Open     0\n",
              "High     0\n",
              "Low      0\n",
              "Close    0\n",
              "dtype: int64"
            ]
          },
          "metadata": {},
          "execution_count": 9
        }
      ]
    },
    {
      "cell_type": "code",
      "source": [
        "def timeseries_evaluation_metrics_func(y_true, y_pred):\n",
        "    \n",
        "    def mean_absolute_percentage_error(y_true, y_pred): \n",
        "        y_true, y_pred = np.array(y_true), np.array(y_pred)\n",
        "        return np.mean(np.abs((y_true - y_pred) / y_true)) * 100\n",
        "    print('Evaluation metric results:-')\n",
        "    print(f'MSE is : {metrics.mean_squared_error(y_true, y_pred)}')\n",
        "    print(f'MAE is : {metrics.mean_absolute_error(y_true, y_pred)}')\n",
        "    print(f'RMSE is : {np.sqrt(metrics.mean_squared_error(y_true, y_pred))}')\n",
        "    print(f'MAPE is : {mean_absolute_percentage_error(y_true, y_pred)}')\n",
        "    print(f'R2 is : {metrics.r2_score(y_true, y_pred)}',end='\\n\\n')"
      ],
      "metadata": {
        "id": "q_h-LMEzdIkZ"
      },
      "execution_count": 39,
      "outputs": []
    },
    {
      "cell_type": "code",
      "source": [
        "def Augmented_Dickey_Fuller_Test_func(series , column_name):\n",
        "    \n",
        "    print (f'Results of Dickey-Fuller Test for column: {column_name}')\n",
        "    print(type(series))\n",
        "    dftest = adfuller(series.to_numpy(), autolag='AIC')\n",
        "    #print (f'Results of Dickey-Fuller Test for column: {column_name}')\n",
        "    dfoutput = pd.Series(dftest[0:4], index=['Test Statistic','p-value','No Lags Used','Number of Observations Used'])\n",
        "    for key,value in dftest[4].items():\n",
        "       dfoutput['Critical Value (%s)'%key] = value\n",
        "    print (dfoutput)\n",
        "    if dftest[1] <= 0.05:\n",
        "        print(\"Conclusion:\")\n",
        "        print(\"Reject the null hypothesis\")\n",
        "        print(\"Data is stationary\")\n",
        "    else:\n",
        "        print(\"Conclusion:\")\n",
        "        print(\"Fail to reject the null hypothesis\")\n",
        "        print(\"series is non-stationary\")"
      ],
      "metadata": {
        "id": "yOb4-MNaYdmp"
      },
      "execution_count": null,
      "outputs": []
    },
    {
      "cell_type": "code",
      "source": [
        "for name, column in data_Dow_Jones[['Open', 'High', 'Low', 'Close']].iteritems():\n",
        "  #print(data_Dow_Jones[name])\n",
        "  Augmented_Dickey_Fuller_Test_func(data_Dow_Jones[name],name)\n",
        "  print('\\n')"
      ],
      "metadata": {
        "colab": {
          "base_uri": "https://localhost:8080/"
        },
        "id": "iY-BZLhgYmu6",
        "outputId": "b5257b0e-dc73-45bf-f44b-6d1c42bd7a76"
      },
      "execution_count": null,
      "outputs": [
        {
          "output_type": "stream",
          "name": "stdout",
          "text": [
            "Results of Dickey-Fuller Test for column: Open\n",
            "<class 'pandas.core.series.Series'>\n",
            "Test Statistic                  -0.350002\n",
            "p-value                          0.918118\n",
            "No Lags Used                     0.000000\n",
            "Number of Observations Used    250.000000\n",
            "Critical Value (1%)             -3.456781\n",
            "Critical Value (5%)             -2.873172\n",
            "Critical Value (10%)            -2.572969\n",
            "dtype: float64\n",
            "Conclusion:\n",
            "Fail to reject the null hypothesis\n",
            "series is non-stationary\n",
            "\n",
            "\n",
            "Results of Dickey-Fuller Test for column: High\n",
            "<class 'pandas.core.series.Series'>\n",
            "Test Statistic                  -0.046871\n",
            "p-value                          0.954480\n",
            "No Lags Used                     0.000000\n",
            "Number of Observations Used    250.000000\n",
            "Critical Value (1%)             -3.456781\n",
            "Critical Value (5%)             -2.873172\n",
            "Critical Value (10%)            -2.572969\n",
            "dtype: float64\n",
            "Conclusion:\n",
            "Fail to reject the null hypothesis\n",
            "series is non-stationary\n",
            "\n",
            "\n",
            "Results of Dickey-Fuller Test for column: Low\n",
            "<class 'pandas.core.series.Series'>\n",
            "Test Statistic                  -0.631849\n",
            "p-value                          0.863622\n",
            "No Lags Used                     0.000000\n",
            "Number of Observations Used    250.000000\n",
            "Critical Value (1%)             -3.456781\n",
            "Critical Value (5%)             -2.873172\n",
            "Critical Value (10%)            -2.572969\n",
            "dtype: float64\n",
            "Conclusion:\n",
            "Fail to reject the null hypothesis\n",
            "series is non-stationary\n",
            "\n",
            "\n",
            "Results of Dickey-Fuller Test for column: Close\n",
            "<class 'pandas.core.series.Series'>\n",
            "Test Statistic                  -0.641229\n",
            "p-value                          0.861391\n",
            "No Lags Used                     0.000000\n",
            "Number of Observations Used    250.000000\n",
            "Critical Value (1%)             -3.456781\n",
            "Critical Value (5%)             -2.873172\n",
            "Critical Value (10%)            -2.572969\n",
            "dtype: float64\n",
            "Conclusion:\n",
            "Fail to reject the null hypothesis\n",
            "series is non-stationary\n",
            "\n",
            "\n"
          ]
        }
      ]
    },
    {
      "cell_type": "code",
      "source": [
        "X = data_Dow_Jones[['Open', 'High', 'Low', 'Close' ]]\n",
        "train, test = X[0:-30], X[-30:]"
      ],
      "metadata": {
        "id": "2tfv9uJ9dTeW"
      },
      "execution_count": null,
      "outputs": []
    },
    {
      "cell_type": "code",
      "source": [
        "train_diff = train.diff()\n",
        "train_diff.dropna(inplace = True)"
      ],
      "metadata": {
        "id": "4QFwLhrafkC9"
      },
      "execution_count": null,
      "outputs": []
    },
    {
      "cell_type": "code",
      "source": [
        "for name, column in train_diff[['Open', 'High', 'Low', 'Close' ]].iteritems():\n",
        "    Augmented_Dickey_Fuller_Test_func(train_diff[name],name)\n",
        "    print('\\n')"
      ],
      "metadata": {
        "colab": {
          "base_uri": "https://localhost:8080/"
        },
        "id": "oao5AuI1fnRh",
        "outputId": "00614277-c123-4739-fd95-b1f9e8e1b5ed"
      },
      "execution_count": null,
      "outputs": [
        {
          "output_type": "stream",
          "name": "stdout",
          "text": [
            "Results of Dickey-Fuller Test for column: Open\n",
            "<class 'pandas.core.series.Series'>\n",
            "Test Statistic                -1.143022e+01\n",
            "p-value                        6.544481e-21\n",
            "No Lags Used                   1.000000e+00\n",
            "Number of Observations Used    2.180000e+02\n",
            "Critical Value (1%)           -3.460708e+00\n",
            "Critical Value (5%)           -2.874891e+00\n",
            "Critical Value (10%)          -2.573886e+00\n",
            "dtype: float64\n",
            "Conclusion:\n",
            "Reject the null hypothesis\n",
            "Data is stationary\n",
            "\n",
            "\n",
            "Results of Dickey-Fuller Test for column: High\n",
            "<class 'pandas.core.series.Series'>\n",
            "Test Statistic                -1.353339e+01\n",
            "p-value                        2.595505e-25\n",
            "No Lags Used                   0.000000e+00\n",
            "Number of Observations Used    2.190000e+02\n",
            "Critical Value (1%)           -3.460567e+00\n",
            "Critical Value (5%)           -2.874830e+00\n",
            "Critical Value (10%)          -2.573853e+00\n",
            "dtype: float64\n",
            "Conclusion:\n",
            "Reject the null hypothesis\n",
            "Data is stationary\n",
            "\n",
            "\n",
            "Results of Dickey-Fuller Test for column: Low\n",
            "<class 'pandas.core.series.Series'>\n",
            "Test Statistic                -1.138519e+01\n",
            "p-value                        8.323325e-21\n",
            "No Lags Used                   1.000000e+00\n",
            "Number of Observations Used    2.180000e+02\n",
            "Critical Value (1%)           -3.460708e+00\n",
            "Critical Value (5%)           -2.874891e+00\n",
            "Critical Value (10%)          -2.573886e+00\n",
            "dtype: float64\n",
            "Conclusion:\n",
            "Reject the null hypothesis\n",
            "Data is stationary\n",
            "\n",
            "\n",
            "Results of Dickey-Fuller Test for column: Close\n",
            "<class 'pandas.core.series.Series'>\n",
            "Test Statistic                -1.014121e+01\n",
            "p-value                        8.410930e-18\n",
            "No Lags Used                   2.000000e+00\n",
            "Number of Observations Used    2.170000e+02\n",
            "Critical Value (1%)           -3.460849e+00\n",
            "Critical Value (5%)           -2.874953e+00\n",
            "Critical Value (10%)          -2.573919e+00\n",
            "dtype: float64\n",
            "Conclusion:\n",
            "Reject the null hypothesis\n",
            "Data is stationary\n",
            "\n",
            "\n"
          ]
        }
      ]
    },
    {
      "cell_type": "code",
      "source": [
        "from statsmodels.tsa.vector_ar.vecm import coint_johansen\n",
        "\n",
        "def cointegration_test(df): \n",
        "    res = coint_johansen(df,-1,5)\n",
        "    d = {'0.90':0, '0.95':1, '0.99':2}\n",
        "    traces = res.lr1\n",
        "    cvts = res.cvt[:, d[str(1-0.05)]]\n",
        "    def adjust(val, length= 6): \n",
        "        return str(val).ljust(length)\n",
        "    print('Column Name   >  Test Stat > C(95%)    =>   Signif  \\n', '--'*20)\n",
        "    for col, trace, cvt in zip(df.columns, traces, cvts):\n",
        "        print(adjust(col), '> ', adjust(round(trace,2), 9), \">\", adjust(cvt, 8), ' =>  ' , trace > cvt)"
      ],
      "metadata": {
        "id": "Zqdswcbaft5F"
      },
      "execution_count": null,
      "outputs": []
    },
    {
      "cell_type": "code",
      "source": [
        "cointegration_test(train_diff[['Open', 'High', 'Low', 'Close']])"
      ],
      "metadata": {
        "colab": {
          "base_uri": "https://localhost:8080/"
        },
        "id": "RTXOHRxwfzln",
        "outputId": "12fefc82-2911-4808-de33-42a021e1b69f"
      },
      "execution_count": null,
      "outputs": [
        {
          "output_type": "stream",
          "name": "stdout",
          "text": [
            "Column Name   >  Test Stat > C(95%)    =>   Signif  \n",
            " ----------------------------------------\n",
            "Open   >  323.2     > 40.1749   =>   True\n",
            "High   >  210.88    > 24.2761   =>   True\n",
            "Low    >  114.22    > 12.3212   =>   True\n",
            "Close  >  34.34     > 4.1296    =>   True\n"
          ]
        }
      ]
    },
    {
      "cell_type": "code",
      "source": [
        "!pip install pmdarima"
      ],
      "metadata": {
        "colab": {
          "base_uri": "https://localhost:8080/"
        },
        "id": "zX1St5oXgYWV",
        "outputId": "4c049c4d-f732-4ad3-8235-64a4098fabd7"
      },
      "execution_count": null,
      "outputs": [
        {
          "output_type": "stream",
          "name": "stdout",
          "text": [
            "Requirement already satisfied: pmdarima in /usr/local/lib/python3.7/dist-packages (1.8.4)\n",
            "Requirement already satisfied: setuptools!=50.0.0,>=38.6.0 in /usr/local/lib/python3.7/dist-packages (from pmdarima) (57.4.0)\n",
            "Requirement already satisfied: statsmodels!=0.12.0,>=0.11 in /usr/local/lib/python3.7/dist-packages (from pmdarima) (0.13.1)\n",
            "Requirement already satisfied: scikit-learn>=0.22 in /usr/local/lib/python3.7/dist-packages (from pmdarima) (1.0.1)\n",
            "Requirement already satisfied: scipy>=1.3.2 in /usr/local/lib/python3.7/dist-packages (from pmdarima) (1.4.1)\n",
            "Requirement already satisfied: pandas>=0.19 in /usr/local/lib/python3.7/dist-packages (from pmdarima) (1.1.5)\n",
            "Requirement already satisfied: numpy>=1.19.3 in /usr/local/lib/python3.7/dist-packages (from pmdarima) (1.19.5)\n",
            "Requirement already satisfied: joblib>=0.11 in /usr/local/lib/python3.7/dist-packages (from pmdarima) (1.1.0)\n",
            "Requirement already satisfied: urllib3 in /usr/local/lib/python3.7/dist-packages (from pmdarima) (1.24.3)\n",
            "Requirement already satisfied: Cython!=0.29.18,>=0.29 in /usr/local/lib/python3.7/dist-packages (from pmdarima) (0.29.24)\n",
            "Requirement already satisfied: pytz>=2017.2 in /usr/local/lib/python3.7/dist-packages (from pandas>=0.19->pmdarima) (2018.9)\n",
            "Requirement already satisfied: python-dateutil>=2.7.3 in /usr/local/lib/python3.7/dist-packages (from pandas>=0.19->pmdarima) (2.8.2)\n",
            "Requirement already satisfied: six>=1.5 in /usr/local/lib/python3.7/dist-packages (from python-dateutil>=2.7.3->pandas>=0.19->pmdarima) (1.15.0)\n",
            "Requirement already satisfied: threadpoolctl>=2.0.0 in /usr/local/lib/python3.7/dist-packages (from scikit-learn>=0.22->pmdarima) (3.0.0)\n",
            "Requirement already satisfied: patsy>=0.5.2 in /usr/local/lib/python3.7/dist-packages (from statsmodels!=0.12.0,>=0.11->pmdarima) (0.5.2)\n"
          ]
        }
      ]
    },
    {
      "cell_type": "code",
      "source": [
        "from pmdarima import auto_arima"
      ],
      "metadata": {
        "id": "LhGj3Zl3gch4"
      },
      "execution_count": null,
      "outputs": []
    },
    {
      "cell_type": "code",
      "source": [
        "pq = []\n",
        "for name, column in train_diff[[ 'Open', 'High', 'Low', 'Close'  ]].iteritems():\n",
        "    print(f'Searching order of p and q for : {name}')\n",
        "    stepwise_model = auto_arima(train_diff[name],start_p=1, start_q=1,max_p=7, max_q=7, seasonal=False,\n",
        "        trace=True,error_action='ignore',suppress_warnings=True, stepwise=True,maxiter=1000)\n",
        "    parameter = stepwise_model.get_params().get('order')\n",
        "    print(f'optimal order for:{name} is: {parameter} \\n\\n')\n",
        "    pq.append(stepwise_model.get_params().get('order'))"
      ],
      "metadata": {
        "colab": {
          "base_uri": "https://localhost:8080/"
        },
        "id": "BuV1lHuSgt0h",
        "outputId": "cca8a887-dc7f-460f-a5ce-91dcebbb774e"
      },
      "execution_count": null,
      "outputs": [
        {
          "output_type": "stream",
          "name": "stdout",
          "text": [
            "Searching order of p and q for : Open\n",
            "Performing stepwise search to minimize aic\n",
            " ARIMA(1,0,1)(0,0,0)[0]             : AIC=3042.404, Time=0.22 sec\n",
            " ARIMA(0,0,0)(0,0,0)[0]             : AIC=3039.679, Time=0.02 sec\n",
            " ARIMA(1,0,0)(0,0,0)[0]             : AIC=3041.280, Time=0.07 sec\n",
            " ARIMA(0,0,1)(0,0,0)[0]             : AIC=3041.194, Time=0.25 sec\n",
            " ARIMA(0,0,0)(0,0,0)[0] intercept   : AIC=3040.190, Time=0.04 sec\n",
            "\n",
            "Best model:  ARIMA(0,0,0)(0,0,0)[0]          \n",
            "Total fit time: 0.640 seconds\n",
            "optimal order for:Open is: (0, 0, 0) \n",
            "\n",
            "\n",
            "Searching order of p and q for : High\n",
            "Performing stepwise search to minimize aic\n",
            " ARIMA(1,0,1)(0,0,0)[0]             : AIC=2949.170, Time=0.36 sec\n",
            " ARIMA(0,0,0)(0,0,0)[0]             : AIC=2948.417, Time=0.01 sec\n",
            " ARIMA(1,0,0)(0,0,0)[0]             : AIC=2948.260, Time=0.04 sec\n",
            " ARIMA(0,0,1)(0,0,0)[0]             : AIC=2947.755, Time=0.18 sec\n",
            " ARIMA(0,0,2)(0,0,0)[0]             : AIC=2948.306, Time=0.21 sec\n",
            " ARIMA(1,0,2)(0,0,0)[0]             : AIC=2949.347, Time=0.29 sec\n",
            " ARIMA(0,0,1)(0,0,0)[0] intercept   : AIC=2947.722, Time=0.29 sec\n",
            " ARIMA(0,0,0)(0,0,0)[0] intercept   : AIC=2947.951, Time=0.03 sec\n",
            " ARIMA(1,0,1)(0,0,0)[0] intercept   : AIC=2949.019, Time=0.56 sec\n",
            " ARIMA(0,0,2)(0,0,0)[0] intercept   : AIC=2947.792, Time=0.27 sec\n",
            " ARIMA(1,0,0)(0,0,0)[0] intercept   : AIC=2948.200, Time=0.10 sec\n",
            " ARIMA(1,0,2)(0,0,0)[0] intercept   : AIC=2947.937, Time=0.79 sec\n",
            "\n",
            "Best model:  ARIMA(0,0,1)(0,0,0)[0] intercept\n",
            "Total fit time: 3.166 seconds\n",
            "optimal order for:High is: (0, 0, 1) \n",
            "\n",
            "\n",
            "Searching order of p and q for : Low\n",
            "Performing stepwise search to minimize aic\n",
            " ARIMA(1,0,1)(0,0,0)[0]             : AIC=3066.424, Time=0.21 sec\n",
            " ARIMA(0,0,0)(0,0,0)[0]             : AIC=3067.809, Time=0.02 sec\n",
            " ARIMA(1,0,0)(0,0,0)[0]             : AIC=3066.379, Time=0.05 sec\n",
            " ARIMA(0,0,1)(0,0,0)[0]             : AIC=3065.317, Time=0.11 sec\n",
            " ARIMA(0,0,2)(0,0,0)[0]             : AIC=3065.136, Time=0.20 sec\n",
            " ARIMA(1,0,2)(0,0,0)[0]             : AIC=3064.265, Time=0.32 sec\n",
            " ARIMA(2,0,2)(0,0,0)[0]             : AIC=3066.160, Time=0.47 sec\n",
            " ARIMA(1,0,3)(0,0,0)[0]             : AIC=3066.126, Time=0.48 sec\n",
            " ARIMA(0,0,3)(0,0,0)[0]             : AIC=3064.667, Time=0.24 sec\n",
            " ARIMA(2,0,1)(0,0,0)[0]             : AIC=3064.351, Time=0.46 sec\n",
            " ARIMA(2,0,3)(0,0,0)[0]             : AIC=3066.919, Time=0.80 sec\n",
            " ARIMA(1,0,2)(0,0,0)[0] intercept   : AIC=3063.563, Time=0.39 sec\n",
            " ARIMA(0,0,2)(0,0,0)[0] intercept   : AIC=3065.706, Time=0.15 sec\n",
            " ARIMA(1,0,1)(0,0,0)[0] intercept   : AIC=3067.233, Time=0.28 sec\n",
            " ARIMA(2,0,2)(0,0,0)[0] intercept   : AIC=3065.560, Time=0.55 sec\n",
            " ARIMA(1,0,3)(0,0,0)[0] intercept   : AIC=3065.475, Time=0.64 sec\n",
            " ARIMA(0,0,1)(0,0,0)[0] intercept   : AIC=3066.200, Time=0.15 sec\n",
            " ARIMA(0,0,3)(0,0,0)[0] intercept   : AIC=3064.812, Time=0.19 sec\n",
            " ARIMA(2,0,1)(0,0,0)[0] intercept   : AIC=3063.952, Time=0.24 sec\n",
            " ARIMA(2,0,3)(0,0,0)[0] intercept   : AIC=3066.366, Time=0.85 sec\n",
            "\n",
            "Best model:  ARIMA(1,0,2)(0,0,0)[0] intercept\n",
            "Total fit time: 6.841 seconds\n",
            "optimal order for:Low is: (1, 0, 2) \n",
            "\n",
            "\n",
            "Searching order of p and q for : Close\n",
            "Performing stepwise search to minimize aic\n",
            " ARIMA(1,0,1)(0,0,0)[0]             : AIC=3083.552, Time=0.10 sec\n",
            " ARIMA(0,0,0)(0,0,0)[0]             : AIC=3082.663, Time=0.01 sec\n",
            " ARIMA(1,0,0)(0,0,0)[0]             : AIC=3084.500, Time=0.02 sec\n",
            " ARIMA(0,0,1)(0,0,0)[0]             : AIC=3084.467, Time=0.05 sec\n",
            " ARIMA(0,0,0)(0,0,0)[0] intercept   : AIC=3083.348, Time=0.03 sec\n",
            "\n",
            "Best model:  ARIMA(0,0,0)(0,0,0)[0]          \n",
            "Total fit time: 0.205 seconds\n",
            "optimal order for:Close is: (0, 0, 0) \n",
            "\n",
            "\n"
          ]
        }
      ]
    },
    {
      "cell_type": "code",
      "source": [
        "def inverse_diff(actual_df, pred_df):\n",
        "    df_res = pred_df.copy()\n",
        "    columns = actual_df.columns\n",
        "    for col in columns: \n",
        "        df_res[str(col)+'_1st_inv_diff'] = actual_df[col].iloc[-1] + df_res[str(col)].cumsum()\n",
        "    return df_res"
      ],
      "metadata": {
        "id": "asBjkfcjh6rS"
      },
      "execution_count": null,
      "outputs": []
    },
    {
      "cell_type": "code",
      "source": [
        "pq"
      ],
      "metadata": {
        "colab": {
          "base_uri": "https://localhost:8080/"
        },
        "id": "mUEjxK5Lh-Uf",
        "outputId": "75b50871-da3d-41fc-8643-52195ddd7105"
      },
      "execution_count": null,
      "outputs": [
        {
          "output_type": "execute_result",
          "data": {
            "text/plain": [
              "[(0, 0, 0), (0, 0, 1), (1, 0, 2), (0, 0, 0)]"
            ]
          },
          "metadata": {},
          "execution_count": 22
        }
      ]
    },
    {
      "cell_type": "code",
      "source": [
        "df_results_moni = pd.DataFrame(columns=['p', 'q','RMSE Open','RMSE High','RMSE Low','RMSE Close'])\n",
        "print('Grid Search Started')\n",
        "start = timer()\n",
        "for i in pq:\n",
        "    if i[0]== 0 and i[2] ==0:\n",
        "        pass\n",
        "    else:\n",
        "        print(f' Running for {i}')\n",
        "        model = VARMAX(train_diff[[ 'Open', 'High', 'Low', 'Close'   ]], order=(i[0],i[2])).fit( disp=False)\n",
        "        result = model.forecast(steps = 30)\n",
        "        inv_res = inverse_diff(data_Dow_Jones[[ 'Open', 'High', 'Low', 'Close'   ]] , result)\n",
        "        Opensrmse = np.sqrt(metrics.mean_squared_error(test['Open'], inv_res.Open_1st_inv_diff))\n",
        "        Highrmse = np.sqrt(metrics.mean_squared_error(test['High'], inv_res.High_1st_inv_diff))\n",
        "        Lowrmse = np.sqrt(metrics.mean_squared_error(test['Low'], inv_res.Low_1st_inv_diff))\n",
        "        Closermse = np.sqrt(metrics.mean_squared_error(test['Close'], inv_res.Close_1st_inv_diff))\n",
        "        df_results_moni = df_results_moni.append({'p': i[0], 'q': i[2], 'RMSE Open':Opensrmse,'RMSE High':Highrmse,'RMSE Low':Lowrmse,'RMSE Close':Closermse }, ignore_index=True)\n",
        "end = timer()\n",
        "print(f' Total time taken to complete grid search in seconds: {(end - start)}')"
      ],
      "metadata": {
        "colab": {
          "base_uri": "https://localhost:8080/"
        },
        "id": "nZdJs90biBjS",
        "outputId": "03d31623-ba24-48d2-d94c-bdad8b73d8fc"
      },
      "execution_count": null,
      "outputs": [
        {
          "output_type": "stream",
          "name": "stdout",
          "text": [
            "Grid Search Started\n",
            " Running for (0, 0, 1)\n",
            " Running for (1, 0, 2)\n",
            " Total time taken to complete grid search in seconds: 19.038007800000287\n"
          ]
        }
      ]
    },
    {
      "cell_type": "code",
      "source": [
        "df_results_moni.sort_values(by = ['RMSE Open','RMSE High','RMSE Low','RMSE Close'] )"
      ],
      "metadata": {
        "colab": {
          "base_uri": "https://localhost:8080/",
          "height": 111
        },
        "id": "5Zqi8jf0iZa8",
        "outputId": "6c343f38-d19f-46a9-b120-491e73fb5db9"
      },
      "execution_count": null,
      "outputs": [
        {
          "output_type": "execute_result",
          "data": {
            "text/html": [
              "\n",
              "  <div id=\"df-db532df4-4982-43f6-9943-e19245d3796e\">\n",
              "    <div class=\"colab-df-container\">\n",
              "      <div>\n",
              "<style scoped>\n",
              "    .dataframe tbody tr th:only-of-type {\n",
              "        vertical-align: middle;\n",
              "    }\n",
              "\n",
              "    .dataframe tbody tr th {\n",
              "        vertical-align: top;\n",
              "    }\n",
              "\n",
              "    .dataframe thead th {\n",
              "        text-align: right;\n",
              "    }\n",
              "</style>\n",
              "<table border=\"1\" class=\"dataframe\">\n",
              "  <thead>\n",
              "    <tr style=\"text-align: right;\">\n",
              "      <th></th>\n",
              "      <th>p</th>\n",
              "      <th>q</th>\n",
              "      <th>RMSE Open</th>\n",
              "      <th>RMSE High</th>\n",
              "      <th>RMSE Low</th>\n",
              "      <th>RMSE Close</th>\n",
              "    </tr>\n",
              "  </thead>\n",
              "  <tbody>\n",
              "    <tr>\n",
              "      <th>1</th>\n",
              "      <td>1.0</td>\n",
              "      <td>2.0</td>\n",
              "      <td>772.754990</td>\n",
              "      <td>684.152532</td>\n",
              "      <td>565.143333</td>\n",
              "      <td>692.477699</td>\n",
              "    </tr>\n",
              "    <tr>\n",
              "      <th>0</th>\n",
              "      <td>0.0</td>\n",
              "      <td>1.0</td>\n",
              "      <td>862.506186</td>\n",
              "      <td>763.539613</td>\n",
              "      <td>659.625263</td>\n",
              "      <td>763.705642</td>\n",
              "    </tr>\n",
              "  </tbody>\n",
              "</table>\n",
              "</div>\n",
              "      <button class=\"colab-df-convert\" onclick=\"convertToInteractive('df-db532df4-4982-43f6-9943-e19245d3796e')\"\n",
              "              title=\"Convert this dataframe to an interactive table.\"\n",
              "              style=\"display:none;\">\n",
              "        \n",
              "  <svg xmlns=\"http://www.w3.org/2000/svg\" height=\"24px\"viewBox=\"0 0 24 24\"\n",
              "       width=\"24px\">\n",
              "    <path d=\"M0 0h24v24H0V0z\" fill=\"none\"/>\n",
              "    <path d=\"M18.56 5.44l.94 2.06.94-2.06 2.06-.94-2.06-.94-.94-2.06-.94 2.06-2.06.94zm-11 1L8.5 8.5l.94-2.06 2.06-.94-2.06-.94L8.5 2.5l-.94 2.06-2.06.94zm10 10l.94 2.06.94-2.06 2.06-.94-2.06-.94-.94-2.06-.94 2.06-2.06.94z\"/><path d=\"M17.41 7.96l-1.37-1.37c-.4-.4-.92-.59-1.43-.59-.52 0-1.04.2-1.43.59L10.3 9.45l-7.72 7.72c-.78.78-.78 2.05 0 2.83L4 21.41c.39.39.9.59 1.41.59.51 0 1.02-.2 1.41-.59l7.78-7.78 2.81-2.81c.8-.78.8-2.07 0-2.86zM5.41 20L4 18.59l7.72-7.72 1.47 1.35L5.41 20z\"/>\n",
              "  </svg>\n",
              "      </button>\n",
              "      \n",
              "  <style>\n",
              "    .colab-df-container {\n",
              "      display:flex;\n",
              "      flex-wrap:wrap;\n",
              "      gap: 12px;\n",
              "    }\n",
              "\n",
              "    .colab-df-convert {\n",
              "      background-color: #E8F0FE;\n",
              "      border: none;\n",
              "      border-radius: 50%;\n",
              "      cursor: pointer;\n",
              "      display: none;\n",
              "      fill: #1967D2;\n",
              "      height: 32px;\n",
              "      padding: 0 0 0 0;\n",
              "      width: 32px;\n",
              "    }\n",
              "\n",
              "    .colab-df-convert:hover {\n",
              "      background-color: #E2EBFA;\n",
              "      box-shadow: 0px 1px 2px rgba(60, 64, 67, 0.3), 0px 1px 3px 1px rgba(60, 64, 67, 0.15);\n",
              "      fill: #174EA6;\n",
              "    }\n",
              "\n",
              "    [theme=dark] .colab-df-convert {\n",
              "      background-color: #3B4455;\n",
              "      fill: #D2E3FC;\n",
              "    }\n",
              "\n",
              "    [theme=dark] .colab-df-convert:hover {\n",
              "      background-color: #434B5C;\n",
              "      box-shadow: 0px 1px 3px 1px rgba(0, 0, 0, 0.15);\n",
              "      filter: drop-shadow(0px 1px 2px rgba(0, 0, 0, 0.3));\n",
              "      fill: #FFFFFF;\n",
              "    }\n",
              "  </style>\n",
              "\n",
              "      <script>\n",
              "        const buttonEl =\n",
              "          document.querySelector('#df-db532df4-4982-43f6-9943-e19245d3796e button.colab-df-convert');\n",
              "        buttonEl.style.display =\n",
              "          google.colab.kernel.accessAllowed ? 'block' : 'none';\n",
              "\n",
              "        async function convertToInteractive(key) {\n",
              "          const element = document.querySelector('#df-db532df4-4982-43f6-9943-e19245d3796e');\n",
              "          const dataTable =\n",
              "            await google.colab.kernel.invokeFunction('convertToInteractive',\n",
              "                                                     [key], {});\n",
              "          if (!dataTable) return;\n",
              "\n",
              "          const docLinkHtml = 'Like what you see? Visit the ' +\n",
              "            '<a target=\"_blank\" href=https://colab.research.google.com/notebooks/data_table.ipynb>data table notebook</a>'\n",
              "            + ' to learn more about interactive tables.';\n",
              "          element.innerHTML = '';\n",
              "          dataTable['output_type'] = 'display_data';\n",
              "          await google.colab.output.renderOutput(dataTable, element);\n",
              "          const docLink = document.createElement('div');\n",
              "          docLink.innerHTML = docLinkHtml;\n",
              "          element.appendChild(docLink);\n",
              "        }\n",
              "      </script>\n",
              "    </div>\n",
              "  </div>\n",
              "  "
            ],
            "text/plain": [
              "     p    q   RMSE Open   RMSE High    RMSE Low  RMSE Close\n",
              "1  1.0  2.0  772.754990  684.152532  565.143333  692.477699\n",
              "0  0.0  1.0  862.506186  763.539613  659.625263  763.705642"
            ]
          },
          "metadata": {},
          "execution_count": 25
        }
      ]
    },
    {
      "cell_type": "code",
      "source": [
        "# from above example we can see that p=0 and q=2 gives least RMSE\n",
        "model = VARMAX(train_diff[[ 'Open', 'High', 'Low', 'Close' ]], order=(1,2)).fit( disp=False)\n",
        "result = model.forecast(steps = 30)"
      ],
      "metadata": {
        "id": "iyqgDDepjFEO"
      },
      "execution_count": null,
      "outputs": []
    },
    {
      "cell_type": "code",
      "source": [
        "res = inverse_diff(data_Dow_Jones[['Open', 'High', 'Low', 'Close' ]],result)"
      ],
      "metadata": {
        "id": "pQQBX9dEjor_"
      },
      "execution_count": null,
      "outputs": []
    },
    {
      "cell_type": "code",
      "source": [
        "res"
      ],
      "metadata": {
        "colab": {
          "base_uri": "https://localhost:8080/",
          "height": 979
        },
        "id": "Ipd1IkRsjsr7",
        "outputId": "aba667c4-0beb-48e8-b713-115a6c49bb45"
      },
      "execution_count": null,
      "outputs": [
        {
          "output_type": "execute_result",
          "data": {
            "text/html": [
              "\n",
              "  <div id=\"df-41824766-1844-4078-929c-86925454ff6d\">\n",
              "    <div class=\"colab-df-container\">\n",
              "      <div>\n",
              "<style scoped>\n",
              "    .dataframe tbody tr th:only-of-type {\n",
              "        vertical-align: middle;\n",
              "    }\n",
              "\n",
              "    .dataframe tbody tr th {\n",
              "        vertical-align: top;\n",
              "    }\n",
              "\n",
              "    .dataframe thead th {\n",
              "        text-align: right;\n",
              "    }\n",
              "</style>\n",
              "<table border=\"1\" class=\"dataframe\">\n",
              "  <thead>\n",
              "    <tr style=\"text-align: right;\">\n",
              "      <th></th>\n",
              "      <th>Open</th>\n",
              "      <th>High</th>\n",
              "      <th>Low</th>\n",
              "      <th>Close</th>\n",
              "      <th>Open_1st_inv_diff</th>\n",
              "      <th>High_1st_inv_diff</th>\n",
              "      <th>Low_1st_inv_diff</th>\n",
              "      <th>Close_1st_inv_diff</th>\n",
              "    </tr>\n",
              "  </thead>\n",
              "  <tbody>\n",
              "    <tr>\n",
              "      <th>220</th>\n",
              "      <td>20.065936</td>\n",
              "      <td>39.354366</td>\n",
              "      <td>113.555372</td>\n",
              "      <td>7.489467</td>\n",
              "      <td>30303.295936</td>\n",
              "      <td>30564.914366</td>\n",
              "      <td>30396.785372</td>\n",
              "      <td>30411.459467</td>\n",
              "    </tr>\n",
              "    <tr>\n",
              "      <th>221</th>\n",
              "      <td>26.271127</td>\n",
              "      <td>7.047690</td>\n",
              "      <td>19.334130</td>\n",
              "      <td>3.494635</td>\n",
              "      <td>30329.567063</td>\n",
              "      <td>30571.962055</td>\n",
              "      <td>30416.119503</td>\n",
              "      <td>30414.954102</td>\n",
              "    </tr>\n",
              "    <tr>\n",
              "      <th>222</th>\n",
              "      <td>-23.054116</td>\n",
              "      <td>0.018618</td>\n",
              "      <td>4.676603</td>\n",
              "      <td>24.896310</td>\n",
              "      <td>30306.512947</td>\n",
              "      <td>30571.980674</td>\n",
              "      <td>30420.796105</td>\n",
              "      <td>30439.850413</td>\n",
              "    </tr>\n",
              "    <tr>\n",
              "      <th>223</th>\n",
              "      <td>-18.369231</td>\n",
              "      <td>-24.761648</td>\n",
              "      <td>-27.404379</td>\n",
              "      <td>-31.851058</td>\n",
              "      <td>30288.143716</td>\n",
              "      <td>30547.219025</td>\n",
              "      <td>30393.391726</td>\n",
              "      <td>30407.999354</td>\n",
              "    </tr>\n",
              "    <tr>\n",
              "      <th>224</th>\n",
              "      <td>-17.793494</td>\n",
              "      <td>-18.398724</td>\n",
              "      <td>-14.437002</td>\n",
              "      <td>-15.576222</td>\n",
              "      <td>30270.350222</td>\n",
              "      <td>30528.820301</td>\n",
              "      <td>30378.954724</td>\n",
              "      <td>30392.423132</td>\n",
              "    </tr>\n",
              "    <tr>\n",
              "      <th>225</th>\n",
              "      <td>-17.875976</td>\n",
              "      <td>-18.655177</td>\n",
              "      <td>-17.763741</td>\n",
              "      <td>-18.259786</td>\n",
              "      <td>30252.474246</td>\n",
              "      <td>30510.165124</td>\n",
              "      <td>30361.190984</td>\n",
              "      <td>30374.163346</td>\n",
              "    </tr>\n",
              "    <tr>\n",
              "      <th>226</th>\n",
              "      <td>-17.985569</td>\n",
              "      <td>-18.996888</td>\n",
              "      <td>-16.933196</td>\n",
              "      <td>-17.813110</td>\n",
              "      <td>30234.488677</td>\n",
              "      <td>30491.168236</td>\n",
              "      <td>30344.257787</td>\n",
              "      <td>30356.350236</td>\n",
              "    </tr>\n",
              "    <tr>\n",
              "      <th>227</th>\n",
              "      <td>-17.921322</td>\n",
              "      <td>-18.819864</td>\n",
              "      <td>-17.194517</td>\n",
              "      <td>-17.991657</td>\n",
              "      <td>30216.567355</td>\n",
              "      <td>30472.348372</td>\n",
              "      <td>30327.063271</td>\n",
              "      <td>30338.358579</td>\n",
              "    </tr>\n",
              "    <tr>\n",
              "      <th>228</th>\n",
              "      <td>-17.941797</td>\n",
              "      <td>-18.903323</td>\n",
              "      <td>-17.109203</td>\n",
              "      <td>-17.913644</td>\n",
              "      <td>30198.625559</td>\n",
              "      <td>30453.445049</td>\n",
              "      <td>30309.954068</td>\n",
              "      <td>30320.444935</td>\n",
              "    </tr>\n",
              "    <tr>\n",
              "      <th>229</th>\n",
              "      <td>-17.937553</td>\n",
              "      <td>-18.856516</td>\n",
              "      <td>-17.127243</td>\n",
              "      <td>-17.933329</td>\n",
              "      <td>30180.688005</td>\n",
              "      <td>30434.588533</td>\n",
              "      <td>30292.826825</td>\n",
              "      <td>30302.511606</td>\n",
              "    </tr>\n",
              "    <tr>\n",
              "      <th>230</th>\n",
              "      <td>-17.937613</td>\n",
              "      <td>-18.883950</td>\n",
              "      <td>-17.130967</td>\n",
              "      <td>-17.935480</td>\n",
              "      <td>30162.750392</td>\n",
              "      <td>30415.704584</td>\n",
              "      <td>30275.695858</td>\n",
              "      <td>30284.576126</td>\n",
              "    </tr>\n",
              "    <tr>\n",
              "      <th>231</th>\n",
              "      <td>-17.938303</td>\n",
              "      <td>-18.868518</td>\n",
              "      <td>-17.123411</td>\n",
              "      <td>-17.929124</td>\n",
              "      <td>30144.812089</td>\n",
              "      <td>30396.836065</td>\n",
              "      <td>30258.572447</td>\n",
              "      <td>30266.647002</td>\n",
              "    </tr>\n",
              "    <tr>\n",
              "      <th>232</th>\n",
              "      <td>-17.937665</td>\n",
              "      <td>-18.876828</td>\n",
              "      <td>-17.129550</td>\n",
              "      <td>-17.934397</td>\n",
              "      <td>30126.874423</td>\n",
              "      <td>30377.959238</td>\n",
              "      <td>30241.442897</td>\n",
              "      <td>30248.712605</td>\n",
              "    </tr>\n",
              "    <tr>\n",
              "      <th>233</th>\n",
              "      <td>-17.938112</td>\n",
              "      <td>-18.872477</td>\n",
              "      <td>-17.125519</td>\n",
              "      <td>-17.930925</td>\n",
              "      <td>30108.936311</td>\n",
              "      <td>30359.086761</td>\n",
              "      <td>30224.317378</td>\n",
              "      <td>30230.781680</td>\n",
              "    </tr>\n",
              "    <tr>\n",
              "      <th>234</th>\n",
              "      <td>-17.937834</td>\n",
              "      <td>-18.874716</td>\n",
              "      <td>-17.127926</td>\n",
              "      <td>-17.933001</td>\n",
              "      <td>30090.998477</td>\n",
              "      <td>30340.212045</td>\n",
              "      <td>30207.189452</td>\n",
              "      <td>30212.848679</td>\n",
              "    </tr>\n",
              "    <tr>\n",
              "      <th>235</th>\n",
              "      <td>-17.937995</td>\n",
              "      <td>-18.873578</td>\n",
              "      <td>-17.126565</td>\n",
              "      <td>-17.931825</td>\n",
              "      <td>30073.060482</td>\n",
              "      <td>30321.338467</td>\n",
              "      <td>30190.062887</td>\n",
              "      <td>30194.916853</td>\n",
              "    </tr>\n",
              "    <tr>\n",
              "      <th>236</th>\n",
              "      <td>-17.937906</td>\n",
              "      <td>-18.874150</td>\n",
              "      <td>-17.127307</td>\n",
              "      <td>-17.932468</td>\n",
              "      <td>30055.122575</td>\n",
              "      <td>30302.464317</td>\n",
              "      <td>30172.935580</td>\n",
              "      <td>30176.984385</td>\n",
              "    </tr>\n",
              "    <tr>\n",
              "      <th>237</th>\n",
              "      <td>-17.937954</td>\n",
              "      <td>-18.873865</td>\n",
              "      <td>-17.126913</td>\n",
              "      <td>-17.932126</td>\n",
              "      <td>30037.184621</td>\n",
              "      <td>30283.590451</td>\n",
              "      <td>30155.808667</td>\n",
              "      <td>30159.052259</td>\n",
              "    </tr>\n",
              "    <tr>\n",
              "      <th>238</th>\n",
              "      <td>-17.937929</td>\n",
              "      <td>-18.874006</td>\n",
              "      <td>-17.127118</td>\n",
              "      <td>-17.932304</td>\n",
              "      <td>30019.246693</td>\n",
              "      <td>30264.716446</td>\n",
              "      <td>30138.681549</td>\n",
              "      <td>30141.119955</td>\n",
              "    </tr>\n",
              "    <tr>\n",
              "      <th>239</th>\n",
              "      <td>-17.937942</td>\n",
              "      <td>-18.873937</td>\n",
              "      <td>-17.127013</td>\n",
              "      <td>-17.932213</td>\n",
              "      <td>30001.308751</td>\n",
              "      <td>30245.842509</td>\n",
              "      <td>30121.554536</td>\n",
              "      <td>30123.187742</td>\n",
              "    </tr>\n",
              "    <tr>\n",
              "      <th>240</th>\n",
              "      <td>-17.937935</td>\n",
              "      <td>-18.873971</td>\n",
              "      <td>-17.127066</td>\n",
              "      <td>-17.932259</td>\n",
              "      <td>29983.370815</td>\n",
              "      <td>30226.968538</td>\n",
              "      <td>30104.427470</td>\n",
              "      <td>30105.255483</td>\n",
              "    </tr>\n",
              "    <tr>\n",
              "      <th>241</th>\n",
              "      <td>-17.937939</td>\n",
              "      <td>-18.873954</td>\n",
              "      <td>-17.127039</td>\n",
              "      <td>-17.932236</td>\n",
              "      <td>29965.432877</td>\n",
              "      <td>30208.094584</td>\n",
              "      <td>30087.300431</td>\n",
              "      <td>30087.323247</td>\n",
              "    </tr>\n",
              "    <tr>\n",
              "      <th>242</th>\n",
              "      <td>-17.937937</td>\n",
              "      <td>-18.873962</td>\n",
              "      <td>-17.127053</td>\n",
              "      <td>-17.932247</td>\n",
              "      <td>29947.494940</td>\n",
              "      <td>30189.220622</td>\n",
              "      <td>30070.173378</td>\n",
              "      <td>30069.391000</td>\n",
              "    </tr>\n",
              "    <tr>\n",
              "      <th>243</th>\n",
              "      <td>-17.937938</td>\n",
              "      <td>-18.873958</td>\n",
              "      <td>-17.127046</td>\n",
              "      <td>-17.932242</td>\n",
              "      <td>29929.557002</td>\n",
              "      <td>30170.346663</td>\n",
              "      <td>30053.046332</td>\n",
              "      <td>30051.458758</td>\n",
              "    </tr>\n",
              "    <tr>\n",
              "      <th>244</th>\n",
              "      <td>-17.937937</td>\n",
              "      <td>-18.873960</td>\n",
              "      <td>-17.127049</td>\n",
              "      <td>-17.932245</td>\n",
              "      <td>29911.619065</td>\n",
              "      <td>30151.472703</td>\n",
              "      <td>30035.919283</td>\n",
              "      <td>30033.526514</td>\n",
              "    </tr>\n",
              "    <tr>\n",
              "      <th>245</th>\n",
              "      <td>-17.937938</td>\n",
              "      <td>-18.873959</td>\n",
              "      <td>-17.127048</td>\n",
              "      <td>-17.932243</td>\n",
              "      <td>29893.681127</td>\n",
              "      <td>30132.598744</td>\n",
              "      <td>30018.792235</td>\n",
              "      <td>30015.594270</td>\n",
              "    </tr>\n",
              "    <tr>\n",
              "      <th>246</th>\n",
              "      <td>-17.937937</td>\n",
              "      <td>-18.873960</td>\n",
              "      <td>-17.127049</td>\n",
              "      <td>-17.932244</td>\n",
              "      <td>29875.743190</td>\n",
              "      <td>30113.724784</td>\n",
              "      <td>30001.665186</td>\n",
              "      <td>29997.662027</td>\n",
              "    </tr>\n",
              "    <tr>\n",
              "      <th>247</th>\n",
              "      <td>-17.937937</td>\n",
              "      <td>-18.873960</td>\n",
              "      <td>-17.127048</td>\n",
              "      <td>-17.932244</td>\n",
              "      <td>29857.805252</td>\n",
              "      <td>30094.850824</td>\n",
              "      <td>29984.538138</td>\n",
              "      <td>29979.729783</td>\n",
              "    </tr>\n",
              "    <tr>\n",
              "      <th>248</th>\n",
              "      <td>-17.937937</td>\n",
              "      <td>-18.873960</td>\n",
              "      <td>-17.127048</td>\n",
              "      <td>-17.932244</td>\n",
              "      <td>29839.867315</td>\n",
              "      <td>30075.976865</td>\n",
              "      <td>29967.411090</td>\n",
              "      <td>29961.797539</td>\n",
              "    </tr>\n",
              "    <tr>\n",
              "      <th>249</th>\n",
              "      <td>-17.937937</td>\n",
              "      <td>-18.873960</td>\n",
              "      <td>-17.127048</td>\n",
              "      <td>-17.932244</td>\n",
              "      <td>29821.929378</td>\n",
              "      <td>30057.102905</td>\n",
              "      <td>29950.284041</td>\n",
              "      <td>29943.865296</td>\n",
              "    </tr>\n",
              "  </tbody>\n",
              "</table>\n",
              "</div>\n",
              "      <button class=\"colab-df-convert\" onclick=\"convertToInteractive('df-41824766-1844-4078-929c-86925454ff6d')\"\n",
              "              title=\"Convert this dataframe to an interactive table.\"\n",
              "              style=\"display:none;\">\n",
              "        \n",
              "  <svg xmlns=\"http://www.w3.org/2000/svg\" height=\"24px\"viewBox=\"0 0 24 24\"\n",
              "       width=\"24px\">\n",
              "    <path d=\"M0 0h24v24H0V0z\" fill=\"none\"/>\n",
              "    <path d=\"M18.56 5.44l.94 2.06.94-2.06 2.06-.94-2.06-.94-.94-2.06-.94 2.06-2.06.94zm-11 1L8.5 8.5l.94-2.06 2.06-.94-2.06-.94L8.5 2.5l-.94 2.06-2.06.94zm10 10l.94 2.06.94-2.06 2.06-.94-2.06-.94-.94-2.06-.94 2.06-2.06.94z\"/><path d=\"M17.41 7.96l-1.37-1.37c-.4-.4-.92-.59-1.43-.59-.52 0-1.04.2-1.43.59L10.3 9.45l-7.72 7.72c-.78.78-.78 2.05 0 2.83L4 21.41c.39.39.9.59 1.41.59.51 0 1.02-.2 1.41-.59l7.78-7.78 2.81-2.81c.8-.78.8-2.07 0-2.86zM5.41 20L4 18.59l7.72-7.72 1.47 1.35L5.41 20z\"/>\n",
              "  </svg>\n",
              "      </button>\n",
              "      \n",
              "  <style>\n",
              "    .colab-df-container {\n",
              "      display:flex;\n",
              "      flex-wrap:wrap;\n",
              "      gap: 12px;\n",
              "    }\n",
              "\n",
              "    .colab-df-convert {\n",
              "      background-color: #E8F0FE;\n",
              "      border: none;\n",
              "      border-radius: 50%;\n",
              "      cursor: pointer;\n",
              "      display: none;\n",
              "      fill: #1967D2;\n",
              "      height: 32px;\n",
              "      padding: 0 0 0 0;\n",
              "      width: 32px;\n",
              "    }\n",
              "\n",
              "    .colab-df-convert:hover {\n",
              "      background-color: #E2EBFA;\n",
              "      box-shadow: 0px 1px 2px rgba(60, 64, 67, 0.3), 0px 1px 3px 1px rgba(60, 64, 67, 0.15);\n",
              "      fill: #174EA6;\n",
              "    }\n",
              "\n",
              "    [theme=dark] .colab-df-convert {\n",
              "      background-color: #3B4455;\n",
              "      fill: #D2E3FC;\n",
              "    }\n",
              "\n",
              "    [theme=dark] .colab-df-convert:hover {\n",
              "      background-color: #434B5C;\n",
              "      box-shadow: 0px 1px 3px 1px rgba(0, 0, 0, 0.15);\n",
              "      filter: drop-shadow(0px 1px 2px rgba(0, 0, 0, 0.3));\n",
              "      fill: #FFFFFF;\n",
              "    }\n",
              "  </style>\n",
              "\n",
              "      <script>\n",
              "        const buttonEl =\n",
              "          document.querySelector('#df-41824766-1844-4078-929c-86925454ff6d button.colab-df-convert');\n",
              "        buttonEl.style.display =\n",
              "          google.colab.kernel.accessAllowed ? 'block' : 'none';\n",
              "\n",
              "        async function convertToInteractive(key) {\n",
              "          const element = document.querySelector('#df-41824766-1844-4078-929c-86925454ff6d');\n",
              "          const dataTable =\n",
              "            await google.colab.kernel.invokeFunction('convertToInteractive',\n",
              "                                                     [key], {});\n",
              "          if (!dataTable) return;\n",
              "\n",
              "          const docLinkHtml = 'Like what you see? Visit the ' +\n",
              "            '<a target=\"_blank\" href=https://colab.research.google.com/notebooks/data_table.ipynb>data table notebook</a>'\n",
              "            + ' to learn more about interactive tables.';\n",
              "          element.innerHTML = '';\n",
              "          dataTable['output_type'] = 'display_data';\n",
              "          await google.colab.output.renderOutput(dataTable, element);\n",
              "          const docLink = document.createElement('div');\n",
              "          docLink.innerHTML = docLinkHtml;\n",
              "          element.appendChild(docLink);\n",
              "        }\n",
              "      </script>\n",
              "    </div>\n",
              "  </div>\n",
              "  "
            ],
            "text/plain": [
              "          Open       High  ...  Low_1st_inv_diff  Close_1st_inv_diff\n",
              "220  20.065936  39.354366  ...      30396.785372        30411.459467\n",
              "221  26.271127   7.047690  ...      30416.119503        30414.954102\n",
              "222 -23.054116   0.018618  ...      30420.796105        30439.850413\n",
              "223 -18.369231 -24.761648  ...      30393.391726        30407.999354\n",
              "224 -17.793494 -18.398724  ...      30378.954724        30392.423132\n",
              "225 -17.875976 -18.655177  ...      30361.190984        30374.163346\n",
              "226 -17.985569 -18.996888  ...      30344.257787        30356.350236\n",
              "227 -17.921322 -18.819864  ...      30327.063271        30338.358579\n",
              "228 -17.941797 -18.903323  ...      30309.954068        30320.444935\n",
              "229 -17.937553 -18.856516  ...      30292.826825        30302.511606\n",
              "230 -17.937613 -18.883950  ...      30275.695858        30284.576126\n",
              "231 -17.938303 -18.868518  ...      30258.572447        30266.647002\n",
              "232 -17.937665 -18.876828  ...      30241.442897        30248.712605\n",
              "233 -17.938112 -18.872477  ...      30224.317378        30230.781680\n",
              "234 -17.937834 -18.874716  ...      30207.189452        30212.848679\n",
              "235 -17.937995 -18.873578  ...      30190.062887        30194.916853\n",
              "236 -17.937906 -18.874150  ...      30172.935580        30176.984385\n",
              "237 -17.937954 -18.873865  ...      30155.808667        30159.052259\n",
              "238 -17.937929 -18.874006  ...      30138.681549        30141.119955\n",
              "239 -17.937942 -18.873937  ...      30121.554536        30123.187742\n",
              "240 -17.937935 -18.873971  ...      30104.427470        30105.255483\n",
              "241 -17.937939 -18.873954  ...      30087.300431        30087.323247\n",
              "242 -17.937937 -18.873962  ...      30070.173378        30069.391000\n",
              "243 -17.937938 -18.873958  ...      30053.046332        30051.458758\n",
              "244 -17.937937 -18.873960  ...      30035.919283        30033.526514\n",
              "245 -17.937938 -18.873959  ...      30018.792235        30015.594270\n",
              "246 -17.937937 -18.873960  ...      30001.665186        29997.662027\n",
              "247 -17.937937 -18.873960  ...      29984.538138        29979.729783\n",
              "248 -17.937937 -18.873960  ...      29967.411090        29961.797539\n",
              "249 -17.937937 -18.873960  ...      29950.284041        29943.865296\n",
              "\n",
              "[30 rows x 8 columns]"
            ]
          },
          "metadata": {},
          "execution_count": 28
        }
      ]
    },
    {
      "cell_type": "code",
      "source": [
        "for i in ['Open', 'High', 'Low', 'Close' ]:\n",
        "    print(f'Evaluation metric for {i}')\n",
        "    timeseries_evaluation_metrics_func(test[str(i)] , res[str(i)+'_1st_inv_diff'])"
      ],
      "metadata": {
        "colab": {
          "base_uri": "https://localhost:8080/"
        },
        "id": "G2JF2FGDkQez",
        "outputId": "8b1d404e-d1ab-4d07-f6de-d2c110f40545"
      },
      "execution_count": null,
      "outputs": [
        {
          "output_type": "stream",
          "name": "stdout",
          "text": [
            "Evaluation metric for Open\n",
            "Evaluation metric results:-\n",
            "MSE is : 597150.2752610637\n",
            "MAE is : 708.8245950877065\n",
            "RMSE is : 772.7549904472074\n",
            "MAPE is : 2.293200228584371\n",
            "R2 is : -3.9594940593535144\n",
            "\n",
            "Evaluation metric for High\n",
            "Evaluation metric results:-\n",
            "MSE is : 468064.6870669973\n",
            "MAE is : 637.994887421389\n",
            "RMSE is : 684.1525320182608\n",
            "MAPE is : 2.0548644069168445\n",
            "R2 is : -4.600098198969386\n",
            "\n",
            "Evaluation metric for Low\n",
            "Evaluation metric results:-\n",
            "MSE is : 319386.98640223657\n",
            "MAE is : 494.4511000956702\n",
            "RMSE is : 565.1433326176967\n",
            "MAPE is : 1.6056740261047733\n",
            "R2 is : -1.0802724184457428\n",
            "\n",
            "Evaluation metric for Close\n",
            "Evaluation metric results:-\n",
            "MSE is : 479525.36397752835\n",
            "MAE is : 630.2490417852598\n",
            "RMSE is : 692.4776992636863\n",
            "MAPE is : 2.036938588281104\n",
            "R2 is : -2.595498224265956\n",
            "\n"
          ]
        }
      ]
    },
    {
      "cell_type": "code",
      "source": [
        "import matplotlib.pyplot as plt\n",
        "%matplotlib inline\n",
        "for i in ['Open', 'High', 'Low', 'Close' ]:\n",
        "    \n",
        "    plt.rcParams[\"figure.figsize\"] = [10,7]\n",
        "    plt.plot( train[str(i)], label='Train '+str(i))\n",
        "    plt.plot(test[str(i)], label='Test '+str(i))\n",
        "    plt.plot(res[str(i)+'_1st_inv_diff'], label='Predicted '+str(i))\n",
        "    plt.legend(loc='best')\n",
        "    plt.show()"
      ],
      "metadata": {
        "colab": {
          "base_uri": "https://localhost:8080/",
          "height": 1000
        },
        "id": "a8j37gzMkR_I",
        "outputId": "3cef1711-bcaf-4fd2-a0bd-bf8ed754a9ef"
      },
      "execution_count": null,
      "outputs": [
        {
          "output_type": "display_data",
          "data": {
            "image/png": "[encoded data removed]",
            "text/plain": [
              "<Figure size 720x504 with 1 Axes>"
            ]
          },
          "metadata": {
            "needs_background": "light"
          }
        },
        {
          "output_type": "display_data",
          "data": {
            "image/png": "[encoded data removed]",
            "text/plain": [
              "<Figure size 720x504 with 1 Axes>"
            ]
          },
          "metadata": {
            "needs_background": "light"
          }
        },
        {
          "output_type": "display_data",
          "data": {
            "image/png": "[encoded data removed]",
            "text/plain": [
              "<Figure size 720x504 with 1 Axes>"
            ]
          },
          "metadata": {
            "needs_background": "light"
          }
        },
        {
          "output_type": "display_data",
          "data": {
            "image/png": "[encoded data removed]",
            "text/plain": [
              "<Figure size 720x504 with 1 Axes>"
            ]
          },
          "metadata": {
            "needs_background": "light"
          }
        }
      ]
    },
    {
      "cell_type": "markdown",
      "source": [
        "***LSTM***\n",
        "1. https://www.kaggle.com/nicapotato/keras-timeseries-multi-step-multi-output\n",
        "2. https://www.kaggle.com/questions-and-answers/76788\n",
        "3. https://www.kdnuggets.com/2021/10/multivariate-time-series-analysis-lstm-based-rnn.html\n",
        "4. https://towardsdatascience.com/cnn-lstm-based-models-for-multiple-parallel-input-and-multi-step-forecast-6fe2172f7668\n",
        "5. https://pangkh98.medium.com/multi-step-multivariate-time-series-forecasting-using-lstm-92c6d22cd9c2\n",
        "6. https://github.com/awslabs/gluon-ts/issues/1095\n",
        "7. https://www.youtube.com/watch?v=UhxCsweuKE4\n",
        "8. https://www.hcltech.com/blogs/forecasting-model-innovations-power-ai-transformation\n",
        "9. https://ts.gluon.ai/api/gluonts/gluonts.model.deepar.html\n",
        "10. https://github.com/awslabs/gluon-ts/issues/1095\n",
        "11. https://stackoverflow.com/questions/56196993/time-series-forecasting-with-deepar-for-multiple-independent-products\n",
        "12. https://towardsdatascience.com/deep-learning-for-time-series-data-ed410da30798\n",
        "13. https://www.youtube.com/watch?v=xcbj0RE3kfI  (DeepAR univariate)\n",
        "14. https://stackoverflow.com/questions/41947039/keras-rnn-with-lstm-cells-for-predicting-multiple-output-time-series-based-on-mu\n",
        "15. https://datascience.stackexchange.com/questions/44249/using-lstms-on-multivariate-input-and-multivariate-output\n",
        "16. https://datascience.stackexchange.com/questions/44249/using-lstms-on-multivariate-input-and-multivariate-output\n",
        "17. https://machinelearningmastery.com/multivariate-time-series-forecasting-lstms-keras/\n",
        "18. https://colab.research.google.com/drive/1JwDl3HZ9SfvV5crtjbuFPaU_T7Q1y34w?usp=sharing\n",
        "19. https://www.analyticsvidhya.com/blog/2020/10/multivariate-multi-step-time-series-forecasting-using-stacked-lstm-sequence-to-sequence-autoencoder-in-tensorflow-2-0-keras/\n",
        "20. https://github.com/niklascp/bus-arrival-convlstm/blob/master/jupyter/ConvLSTM_3x15min_10x64-5x64-10x64-5x64.ipynb\n",
        "21. https://www.kaggle.com/nicapotato/keras-timeseries-multi-step-multi-output\n",
        "22. https://machinelearningmastery.com/how-to-develop-lstm-models-for-multi-step-time-series-forecasting-of-household-power-consumption/\n",
        "23. https://www.kaggle.com/questions-and-answers/76788\n",
        "24. https://ts.gluon.ai/tutorials/forecasting/extended_tutorial.html\n"
      ],
      "metadata": {
        "id": "Z6i93k82nomk"
      }
    },
    {
      "cell_type": "code",
      "source": [
        "features = ['Open', 'High', 'Low', 'Close' ]"
      ],
      "metadata": {
        "id": "UneS2UY9PKEZ"
      },
      "execution_count": null,
      "outputs": []
    },
    {
      "cell_type": "code",
      "source": [
        "X = data_Dow_Jones[['Open', 'High', 'Low', 'Close' ]]\n",
        "train, test = X[0:-30], X[-30:]"
      ],
      "metadata": {
        "id": "Q5qnjr7TPqC8"
      },
      "execution_count": null,
      "outputs": []
    },
    {
      "cell_type": "code",
      "source": [
        "data_mean = train.mean(axis=0)\n",
        "data_std = train.std(axis=0)\n",
        "dataset = (train-data_mean)/data_std"
      ],
      "metadata": {
        "id": "FbebZEKCnrJF"
      },
      "execution_count": null,
      "outputs": []
    },
    {
      "cell_type": "code",
      "source": [
        "dataset.info()"
      ],
      "metadata": {
        "colab": {
          "base_uri": "https://localhost:8080/"
        },
        "id": "YXPUl4u-QKfK",
        "outputId": "f209d2ec-44df-4c8a-f585-2710fd80f2fb"
      },
      "execution_count": null,
      "outputs": [
        {
          "output_type": "stream",
          "name": "stdout",
          "text": [
            "<class 'pandas.core.frame.DataFrame'>\n",
            "RangeIndex: 221 entries, 0 to 220\n",
            "Data columns (total 4 columns):\n",
            " #   Column  Non-Null Count  Dtype  \n",
            "---  ------  --------------  -----  \n",
            " 0   Open    221 non-null    float64\n",
            " 1   High    221 non-null    float64\n",
            " 2   Low     221 non-null    float64\n",
            " 3   Close   221 non-null    float64\n",
            "dtypes: float64(4)\n",
            "memory usage: 7.0 KB\n"
          ]
        }
      ]
    },
    {
      "cell_type": "code",
      "source": [
        "dataset = pd.DataFrame(dataset)"
      ],
      "metadata": {
        "id": "60hMCbJhQa7F"
      },
      "execution_count": null,
      "outputs": []
    },
    {
      "cell_type": "code",
      "source": [
        "dataset.plot(subplots=True)"
      ],
      "metadata": {
        "colab": {
          "base_uri": "https://localhost:8080/",
          "height": 337
        },
        "id": "U87xx_yAQpVn",
        "outputId": "b754197f-8b95-416c-a36f-678d03928c57"
      },
      "execution_count": null,
      "outputs": [
        {
          "output_type": "execute_result",
          "data": {
            "text/plain": [
              "array([<matplotlib.axes._subplots.AxesSubplot object at 0x7f7cdc2a8510>,\n",
              "       <matplotlib.axes._subplots.AxesSubplot object at 0x7f7cdc27cb90>,\n",
              "       <matplotlib.axes._subplots.AxesSubplot object at 0x7f7cdc2a8110>,\n",
              "       <matplotlib.axes._subplots.AxesSubplot object at 0x7f7cdc1fe210>],\n",
              "      dtype=object)"
            ]
          },
          "metadata": {},
          "execution_count": 13
        },
        {
          "output_type": "display_data",
          "data": {
            "image/png": "[encoded data removed]",
            "text/plain": [
              "<Figure size 432x288 with 4 Axes>"
            ]
          },
          "metadata": {
            "needs_background": "light"
          }
        }
      ]
    },
    {
      "cell_type": "code",
      "source": [
        "!pip install --upgrade mxnet==1.6.0\n",
        "!pip install gluonts"
      ],
      "metadata": {
        "colab": {
          "base_uri": "https://localhost:8080/"
        },
        "id": "ubJ9Y0Z0XNx1",
        "outputId": "e8c1ca7c-b519-45d8-afae-d7b4d68d16bc"
      },
      "execution_count": null,
      "outputs": [
        {
          "output_type": "stream",
          "name": "stdout",
          "text": [
            "Collecting mxnet==1.6.0\n",
            "  Downloading mxnet-1.6.0-py2.py3-none-any.whl (68.7 MB)\n",
            "\u001b[K     |████████████████████████████████| 68.7 MB 93 kB/s \n",
            "\u001b[?25hRequirement already satisfied: requests<3,>=2.20.0 in /usr/local/lib/python3.7/dist-packages (from mxnet==1.6.0) (2.23.0)\n",
            "Requirement already satisfied: numpy<2.0.0,>1.16.0 in /usr/local/lib/python3.7/dist-packages (from mxnet==1.6.0) (1.19.5)\n",
            "Collecting graphviz<0.9.0,>=0.8.1\n",
            "  Downloading graphviz-0.8.4-py2.py3-none-any.whl (16 kB)\n",
            "Requirement already satisfied: chardet<4,>=3.0.2 in /usr/local/lib/python3.7/dist-packages (from requests<3,>=2.20.0->mxnet==1.6.0) (3.0.4)\n",
            "Requirement already satisfied: certifi>=2017.4.17 in /usr/local/lib/python3.7/dist-packages (from requests<3,>=2.20.0->mxnet==1.6.0) (2021.10.8)\n",
            "Requirement already satisfied: idna<3,>=2.5 in /usr/local/lib/python3.7/dist-packages (from requests<3,>=2.20.0->mxnet==1.6.0) (2.10)\n",
            "Requirement already satisfied: urllib3!=1.25.0,!=1.25.1,<1.26,>=1.21.1 in /usr/local/lib/python3.7/dist-packages (from requests<3,>=2.20.0->mxnet==1.6.0) (1.24.3)\n",
            "Installing collected packages: graphviz, mxnet\n",
            "  Attempting uninstall: graphviz\n",
            "    Found existing installation: graphviz 0.10.1\n",
            "    Uninstalling graphviz-0.10.1:\n",
            "      Successfully uninstalled graphviz-0.10.1\n",
            "Successfully installed graphviz-0.8.4 mxnet-1.6.0\n",
            "Collecting gluonts\n",
            "  Downloading gluonts-0.8.1-py3-none-any.whl (2.1 MB)\n",
            "\u001b[K     |████████████████████████████████| 2.1 MB 5.4 MB/s \n",
            "\u001b[?25hCollecting pydantic~=1.1\n",
            "  Downloading pydantic-1.8.2-cp37-cp37m-manylinux2014_x86_64.whl (10.1 MB)\n",
            "\u001b[K     |████████████████████████████████| 10.1 MB 45.5 MB/s \n",
            "\u001b[?25hRequirement already satisfied: toolz~=0.10 in /usr/local/lib/python3.7/dist-packages (from gluonts) (0.11.2)\n",
            "Requirement already satisfied: typing-extensions~=3.10.0.0 in /usr/local/lib/python3.7/dist-packages (from gluonts) (3.10.0.2)\n",
            "Requirement already satisfied: numpy~=1.16 in /usr/local/lib/python3.7/dist-packages (from gluonts) (1.19.5)\n",
            "Requirement already satisfied: holidays>=0.9 in /usr/local/lib/python3.7/dist-packages (from gluonts) (0.10.5.2)\n",
            "Requirement already satisfied: matplotlib~=3.0 in /usr/local/lib/python3.7/dist-packages (from gluonts) (3.2.2)\n",
            "Requirement already satisfied: pandas~=1.0 in /usr/local/lib/python3.7/dist-packages (from gluonts) (1.1.5)\n",
            "Requirement already satisfied: tqdm~=4.23 in /usr/local/lib/python3.7/dist-packages (from gluonts) (4.62.3)\n",
            "Requirement already satisfied: korean-lunar-calendar in /usr/local/lib/python3.7/dist-packages (from holidays>=0.9->gluonts) (0.2.1)\n",
            "Requirement already satisfied: six in /usr/local/lib/python3.7/dist-packages (from holidays>=0.9->gluonts) (1.15.0)\n",
            "Requirement already satisfied: convertdate>=2.3.0 in /usr/local/lib/python3.7/dist-packages (from holidays>=0.9->gluonts) (2.3.2)\n",
            "Requirement already satisfied: hijri-converter in /usr/local/lib/python3.7/dist-packages (from holidays>=0.9->gluonts) (2.2.2)\n",
            "Requirement already satisfied: python-dateutil in /usr/local/lib/python3.7/dist-packages (from holidays>=0.9->gluonts) (2.8.2)\n",
            "Requirement already satisfied: pytz>=2014.10 in /usr/local/lib/python3.7/dist-packages (from convertdate>=2.3.0->holidays>=0.9->gluonts) (2018.9)\n",
            "Requirement already satisfied: pymeeus<=1,>=0.3.13 in /usr/local/lib/python3.7/dist-packages (from convertdate>=2.3.0->holidays>=0.9->gluonts) (0.5.11)\n",
            "Requirement already satisfied: cycler>=0.10 in /usr/local/lib/python3.7/dist-packages (from matplotlib~=3.0->gluonts) (0.11.0)\n",
            "Requirement already satisfied: kiwisolver>=1.0.1 in /usr/local/lib/python3.7/dist-packages (from matplotlib~=3.0->gluonts) (1.3.2)\n",
            "Requirement already satisfied: pyparsing!=2.0.4,!=2.1.2,!=2.1.6,>=2.0.1 in /usr/local/lib/python3.7/dist-packages (from matplotlib~=3.0->gluonts) (3.0.6)\n",
            "Installing collected packages: pydantic, gluonts\n",
            "Successfully installed gluonts-0.8.1 pydantic-1.8.2\n"
          ]
        }
      ]
    },
    {
      "cell_type": "code",
      "source": [
        "import matplotlib as mpl\n",
        "from gluonts.model.deepar import DeepAREstimator\n",
        "from gluonts.mx.trainer import Trainer\n"
      ],
      "metadata": {
        "id": "N74qWmK5wvAM"
      },
      "execution_count": null,
      "outputs": []
    },
    {
      "cell_type": "code",
      "source": [
        "data_Dow_Jones.info()"
      ],
      "metadata": {
        "colab": {
          "base_uri": "https://localhost:8080/"
        },
        "id": "5wtW9Cegxecn",
        "outputId": "2e3907c4-7f30-46af-a5b6-140bb3de800d"
      },
      "execution_count": null,
      "outputs": [
        {
          "output_type": "stream",
          "name": "stdout",
          "text": [
            "<class 'pandas.core.frame.DataFrame'>\n",
            "RangeIndex: 251 entries, 0 to 250\n",
            "Data columns (total 5 columns):\n",
            " #   Column  Non-Null Count  Dtype         \n",
            "---  ------  --------------  -----         \n",
            " 0   Date    251 non-null    datetime64[ns]\n",
            " 1   Open    251 non-null    float64       \n",
            " 2   High    251 non-null    float64       \n",
            " 3   Low     251 non-null    float64       \n",
            " 4   Close   251 non-null    float64       \n",
            "dtypes: datetime64[ns](1), float64(4)\n",
            "memory usage: 9.9 KB\n"
          ]
        }
      ]
    },
    {
      "cell_type": "code",
      "source": [
        "data_Dow_Jones.set_index('Date' , inplace= True)"
      ],
      "metadata": {
        "id": "XA5yk0H83Gd-"
      },
      "execution_count": null,
      "outputs": []
    },
    {
      "cell_type": "code",
      "source": [
        "data_Dow_Jones.head()"
      ],
      "metadata": {
        "colab": {
          "base_uri": "https://localhost:8080/",
          "height": 235
        },
        "id": "np6Pdljv39aU",
        "outputId": "dfc29808-7bc6-4ff1-db51-470bf95be868"
      },
      "execution_count": null,
      "outputs": [
        {
          "output_type": "execute_result",
          "data": {
            "text/html": [
              "\n",
              "  <div id=\"df-fde0d7bb-cb53-4c09-86a1-47f1dd9ccc16\">\n",
              "    <div class=\"colab-df-container\">\n",
              "      <div>\n",
              "<style scoped>\n",
              "    .dataframe tbody tr th:only-of-type {\n",
              "        vertical-align: middle;\n",
              "    }\n",
              "\n",
              "    .dataframe tbody tr th {\n",
              "        vertical-align: top;\n",
              "    }\n",
              "\n",
              "    .dataframe thead th {\n",
              "        text-align: right;\n",
              "    }\n",
              "</style>\n",
              "<table border=\"1\" class=\"dataframe\">\n",
              "  <thead>\n",
              "    <tr style=\"text-align: right;\">\n",
              "      <th></th>\n",
              "      <th>Open</th>\n",
              "      <th>High</th>\n",
              "      <th>Low</th>\n",
              "      <th>Close</th>\n",
              "    </tr>\n",
              "    <tr>\n",
              "      <th>Date</th>\n",
              "      <th></th>\n",
              "      <th></th>\n",
              "      <th></th>\n",
              "      <th></th>\n",
              "    </tr>\n",
              "  </thead>\n",
              "  <tbody>\n",
              "    <tr>\n",
              "      <th>2021-12-23</th>\n",
              "      <td>35782.42</td>\n",
              "      <td>36060.99</td>\n",
              "      <td>35782.42</td>\n",
              "      <td>35950.56</td>\n",
              "    </tr>\n",
              "    <tr>\n",
              "      <th>2021-12-22</th>\n",
              "      <td>35491.71</td>\n",
              "      <td>35764.67</td>\n",
              "      <td>35433.13</td>\n",
              "      <td>35753.89</td>\n",
              "    </tr>\n",
              "    <tr>\n",
              "      <th>2021-12-21</th>\n",
              "      <td>35069.50</td>\n",
              "      <td>35508.96</td>\n",
              "      <td>35069.50</td>\n",
              "      <td>35492.70</td>\n",
              "    </tr>\n",
              "    <tr>\n",
              "      <th>2021-12-20</th>\n",
              "      <td>35222.12</td>\n",
              "      <td>35222.12</td>\n",
              "      <td>34665.50</td>\n",
              "      <td>34932.16</td>\n",
              "    </tr>\n",
              "    <tr>\n",
              "      <th>2021-12-17</th>\n",
              "      <td>35800.11</td>\n",
              "      <td>35800.11</td>\n",
              "      <td>35284.26</td>\n",
              "      <td>35365.44</td>\n",
              "    </tr>\n",
              "  </tbody>\n",
              "</table>\n",
              "</div>\n",
              "      <button class=\"colab-df-convert\" onclick=\"convertToInteractive('df-fde0d7bb-cb53-4c09-86a1-47f1dd9ccc16')\"\n",
              "              title=\"Convert this dataframe to an interactive table.\"\n",
              "              style=\"display:none;\">\n",
              "        \n",
              "  <svg xmlns=\"http://www.w3.org/2000/svg\" height=\"24px\"viewBox=\"0 0 24 24\"\n",
              "       width=\"24px\">\n",
              "    <path d=\"M0 0h24v24H0V0z\" fill=\"none\"/>\n",
              "    <path d=\"M18.56 5.44l.94 2.06.94-2.06 2.06-.94-2.06-.94-.94-2.06-.94 2.06-2.06.94zm-11 1L8.5 8.5l.94-2.06 2.06-.94-2.06-.94L8.5 2.5l-.94 2.06-2.06.94zm10 10l.94 2.06.94-2.06 2.06-.94-2.06-.94-.94-2.06-.94 2.06-2.06.94z\"/><path d=\"M17.41 7.96l-1.37-1.37c-.4-.4-.92-.59-1.43-.59-.52 0-1.04.2-1.43.59L10.3 9.45l-7.72 7.72c-.78.78-.78 2.05 0 2.83L4 21.41c.39.39.9.59 1.41.59.51 0 1.02-.2 1.41-.59l7.78-7.78 2.81-2.81c.8-.78.8-2.07 0-2.86zM5.41 20L4 18.59l7.72-7.72 1.47 1.35L5.41 20z\"/>\n",
              "  </svg>\n",
              "      </button>\n",
              "      \n",
              "  <style>\n",
              "    .colab-df-container {\n",
              "      display:flex;\n",
              "      flex-wrap:wrap;\n",
              "      gap: 12px;\n",
              "    }\n",
              "\n",
              "    .colab-df-convert {\n",
              "      background-color: #E8F0FE;\n",
              "      border: none;\n",
              "      border-radius: 50%;\n",
              "      cursor: pointer;\n",
              "      display: none;\n",
              "      fill: #1967D2;\n",
              "      height: 32px;\n",
              "      padding: 0 0 0 0;\n",
              "      width: 32px;\n",
              "    }\n",
              "\n",
              "    .colab-df-convert:hover {\n",
              "      background-color: #E2EBFA;\n",
              "      box-shadow: 0px 1px 2px rgba(60, 64, 67, 0.3), 0px 1px 3px 1px rgba(60, 64, 67, 0.15);\n",
              "      fill: #174EA6;\n",
              "    }\n",
              "\n",
              "    [theme=dark] .colab-df-convert {\n",
              "      background-color: #3B4455;\n",
              "      fill: #D2E3FC;\n",
              "    }\n",
              "\n",
              "    [theme=dark] .colab-df-convert:hover {\n",
              "      background-color: #434B5C;\n",
              "      box-shadow: 0px 1px 3px 1px rgba(0, 0, 0, 0.15);\n",
              "      filter: drop-shadow(0px 1px 2px rgba(0, 0, 0, 0.3));\n",
              "      fill: #FFFFFF;\n",
              "    }\n",
              "  </style>\n",
              "\n",
              "      <script>\n",
              "        const buttonEl =\n",
              "          document.querySelector('#df-fde0d7bb-cb53-4c09-86a1-47f1dd9ccc16 button.colab-df-convert');\n",
              "        buttonEl.style.display =\n",
              "          google.colab.kernel.accessAllowed ? 'block' : 'none';\n",
              "\n",
              "        async function convertToInteractive(key) {\n",
              "          const element = document.querySelector('#df-fde0d7bb-cb53-4c09-86a1-47f1dd9ccc16');\n",
              "          const dataTable =\n",
              "            await google.colab.kernel.invokeFunction('convertToInteractive',\n",
              "                                                     [key], {});\n",
              "          if (!dataTable) return;\n",
              "\n",
              "          const docLinkHtml = 'Like what you see? Visit the ' +\n",
              "            '<a target=\"_blank\" href=https://colab.research.google.com/notebooks/data_table.ipynb>data table notebook</a>'\n",
              "            + ' to learn more about interactive tables.';\n",
              "          element.innerHTML = '';\n",
              "          dataTable['output_type'] = 'display_data';\n",
              "          await google.colab.output.renderOutput(dataTable, element);\n",
              "          const docLink = document.createElement('div');\n",
              "          docLink.innerHTML = docLinkHtml;\n",
              "          element.appendChild(docLink);\n",
              "        }\n",
              "      </script>\n",
              "    </div>\n",
              "  </div>\n",
              "  "
            ],
            "text/plain": [
              "                Open      High       Low     Close\n",
              "Date                                              \n",
              "2021-12-23  35782.42  36060.99  35782.42  35950.56\n",
              "2021-12-22  35491.71  35764.67  35433.13  35753.89\n",
              "2021-12-21  35069.50  35508.96  35069.50  35492.70\n",
              "2021-12-20  35222.12  35222.12  34665.50  34932.16\n",
              "2021-12-17  35800.11  35800.11  35284.26  35365.44"
            ]
          },
          "metadata": {},
          "execution_count": 28
        }
      ]
    },
    {
      "cell_type": "code",
      "source": [
        "# train and test split\n",
        "X = data_Dow_Jones[['Open', 'High', 'Low', 'Close' ]]\n",
        "train, test = X[0:-30], X[-30:]"
      ],
      "metadata": {
        "id": "GkB4IGf94AM9"
      },
      "execution_count": null,
      "outputs": []
    },
    {
      "cell_type": "markdown",
      "source": [
        "build lstm with multiple input and multiple output"
      ],
      "metadata": {
        "id": "Tgik-H2p81yM"
      }
    },
    {
      "cell_type": "code",
      "source": [
        "def build_model():\n",
        "    model = Sequential()\n",
        "\n",
        "    model.add(LSTM(\n",
        "        input_shape=(50,3),\n",
        "        return_sequences=True, units=50))\n",
        "    model.add(Dropout(0.2))\n",
        "\n",
        "    model.add(LSTM(\n",
        "        250,\n",
        "        return_sequences=True))\n",
        "    model.add(Dropout(0.2))\n",
        "\n",
        "    model.add(TimeDistributed(Dense(3)))\n",
        "    model.add(Activation(\"linear\"))\n",
        "\n",
        "    model.compile(loss=\"mse\", optimizer=\"rmsprop\")\n",
        "    return model"
      ],
      "metadata": {
        "id": "gF1IGshX86Gb"
      },
      "execution_count": null,
      "outputs": []
    },
    {
      "cell_type": "markdown",
      "source": [
        "***LSTM***"
      ],
      "metadata": {
        "id": "kc7q5JIX7dGZ"
      }
    },
    {
      "cell_type": "code",
      "source": [
        "# multivariate data preparation\n",
        "\n",
        "# multivariate lstm example\n",
        "from keras.models import Sequential\n",
        "from keras.layers import LSTM\n",
        "from keras.layers import Dense\n",
        "from numpy import array\n",
        "from numpy import hstack\n",
        "\n",
        "# split a multivariate sequence into samples\n",
        "def split_sequences(sequences, n_steps):\n",
        "\tX, y = list(), list()\n",
        "\tfor i in range(len(sequences)):\n",
        "\t\t# find the end of this pattern\n",
        "\t\tend_ix = i + n_steps\n",
        "\t\t# check if we are beyond the dataset\n",
        "\t\tif end_ix > len(sequences):\n",
        "\t\t\tbreak\n",
        "\t\t# gather input and output parts of the pattern\n",
        "\t\tseq_x, seq_y = sequences[i:end_ix, :-1], sequences[end_ix-1, -1]\n",
        "\t\tX.append(seq_x)\n",
        "\t\ty.append(seq_y)\n",
        "\treturn array(X), array(y)\n",
        "\n",
        "# define input sequence\n",
        "in_seq1 = array([10, 20, 30, 40, 50, 60, 70, 80, 90])\n",
        "in_seq2 = array([15, 25, 35, 45, 55, 65, 75, 85, 95])\n",
        "out_seq = array([in_seq1[i]+in_seq2[i] for i in range(len(in_seq1))])\n",
        "# convert to [rows, columns] structure\n",
        "in_seq1 = in_seq1.reshape((len(in_seq1), 1))\n",
        "in_seq2 = in_seq2.reshape((len(in_seq2), 1))\n",
        "out_seq = out_seq.reshape((len(out_seq), 1))\n",
        "# horizontally stack columns\n",
        "dataset = hstack((in_seq1, in_seq2, out_seq))\n",
        "# choose a number of time steps\n",
        "n_steps = 3\n",
        "# convert into input/output\n",
        "X, y = split_sequences(dataset, n_steps)\n",
        "print(X.shape, y.shape)\n",
        "# summarize the data\n",
        "for i in range(len(X)):\n",
        "\tprint(X[i], y[i])"
      ],
      "metadata": {
        "colab": {
          "base_uri": "https://localhost:8080/"
        },
        "id": "HuVrI4Me7fJB",
        "outputId": "c10c5e85-7ba4-4224-d0db-58834a1a0768"
      },
      "execution_count": null,
      "outputs": [
        {
          "output_type": "stream",
          "name": "stdout",
          "text": [
            "(7, 3, 2) (7,)\n",
            "[[10 15]\n",
            " [20 25]\n",
            " [30 35]] 65\n",
            "[[20 25]\n",
            " [30 35]\n",
            " [40 45]] 85\n",
            "[[30 35]\n",
            " [40 45]\n",
            " [50 55]] 105\n",
            "[[40 45]\n",
            " [50 55]\n",
            " [60 65]] 125\n",
            "[[50 55]\n",
            " [60 65]\n",
            " [70 75]] 145\n",
            "[[60 65]\n",
            " [70 75]\n",
            " [80 85]] 165\n",
            "[[70 75]\n",
            " [80 85]\n",
            " [90 95]] 185\n"
          ]
        }
      ]
    },
    {
      "cell_type": "code",
      "source": [
        "n_features = X.shape[2]\n",
        "# define model\n",
        "model = Sequential()\n",
        "model.add(LSTM(50, activation='relu', input_shape=(n_steps, n_features)))\n",
        "model.add(Dense(1))\n",
        "model.compile(optimizer='adam', loss='mse')\n",
        "# fit model\n",
        "model.fit(X, y, epochs=200, verbose=0)\n",
        "# demonstrate prediction\n",
        "x_input = array([[80, 85], [90, 95], [100, 105]])\n",
        "x_input = x_input.reshape((1, n_steps, n_features))\n",
        "yhat = model.predict(x_input, verbose=0)\n",
        "print(yhat)"
      ],
      "metadata": {
        "colab": {
          "base_uri": "https://localhost:8080/"
        },
        "id": "bYCCIuAIcQiK",
        "outputId": "1f0c7dad-ae16-4182-bf9b-9d337d2ab25a"
      },
      "execution_count": null,
      "outputs": [
        {
          "output_type": "stream",
          "name": "stdout",
          "text": [
            "[[205.9245]]\n"
          ]
        }
      ]
    },
    {
      "cell_type": "code",
      "source": [
        "# try to fit multiple output"
      ],
      "metadata": {
        "id": "Y1eGWxyeccC4"
      },
      "execution_count": null,
      "outputs": []
    },
    {
      "cell_type": "markdown",
      "source": [
        "***MULTIPLE PARALLEL SERIES***"
      ],
      "metadata": {
        "id": "zHner3iyd9QI"
      }
    },
    {
      "cell_type": "code",
      "source": [
        "# multivariate output stacked lstm example\n",
        "from numpy import array\n",
        "from numpy import hstack\n",
        "from keras.models import Sequential\n",
        "from keras.layers import LSTM\n",
        "from keras.layers import Dense"
      ],
      "metadata": {
        "id": "xSNO_CBCeDDD"
      },
      "execution_count": null,
      "outputs": []
    },
    {
      "cell_type": "code",
      "source": [
        "data_Dow_Jones.head()"
      ],
      "metadata": {
        "colab": {
          "base_uri": "https://localhost:8080/",
          "height": 204
        },
        "id": "rxcG59Fbfh3v",
        "outputId": "f1ffc70e-538f-4918-aaff-9d51ccdf0dc2"
      },
      "execution_count": null,
      "outputs": [
        {
          "output_type": "execute_result",
          "data": {
            "text/html": [
              "\n",
              "  <div id=\"df-d2c29bc6-12c6-4fab-af94-428ec9eaae2c\">\n",
              "    <div class=\"colab-df-container\">\n",
              "      <div>\n",
              "<style scoped>\n",
              "    .dataframe tbody tr th:only-of-type {\n",
              "        vertical-align: middle;\n",
              "    }\n",
              "\n",
              "    .dataframe tbody tr th {\n",
              "        vertical-align: top;\n",
              "    }\n",
              "\n",
              "    .dataframe thead th {\n",
              "        text-align: right;\n",
              "    }\n",
              "</style>\n",
              "<table border=\"1\" class=\"dataframe\">\n",
              "  <thead>\n",
              "    <tr style=\"text-align: right;\">\n",
              "      <th></th>\n",
              "      <th>Date</th>\n",
              "      <th>Open</th>\n",
              "      <th>High</th>\n",
              "      <th>Low</th>\n",
              "      <th>Close</th>\n",
              "    </tr>\n",
              "  </thead>\n",
              "  <tbody>\n",
              "    <tr>\n",
              "      <th>0</th>\n",
              "      <td>2021-12-23</td>\n",
              "      <td>35782.42</td>\n",
              "      <td>36060.99</td>\n",
              "      <td>35782.42</td>\n",
              "      <td>35950.56</td>\n",
              "    </tr>\n",
              "    <tr>\n",
              "      <th>1</th>\n",
              "      <td>2021-12-22</td>\n",
              "      <td>35491.71</td>\n",
              "      <td>35764.67</td>\n",
              "      <td>35433.13</td>\n",
              "      <td>35753.89</td>\n",
              "    </tr>\n",
              "    <tr>\n",
              "      <th>2</th>\n",
              "      <td>2021-12-21</td>\n",
              "      <td>35069.50</td>\n",
              "      <td>35508.96</td>\n",
              "      <td>35069.50</td>\n",
              "      <td>35492.70</td>\n",
              "    </tr>\n",
              "    <tr>\n",
              "      <th>3</th>\n",
              "      <td>2021-12-20</td>\n",
              "      <td>35222.12</td>\n",
              "      <td>35222.12</td>\n",
              "      <td>34665.50</td>\n",
              "      <td>34932.16</td>\n",
              "    </tr>\n",
              "    <tr>\n",
              "      <th>4</th>\n",
              "      <td>2021-12-17</td>\n",
              "      <td>35800.11</td>\n",
              "      <td>35800.11</td>\n",
              "      <td>35284.26</td>\n",
              "      <td>35365.44</td>\n",
              "    </tr>\n",
              "  </tbody>\n",
              "</table>\n",
              "</div>\n",
              "      <button class=\"colab-df-convert\" onclick=\"convertToInteractive('df-d2c29bc6-12c6-4fab-af94-428ec9eaae2c')\"\n",
              "              title=\"Convert this dataframe to an interactive table.\"\n",
              "              style=\"display:none;\">\n",
              "        \n",
              "  <svg xmlns=\"http://www.w3.org/2000/svg\" height=\"24px\"viewBox=\"0 0 24 24\"\n",
              "       width=\"24px\">\n",
              "    <path d=\"M0 0h24v24H0V0z\" fill=\"none\"/>\n",
              "    <path d=\"M18.56 5.44l.94 2.06.94-2.06 2.06-.94-2.06-.94-.94-2.06-.94 2.06-2.06.94zm-11 1L8.5 8.5l.94-2.06 2.06-.94-2.06-.94L8.5 2.5l-.94 2.06-2.06.94zm10 10l.94 2.06.94-2.06 2.06-.94-2.06-.94-.94-2.06-.94 2.06-2.06.94z\"/><path d=\"M17.41 7.96l-1.37-1.37c-.4-.4-.92-.59-1.43-.59-.52 0-1.04.2-1.43.59L10.3 9.45l-7.72 7.72c-.78.78-.78 2.05 0 2.83L4 21.41c.39.39.9.59 1.41.59.51 0 1.02-.2 1.41-.59l7.78-7.78 2.81-2.81c.8-.78.8-2.07 0-2.86zM5.41 20L4 18.59l7.72-7.72 1.47 1.35L5.41 20z\"/>\n",
              "  </svg>\n",
              "      </button>\n",
              "      \n",
              "  <style>\n",
              "    .colab-df-container {\n",
              "      display:flex;\n",
              "      flex-wrap:wrap;\n",
              "      gap: 12px;\n",
              "    }\n",
              "\n",
              "    .colab-df-convert {\n",
              "      background-color: #E8F0FE;\n",
              "      border: none;\n",
              "      border-radius: 50%;\n",
              "      cursor: pointer;\n",
              "      display: none;\n",
              "      fill: #1967D2;\n",
              "      height: 32px;\n",
              "      padding: 0 0 0 0;\n",
              "      width: 32px;\n",
              "    }\n",
              "\n",
              "    .colab-df-convert:hover {\n",
              "      background-color: #E2EBFA;\n",
              "      box-shadow: 0px 1px 2px rgba(60, 64, 67, 0.3), 0px 1px 3px 1px rgba(60, 64, 67, 0.15);\n",
              "      fill: #174EA6;\n",
              "    }\n",
              "\n",
              "    [theme=dark] .colab-df-convert {\n",
              "      background-color: #3B4455;\n",
              "      fill: #D2E3FC;\n",
              "    }\n",
              "\n",
              "    [theme=dark] .colab-df-convert:hover {\n",
              "      background-color: #434B5C;\n",
              "      box-shadow: 0px 1px 3px 1px rgba(0, 0, 0, 0.15);\n",
              "      filter: drop-shadow(0px 1px 2px rgba(0, 0, 0, 0.3));\n",
              "      fill: #FFFFFF;\n",
              "    }\n",
              "  </style>\n",
              "\n",
              "      <script>\n",
              "        const buttonEl =\n",
              "          document.querySelector('#df-d2c29bc6-12c6-4fab-af94-428ec9eaae2c button.colab-df-convert');\n",
              "        buttonEl.style.display =\n",
              "          google.colab.kernel.accessAllowed ? 'block' : 'none';\n",
              "\n",
              "        async function convertToInteractive(key) {\n",
              "          const element = document.querySelector('#df-d2c29bc6-12c6-4fab-af94-428ec9eaae2c');\n",
              "          const dataTable =\n",
              "            await google.colab.kernel.invokeFunction('convertToInteractive',\n",
              "                                                     [key], {});\n",
              "          if (!dataTable) return;\n",
              "\n",
              "          const docLinkHtml = 'Like what you see? Visit the ' +\n",
              "            '<a target=\"_blank\" href=https://colab.research.google.com/notebooks/data_table.ipynb>data table notebook</a>'\n",
              "            + ' to learn more about interactive tables.';\n",
              "          element.innerHTML = '';\n",
              "          dataTable['output_type'] = 'display_data';\n",
              "          await google.colab.output.renderOutput(dataTable, element);\n",
              "          const docLink = document.createElement('div');\n",
              "          docLink.innerHTML = docLinkHtml;\n",
              "          element.appendChild(docLink);\n",
              "        }\n",
              "      </script>\n",
              "    </div>\n",
              "  </div>\n",
              "  "
            ],
            "text/plain": [
              "        Date      Open      High       Low     Close\n",
              "0 2021-12-23  35782.42  36060.99  35782.42  35950.56\n",
              "1 2021-12-22  35491.71  35764.67  35433.13  35753.89\n",
              "2 2021-12-21  35069.50  35508.96  35069.50  35492.70\n",
              "3 2021-12-20  35222.12  35222.12  34665.50  34932.16\n",
              "4 2021-12-17  35800.11  35800.11  35284.26  35365.44"
            ]
          },
          "metadata": {},
          "execution_count": 13
        }
      ]
    },
    {
      "cell_type": "code",
      "source": [
        "X = data_Dow_Jones[['Open', 'High', 'Low', 'Close' ]]\n",
        "train, test = X[0:-30], X[-30:]"
      ],
      "metadata": {
        "id": "wjqaDUXGk10a"
      },
      "execution_count": null,
      "outputs": []
    },
    {
      "cell_type": "code",
      "source": [
        "seq_lstm = train[['Open', 'High', 'Low', 'Close']].values"
      ],
      "metadata": {
        "id": "krMku_DCfkNa"
      },
      "execution_count": null,
      "outputs": []
    },
    {
      "cell_type": "code",
      "source": [
        "len(seq_lstm)"
      ],
      "metadata": {
        "colab": {
          "base_uri": "https://localhost:8080/"
        },
        "id": "r2kolSUEi4g1",
        "outputId": "2b84a878-a04a-4ab1-f8f4-55c4b003fc06"
      },
      "execution_count": null,
      "outputs": [
        {
          "output_type": "execute_result",
          "data": {
            "text/plain": [
              "221"
            ]
          },
          "metadata": {},
          "execution_count": 53
        }
      ]
    },
    {
      "cell_type": "code",
      "source": [
        "def split_sequences(sequences, n_steps):\n",
        "  print(\"len(sequences)\")\n",
        "  X, y = list(), list()\n",
        "  for i in range(len(sequences)):\n",
        "    # find the end of this pattern\n",
        "    end_ix = i + n_steps\n",
        "    if end_ix > len(sequences)-1:\n",
        "      break\n",
        "    seq_x, seq_y = sequences[i:end_ix, :], sequences[end_ix, :]\n",
        "    X.append(seq_x)\n",
        "    y.append(seq_y)\n",
        "    print(seq_x)\n",
        "    print(seq_y)\n",
        "  return array(X), array(y)\n"
      ],
      "metadata": {
        "id": "TIfoHViKhQQj"
      },
      "execution_count": null,
      "outputs": []
    },
    {
      "cell_type": "code",
      "source": [
        "# choose a number of time steps\n",
        "n_steps = 3\n",
        "# convert into input/output\n",
        "X, y = split_sequences(seq_lstm, n_steps)"
      ],
      "metadata": {
        "id": "iw9ijDiWf3IU"
      },
      "execution_count": null,
      "outputs": []
    },
    {
      "cell_type": "code",
      "source": [
        "# define model\n",
        "n_features = X.shape[2]\n",
        "model = Sequential()\n",
        "model.add(LSTM(100, activation='relu', return_sequences=True, input_shape=(n_steps, n_features)))\n",
        "model.add(LSTM(100, activation='relu'))\n",
        "model.add(Dense(n_features))\n",
        "model.compile(optimizer='adam', loss='mse')"
      ],
      "metadata": {
        "id": "UszUXE_pkZE9"
      },
      "execution_count": null,
      "outputs": []
    },
    {
      "cell_type": "code",
      "source": [
        "model.fit(X, y, epochs=400, verbose=1)"
      ],
      "metadata": {
        "id": "IYsQqcWam9Lq"
      },
      "execution_count": null,
      "outputs": []
    },
    {
      "cell_type": "code",
      "source": [
        "# last 3 values of the time series\n",
        "input = X[-1]"
      ],
      "metadata": {
        "id": "YNNNTqQHnWee"
      },
      "execution_count": null,
      "outputs": []
    },
    {
      "cell_type": "code",
      "source": [
        "input"
      ],
      "metadata": {
        "colab": {
          "base_uri": "https://localhost:8080/"
        },
        "id": "ynjEPH8GzOCY",
        "outputId": "f1edca55-3ab3-47c0-9156-2925e9f91118"
      },
      "execution_count": null,
      "outputs": [
        {
          "output_type": "execute_result",
          "data": {
            "text/plain": [
              "array([[31472.08, 31608.63, 31443.48, 31522.75],\n",
              "       [31420.8 , 31475.31, 31347.8 , 31458.4 ],\n",
              "       [31466.49, 31543.82, 31244.36, 31430.7 ]])"
            ]
          },
          "metadata": {},
          "execution_count": 86
        }
      ]
    },
    {
      "cell_type": "code",
      "source": [
        "input_sample = []\n",
        "for i in input:\n",
        "  #print(i)\n",
        "  input_sample.append(i)\n"
      ],
      "metadata": {
        "colab": {
          "base_uri": "https://localhost:8080/"
        },
        "id": "xaAiT1l0zQYS",
        "outputId": "bd94b295-b6e6-4ea0-ea9a-7658df6a3a71"
      },
      "execution_count": null,
      "outputs": [
        {
          "output_type": "stream",
          "name": "stdout",
          "text": [
            "[31472.08 31608.63 31443.48 31522.75]\n",
            "[31420.8  31475.31 31347.8  31458.4 ]\n",
            "[31466.49 31543.82 31244.36 31430.7 ]\n"
          ]
        }
      ]
    },
    {
      "cell_type": "code",
      "source": [
        "input_sample"
      ],
      "metadata": {
        "colab": {
          "base_uri": "https://localhost:8080/"
        },
        "id": "797mG4Ag6FIT",
        "outputId": "ed4f5083-10a3-4ec7-cb97-7a4c88b9e16a"
      },
      "execution_count": null,
      "outputs": [
        {
          "output_type": "execute_result",
          "data": {
            "text/plain": [
              "[array([31472.08, 31608.63, 31443.48, 31522.75]),\n",
              " array([31420.8 , 31475.31, 31347.8 , 31458.4 ]),\n",
              " array([31466.49, 31543.82, 31244.36, 31430.7 ]),\n",
              " array([[31385.494, 31560.559, 31216.156, 31407.82 ]], dtype=float32)]"
            ]
          },
          "metadata": {},
          "execution_count": 97
        }
      ]
    },
    {
      "cell_type": "code",
      "source": [
        "x_input = input.reshape((1, n_steps, n_features))\n",
        "print(x_input.shape)\n",
        "print(x_input)\n",
        "yhat = model.predict(x_input, verbose=0)\n",
        "#print(yhat)"
      ],
      "metadata": {
        "colab": {
          "base_uri": "https://localhost:8080/"
        },
        "id": "fptw5cq4nXvA",
        "outputId": "bb098c41-6e3d-4f3c-f3c8-6a1a8319aa7d"
      },
      "execution_count": null,
      "outputs": [
        {
          "output_type": "stream",
          "name": "stdout",
          "text": [
            "(1, 3, 4)\n",
            "[[[31472.08 31608.63 31443.48 31522.75]\n",
            "  [31420.8  31475.31 31347.8  31458.4 ]\n",
            "  [31466.49 31543.82 31244.36 31430.7 ]]]\n"
          ]
        }
      ]
    },
    {
      "cell_type": "code",
      "source": [
        "# demonstrate prediction for next 10 days\n",
        "#x_input = array(x_input)\n",
        "temp_input= input    #list(input)\n",
        "lst_output=[]\n",
        "k=0\n",
        "while(k<30):\n",
        "    #new_input = \n",
        "    if(len(temp_input)>3):\n",
        "        #print(temp_input)\n",
        "        #x_input=array(temp_input[1:])\n",
        "        #x_input = np.delete(temp_input, 0)\n",
        "        #print(temp_input)\n",
        "        new_input = []\n",
        "        #print(len(temp_input))\n",
        "        for i in range(1,len(temp_input)):\n",
        "          #if(i==1):\n",
        "          #  print(temp_input[i])\n",
        "          #print(temp_input[i])\n",
        "          new_input.append(temp_input[i])\n",
        "        #print(\"{} day input {}\".format(i,x_input))\n",
        "        #print(len(new_input))\n",
        "        new_input = np.asarray(new_input) \n",
        "        #print(new_input)\n",
        "        #new_input = \n",
        "        x_input = new_input.reshape((1, n_steps, n_features))\n",
        "        #print(x_input.shape)\n",
        "        #print(x_input)\n",
        "        yhat = model.predict(x_input, verbose=0)\n",
        "        #print(yhat)\n",
        "        #lst_output.append(yhat[0])\n",
        "        lst = []\n",
        "        for i in new_input:\n",
        "          templst = []\n",
        "          for j in range(0,len(i)):\n",
        "            templst.append(i[j])\n",
        "          lst.append(templst)\n",
        "        #lst.append(yhat[0])\n",
        "        pred_lst = yhat[0].tolist()\n",
        "        #print(pred_lst)\n",
        "        lst.append(pred_lst)\n",
        "        temp_input = lst\n",
        "        #break\n",
        "        #print(\"{} day output {}\".format(i,yhat))\n",
        "        #temp_input.append(yhat[0][0])\n",
        "        #temp_input=temp_input[1:]\n",
        "        #print(temp_input)\n",
        "        lst_output.append(yhat[0].tolist())\n",
        "        k=k+1\n",
        "        #print(k)\n",
        "    else:\n",
        "        x_input = temp_input.reshape(1, n_steps, n_features)\n",
        "        yhat = model.predict(x_input, verbose=0)\n",
        "        #lst_output.append(yhat[0])\n",
        "        lst = []\n",
        "        for i in temp_input:\n",
        "          templst = []\n",
        "          for j in range(0,len(i)):\n",
        "            templst.append(i[j])\n",
        "          lst.append(templst)\n",
        "        #for l in lst:\n",
        "        #  print(type(l)) \n",
        "        pred_lst = yhat[0].tolist()\n",
        "        #print(type(pred_lst))\n",
        "        lst.append(pred_lst)\n",
        "        #print(type(yhat[0]))\n",
        "        temp_input = lst\n",
        "\n",
        "        #print(f\"first output{temp_input}\")\n",
        "        #for l in temp_input:\n",
        "        #print(l)\n",
        "        lst_output.append(yhat[0].tolist())\n",
        "        k=k+1\n",
        "    \n",
        "\n",
        "print(lst_output)"
      ],
      "metadata": {
        "colab": {
          "base_uri": "https://localhost:8080/"
        },
        "id": "gIdtGRaopk5u",
        "outputId": "178ff9e7-4de6-4d67-b25e-757620c33f69"
      },
      "execution_count": null,
      "outputs": [
        {
          "output_type": "stream",
          "name": "stdout",
          "text": [
            "[[31385.494140625, 31560.55859375, 31216.15625, 31407.8203125], [31345.884765625, 31519.96484375, 31178.228515625, 31370.869140625], [31333.4375, 31509.060546875, 31168.09765625, 31356.072265625], [31307.9140625, 31483.810546875, 31145.26953125, 31331.90234375], [31281.203125, 31456.484375, 31118.697265625, 31305.654296875], [31261.56640625, 31437.041015625, 31098.986328125, 31285.474609375], [31237.45703125, 31412.734375, 31075.099609375, 31261.55859375], [31213.705078125, 31388.75390625, 31051.45703125, 31237.876953125], [31191.650390625, 31366.673828125, 31029.48828125, 31215.654296875], [31168.197265625, 31343.052734375, 31006.181640625, 31192.2578125], [31145.107421875, 31319.818359375, 30983.201171875, 31169.15625], [31122.384765625, 31296.9921875, 30960.591796875, 31146.37890625], [31099.259765625, 31273.7265625, 30937.595703125, 31123.26171875], [31076.31640625, 31250.658203125, 30914.76953125, 31100.30078125], [31053.455078125, 31227.666015625, 30892.0234375, 31077.408203125], [31030.484375, 31204.5703125, 30869.17578125, 31054.4296875], [31007.599609375, 31181.5546875, 30846.408203125, 31031.525390625], [30984.734375, 31158.5625, 30823.662109375, 31008.640625], [30961.857421875, 31135.5546875, 30800.900390625, 30985.74609375], [30939.013671875, 31112.583984375, 30778.1796875, 30962.88671875], [30916.19140625, 31089.6328125, 30755.47265625, 30940.044921875], [30893.373046875, 31066.6875, 30732.779296875, 30917.2109375], [30870.578125, 31043.765625, 30710.09765625, 30894.3984375], [30847.8046875, 31020.86328125, 30687.443359375, 30871.603515625], [30825.041015625, 30997.96484375, 30664.798828125, 30848.8203125], [30802.29296875, 30975.095703125, 30642.173828125, 30826.060546875], [30779.564453125, 30952.244140625, 30619.55859375, 30803.314453125], [30756.85546875, 30929.3984375, 30596.96484375, 30780.58203125], [30734.15625, 30906.578125, 30574.390625, 30757.87109375], [30711.482421875, 30883.7734375, 30551.826171875, 30735.177734375]]\n"
          ]
        }
      ]
    },
    {
      "cell_type": "markdown",
      "source": [
        "Facebook prophet \n",
        "https://github.com/srivatsan88/End-to-End-Time-Series/blob/master/Multiple_Time_Series_using_Prophet.ipynb"
      ],
      "metadata": {
        "id": "Hj8cvURi3dKF"
      }
    },
    {
      "cell_type": "code",
      "source": [
        "!pip install fbprophet"
      ],
      "metadata": {
        "colab": {
          "base_uri": "https://localhost:8080/"
        },
        "id": "WrNf8bD_3gIT",
        "outputId": "741bceb9-3910-4c3f-c4a1-2c426efc6975"
      },
      "execution_count": null,
      "outputs": [
        {
          "output_type": "stream",
          "name": "stdout",
          "text": [
            "Requirement already satisfied: fbprophet in /usr/local/lib/python3.7/dist-packages (0.7.1)\n",
            "Requirement already satisfied: Cython>=0.22 in /usr/local/lib/python3.7/dist-packages (from fbprophet) (0.29.24)\n",
            "Requirement already satisfied: cmdstanpy==0.9.5 in /usr/local/lib/python3.7/dist-packages (from fbprophet) (0.9.5)\n",
            "Requirement already satisfied: pystan>=2.14 in /usr/local/lib/python3.7/dist-packages (from fbprophet) (2.19.1.1)\n",
            "Requirement already satisfied: numpy>=1.15.4 in /usr/local/lib/python3.7/dist-packages (from fbprophet) (1.19.5)\n",
            "Requirement already satisfied: pandas>=1.0.4 in /usr/local/lib/python3.7/dist-packages (from fbprophet) (1.1.5)\n",
            "Requirement already satisfied: matplotlib>=2.0.0 in /usr/local/lib/python3.7/dist-packages (from fbprophet) (3.2.2)\n",
            "Requirement already satisfied: LunarCalendar>=0.0.9 in /usr/local/lib/python3.7/dist-packages (from fbprophet) (0.0.9)\n",
            "Requirement already satisfied: convertdate>=2.1.2 in /usr/local/lib/python3.7/dist-packages (from fbprophet) (2.3.2)\n",
            "Requirement already satisfied: holidays>=0.10.2 in /usr/local/lib/python3.7/dist-packages (from fbprophet) (0.10.5.2)\n",
            "Requirement already satisfied: setuptools-git>=1.2 in /usr/local/lib/python3.7/dist-packages (from fbprophet) (1.2)\n",
            "Requirement already satisfied: python-dateutil>=2.8.0 in /usr/local/lib/python3.7/dist-packages (from fbprophet) (2.8.2)\n",
            "Requirement already satisfied: tqdm>=4.36.1 in /usr/local/lib/python3.7/dist-packages (from fbprophet) (4.62.3)\n",
            "Requirement already satisfied: pytz>=2014.10 in /usr/local/lib/python3.7/dist-packages (from convertdate>=2.1.2->fbprophet) (2018.9)\n",
            "Requirement already satisfied: pymeeus<=1,>=0.3.13 in /usr/local/lib/python3.7/dist-packages (from convertdate>=2.1.2->fbprophet) (0.5.11)\n",
            "Requirement already satisfied: hijri-converter in /usr/local/lib/python3.7/dist-packages (from holidays>=0.10.2->fbprophet) (2.2.2)\n",
            "Requirement already satisfied: six in /usr/local/lib/python3.7/dist-packages (from holidays>=0.10.2->fbprophet) (1.15.0)\n",
            "Requirement already satisfied: korean-lunar-calendar in /usr/local/lib/python3.7/dist-packages (from holidays>=0.10.2->fbprophet) (0.2.1)\n",
            "Requirement already satisfied: ephem>=3.7.5.3 in /usr/local/lib/python3.7/dist-packages (from LunarCalendar>=0.0.9->fbprophet) (4.1)\n",
            "Requirement already satisfied: kiwisolver>=1.0.1 in /usr/local/lib/python3.7/dist-packages (from matplotlib>=2.0.0->fbprophet) (1.3.2)\n",
            "Requirement already satisfied: cycler>=0.10 in /usr/local/lib/python3.7/dist-packages (from matplotlib>=2.0.0->fbprophet) (0.11.0)\n",
            "Requirement already satisfied: pyparsing!=2.0.4,!=2.1.2,!=2.1.6,>=2.0.1 in /usr/local/lib/python3.7/dist-packages (from matplotlib>=2.0.0->fbprophet) (3.0.6)\n"
          ]
        }
      ]
    },
    {
      "cell_type": "code",
      "source": [
        "import matplotlib as mpl\n",
        "import matplotlib.pyplot as plt\n",
        "import numpy as np\n",
        "import os\n",
        "from datetime import datetime\n",
        "import pandas as pd\n",
        "import plotly.express as px\n",
        "\n",
        "\n",
        "\n",
        "mpl.rcParams['figure.figsize'] = (10, 8)\n",
        "mpl.rcParams['axes.grid'] = False\n"
      ],
      "metadata": {
        "id": "S3jdER8P4C_2"
      },
      "execution_count": null,
      "outputs": []
    },
    {
      "cell_type": "markdown",
      "source": [
        "***LSTM TIME SERIES***\n",
        "https://github.com/srivatsan88/End-to-End-Time-Series/blob/master/Time_Series_Functions_for_Sequencing.ipynb\n",
        "https://colab.research.google.com/drive/1b3CUJuDOmPmNdZFH3LQDmt5F0K3FZhqD?usp=sharing"
      ],
      "metadata": {
        "id": "5Q3UxcT1P7Wm"
      }
    },
    {
      "cell_type": "code",
      "source": [
        "import pandas as pd\n",
        "import matplotlib as mpl\n",
        "import matplotlib.pyplot as plt\n",
        "from keras.preprocessing.sequence import TimeseriesGenerator\n",
        "from sklearn.model_selection import train_test_split\n",
        "from sklearn.preprocessing import MinMaxScaler, StandardScaler\n",
        "import tensorflow as tf\n",
        "\n",
        "\n",
        "\n",
        "#mpl.rcParams['figure.figsize'] = (10, 8)\n",
        "#mpl.rcParams['axes.grid'] = False"
      ],
      "metadata": {
        "id": "DgaY0w294I6m"
      },
      "execution_count": null,
      "outputs": []
    },
    {
      "cell_type": "code",
      "source": [
        "import os\n",
        "from google.colab import drive\n",
        "drive.mount('/content/drive/')"
      ],
      "metadata": {
        "colab": {
          "base_uri": "https://localhost:8080/"
        },
        "id": "I2XxWEE0QGQK",
        "outputId": "45d140bc-fedc-4bac-ac9d-ae7db09bbe5e"
      },
      "execution_count": null,
      "outputs": [
        {
          "output_type": "stream",
          "name": "stdout",
          "text": [
            "Mounted at /content/drive/\n"
          ]
        }
      ]
    },
    {
      "cell_type": "code",
      "source": [
        "path = \"/content/drive/My Drive/data/Dow_Jones.csv\"\n",
        "data_Dow_Jones = pd.read_csv(path)"
      ],
      "metadata": {
        "id": "bKpqGoLUQT0_"
      },
      "execution_count": null,
      "outputs": []
    },
    {
      "cell_type": "code",
      "source": [
        "data_Dow_Jones['Open'].replace(',','', regex=True, inplace=True)\n",
        "data_Dow_Jones['High'].replace(',','', regex=True, inplace=True)\n",
        "data_Dow_Jones['Low'].replace(',','', regex=True, inplace=True)\n",
        "data_Dow_Jones['Close'].replace(',','', regex=True, inplace=True)"
      ],
      "metadata": {
        "id": "0tI9cxBqQlLh"
      },
      "execution_count": null,
      "outputs": []
    },
    {
      "cell_type": "code",
      "source": [
        "data_Dow_Jones['Date']= pd.to_datetime(data_Dow_Jones['Date'])\n",
        "data_Dow_Jones['Open'] = data_Dow_Jones['Open'].astype(float, errors = 'raise')\n",
        "data_Dow_Jones['High'] = data_Dow_Jones['High'].astype(float, errors = 'raise')\n",
        "data_Dow_Jones['Low'] = data_Dow_Jones['Low'].astype(float, errors = 'raise')\n",
        "data_Dow_Jones['Close'] = data_Dow_Jones['Close'].astype(float, errors = 'raise')"
      ],
      "metadata": {
        "id": "EQHRoC9-QmRc"
      },
      "execution_count": null,
      "outputs": []
    },
    {
      "cell_type": "code",
      "source": [
        "data_Dow_Jones.head()"
      ],
      "metadata": {
        "colab": {
          "base_uri": "https://localhost:8080/",
          "height": 204
        },
        "id": "dqG-WjBYQdhp",
        "outputId": "bf4af66b-b5a7-45be-907a-51bb1ac5d013"
      },
      "execution_count": null,
      "outputs": [
        {
          "output_type": "execute_result",
          "data": {
            "text/html": [
              "\n",
              "  <div id=\"df-afa29aeb-19fa-43fa-a6fe-1e868643fcd8\">\n",
              "    <div class=\"colab-df-container\">\n",
              "      <div>\n",
              "<style scoped>\n",
              "    .dataframe tbody tr th:only-of-type {\n",
              "        vertical-align: middle;\n",
              "    }\n",
              "\n",
              "    .dataframe tbody tr th {\n",
              "        vertical-align: top;\n",
              "    }\n",
              "\n",
              "    .dataframe thead th {\n",
              "        text-align: right;\n",
              "    }\n",
              "</style>\n",
              "<table border=\"1\" class=\"dataframe\">\n",
              "  <thead>\n",
              "    <tr style=\"text-align: right;\">\n",
              "      <th></th>\n",
              "      <th>Date</th>\n",
              "      <th>Open</th>\n",
              "      <th>High</th>\n",
              "      <th>Low</th>\n",
              "      <th>Close</th>\n",
              "    </tr>\n",
              "  </thead>\n",
              "  <tbody>\n",
              "    <tr>\n",
              "      <th>0</th>\n",
              "      <td>2021-12-23</td>\n",
              "      <td>35782.42</td>\n",
              "      <td>36060.99</td>\n",
              "      <td>35782.42</td>\n",
              "      <td>35950.56</td>\n",
              "    </tr>\n",
              "    <tr>\n",
              "      <th>1</th>\n",
              "      <td>2021-12-22</td>\n",
              "      <td>35491.71</td>\n",
              "      <td>35764.67</td>\n",
              "      <td>35433.13</td>\n",
              "      <td>35753.89</td>\n",
              "    </tr>\n",
              "    <tr>\n",
              "      <th>2</th>\n",
              "      <td>2021-12-21</td>\n",
              "      <td>35069.50</td>\n",
              "      <td>35508.96</td>\n",
              "      <td>35069.50</td>\n",
              "      <td>35492.70</td>\n",
              "    </tr>\n",
              "    <tr>\n",
              "      <th>3</th>\n",
              "      <td>2021-12-20</td>\n",
              "      <td>35222.12</td>\n",
              "      <td>35222.12</td>\n",
              "      <td>34665.50</td>\n",
              "      <td>34932.16</td>\n",
              "    </tr>\n",
              "    <tr>\n",
              "      <th>4</th>\n",
              "      <td>2021-12-17</td>\n",
              "      <td>35800.11</td>\n",
              "      <td>35800.11</td>\n",
              "      <td>35284.26</td>\n",
              "      <td>35365.44</td>\n",
              "    </tr>\n",
              "  </tbody>\n",
              "</table>\n",
              "</div>\n",
              "      <button class=\"colab-df-convert\" onclick=\"convertToInteractive('df-afa29aeb-19fa-43fa-a6fe-1e868643fcd8')\"\n",
              "              title=\"Convert this dataframe to an interactive table.\"\n",
              "              style=\"display:none;\">\n",
              "        \n",
              "  <svg xmlns=\"http://www.w3.org/2000/svg\" height=\"24px\"viewBox=\"0 0 24 24\"\n",
              "       width=\"24px\">\n",
              "    <path d=\"M0 0h24v24H0V0z\" fill=\"none\"/>\n",
              "    <path d=\"M18.56 5.44l.94 2.06.94-2.06 2.06-.94-2.06-.94-.94-2.06-.94 2.06-2.06.94zm-11 1L8.5 8.5l.94-2.06 2.06-.94-2.06-.94L8.5 2.5l-.94 2.06-2.06.94zm10 10l.94 2.06.94-2.06 2.06-.94-2.06-.94-.94-2.06-.94 2.06-2.06.94z\"/><path d=\"M17.41 7.96l-1.37-1.37c-.4-.4-.92-.59-1.43-.59-.52 0-1.04.2-1.43.59L10.3 9.45l-7.72 7.72c-.78.78-.78 2.05 0 2.83L4 21.41c.39.39.9.59 1.41.59.51 0 1.02-.2 1.41-.59l7.78-7.78 2.81-2.81c.8-.78.8-2.07 0-2.86zM5.41 20L4 18.59l7.72-7.72 1.47 1.35L5.41 20z\"/>\n",
              "  </svg>\n",
              "      </button>\n",
              "      \n",
              "  <style>\n",
              "    .colab-df-container {\n",
              "      display:flex;\n",
              "      flex-wrap:wrap;\n",
              "      gap: 12px;\n",
              "    }\n",
              "\n",
              "    .colab-df-convert {\n",
              "      background-color: #E8F0FE;\n",
              "      border: none;\n",
              "      border-radius: 50%;\n",
              "      cursor: pointer;\n",
              "      display: none;\n",
              "      fill: #1967D2;\n",
              "      height: 32px;\n",
              "      padding: 0 0 0 0;\n",
              "      width: 32px;\n",
              "    }\n",
              "\n",
              "    .colab-df-convert:hover {\n",
              "      background-color: #E2EBFA;\n",
              "      box-shadow: 0px 1px 2px rgba(60, 64, 67, 0.3), 0px 1px 3px 1px rgba(60, 64, 67, 0.15);\n",
              "      fill: #174EA6;\n",
              "    }\n",
              "\n",
              "    [theme=dark] .colab-df-convert {\n",
              "      background-color: #3B4455;\n",
              "      fill: #D2E3FC;\n",
              "    }\n",
              "\n",
              "    [theme=dark] .colab-df-convert:hover {\n",
              "      background-color: #434B5C;\n",
              "      box-shadow: 0px 1px 3px 1px rgba(0, 0, 0, 0.15);\n",
              "      filter: drop-shadow(0px 1px 2px rgba(0, 0, 0, 0.3));\n",
              "      fill: #FFFFFF;\n",
              "    }\n",
              "  </style>\n",
              "\n",
              "      <script>\n",
              "        const buttonEl =\n",
              "          document.querySelector('#df-afa29aeb-19fa-43fa-a6fe-1e868643fcd8 button.colab-df-convert');\n",
              "        buttonEl.style.display =\n",
              "          google.colab.kernel.accessAllowed ? 'block' : 'none';\n",
              "\n",
              "        async function convertToInteractive(key) {\n",
              "          const element = document.querySelector('#df-afa29aeb-19fa-43fa-a6fe-1e868643fcd8');\n",
              "          const dataTable =\n",
              "            await google.colab.kernel.invokeFunction('convertToInteractive',\n",
              "                                                     [key], {});\n",
              "          if (!dataTable) return;\n",
              "\n",
              "          const docLinkHtml = 'Like what you see? Visit the ' +\n",
              "            '<a target=\"_blank\" href=https://colab.research.google.com/notebooks/data_table.ipynb>data table notebook</a>'\n",
              "            + ' to learn more about interactive tables.';\n",
              "          element.innerHTML = '';\n",
              "          dataTable['output_type'] = 'display_data';\n",
              "          await google.colab.output.renderOutput(dataTable, element);\n",
              "          const docLink = document.createElement('div');\n",
              "          docLink.innerHTML = docLinkHtml;\n",
              "          element.appendChild(docLink);\n",
              "        }\n",
              "      </script>\n",
              "    </div>\n",
              "  </div>\n",
              "  "
            ],
            "text/plain": [
              "        Date      Open      High       Low     Close\n",
              "0 2021-12-23  35782.42  36060.99  35782.42  35950.56\n",
              "1 2021-12-22  35491.71  35764.67  35433.13  35753.89\n",
              "2 2021-12-21  35069.50  35508.96  35069.50  35492.70\n",
              "3 2021-12-20  35222.12  35222.12  34665.50  34932.16\n",
              "4 2021-12-17  35800.11  35800.11  35284.26  35365.44"
            ]
          },
          "metadata": {},
          "execution_count": 17
        }
      ]
    },
    {
      "cell_type": "code",
      "source": [
        "data_Dow_Jones['Date'] = pd.to_datetime(data_Dow_Jones['Date'], infer_datetime_format=True)"
      ],
      "metadata": {
        "id": "52TeoC6UQgp8"
      },
      "execution_count": null,
      "outputs": []
    },
    {
      "cell_type": "code",
      "source": [
        "data_Dow_Jones.set_index('Date')[['Open', 'High', 'Low','Close']].plot(subplots=True)"
      ],
      "metadata": {
        "colab": {
          "base_uri": "https://localhost:8080/",
          "height": 362
        },
        "id": "y9py77hnROY7",
        "outputId": "ff8b6fda-4817-4b50-8c96-a39b30277a99"
      },
      "execution_count": null,
      "outputs": [
        {
          "output_type": "execute_result",
          "data": {
            "text/plain": [
              "array([<matplotlib.axes._subplots.AxesSubplot object at 0x7fa1cba02c10>,\n",
              "       <matplotlib.axes._subplots.AxesSubplot object at 0x7fa1cb9e7310>,\n",
              "       <matplotlib.axes._subplots.AxesSubplot object at 0x7fa1cba027d0>,\n",
              "       <matplotlib.axes._subplots.AxesSubplot object at 0x7fa1cb95c950>],\n",
              "      dtype=object)"
            ]
          },
          "metadata": {},
          "execution_count": 8
        },
        {
          "output_type": "display_data",
          "data": {
            "image/png": "[encoded data removed]",
            "text/plain": [
              "<Figure size 432x288 with 4 Axes>"
            ]
          },
          "metadata": {
            "needs_background": "light"
          }
        }
      ]
    },
    {
      "cell_type": "code",
      "source": [
        "df_input = data_Dow_Jones[['Close', 'High', 'Low', 'Open']]"
      ],
      "metadata": {
        "id": "_TIoNPuTgvlq"
      },
      "execution_count": null,
      "outputs": []
    },
    {
      "cell_type": "code",
      "source": [
        "scaler = MinMaxScaler()\n",
        "data_scaled = scaler.fit_transform(df_input)"
      ],
      "metadata": {
        "id": "OF_l6u6Pg-o-"
      },
      "execution_count": null,
      "outputs": []
    },
    {
      "cell_type": "code",
      "source": [
        "data_scaled"
      ],
      "metadata": {
        "id": "Fnn0ToB1oPIT"
      },
      "execution_count": null,
      "outputs": []
    },
    {
      "cell_type": "code",
      "source": [
        "features=data_scaled\n",
        "target= data_scaled[:,0]"
      ],
      "metadata": {
        "id": "XHPyvXuZRb_X"
      },
      "execution_count": null,
      "outputs": []
    },
    {
      "cell_type": "code",
      "source": [
        "TimeseriesGenerator(features, target, length=7, sampling_rate=1, batch_size=1)[0]"
      ],
      "metadata": {
        "id": "694iA2sFRuqC"
      },
      "execution_count": null,
      "outputs": []
    },
    {
      "cell_type": "code",
      "source": [
        "x_train, x_test, y_train, y_test = train_test_split(features, target, test_size=0.30, random_state=123, shuffle = False)"
      ],
      "metadata": {
        "id": "qnzkq2kof2jZ"
      },
      "execution_count": null,
      "outputs": []
    },
    {
      "cell_type": "code",
      "source": [
        "x_train.shape"
      ],
      "metadata": {
        "colab": {
          "base_uri": "https://localhost:8080/"
        },
        "id": "htDERk-nrt1d",
        "outputId": "1c948380-a2b6-48f1-9446-8a842f8d2908"
      },
      "execution_count": null,
      "outputs": [
        {
          "output_type": "execute_result",
          "data": {
            "text/plain": [
              "(175, 4)"
            ]
          },
          "metadata": {},
          "execution_count": 15
        }
      ]
    },
    {
      "cell_type": "code",
      "source": [
        "x_test.shape"
      ],
      "metadata": {
        "colab": {
          "base_uri": "https://localhost:8080/"
        },
        "id": "m5wR977Esh10",
        "outputId": "105b4306-ab27-4eac-bc3a-2e0b4f83ccec"
      },
      "execution_count": null,
      "outputs": [
        {
          "output_type": "execute_result",
          "data": {
            "text/plain": [
              "(76, 4)"
            ]
          },
          "metadata": {},
          "execution_count": 16
        }
      ]
    },
    {
      "cell_type": "code",
      "source": [
        "win_length= 7\n",
        "batch_size=32\n",
        "num_features=4\n",
        "train_generator = TimeseriesGenerator(x_train, y_train, length=win_length, sampling_rate=1, batch_size=batch_size)\n",
        "test_generator = TimeseriesGenerator(x_test, y_test, length=win_length, sampling_rate=1, batch_size=batch_size)"
      ],
      "metadata": {
        "id": "NQd0nVo-sqPS"
      },
      "execution_count": null,
      "outputs": []
    },
    {
      "cell_type": "code",
      "source": [
        "train_generator[0]"
      ],
      "metadata": {
        "id": "fUxArQZncN7o"
      },
      "execution_count": null,
      "outputs": []
    },
    {
      "cell_type": "code",
      "source": [
        "model = tf.keras.Sequential()\n",
        "model.add(tf.keras.layers.LSTM(128, input_shape= (win_length, num_features), return_sequences=True))\n",
        "model.add(tf.keras.layers.LeakyReLU(alpha=0.5)) \n",
        "model.add(tf.keras.layers.LSTM(128, return_sequences=True))\n",
        "model.add(tf.keras.layers.LeakyReLU(alpha=0.5)) \n",
        "model.add(tf.keras.layers.Dropout(0.3)) \n",
        "model.add(tf.keras.layers.LSTM(64, return_sequences=False))\n",
        "model.add(tf.keras.layers.Dropout(0.3)) \n",
        "model.add(tf.keras.layers.Dense(1))"
      ],
      "metadata": {
        "id": "Vh3bWwCBcdAG"
      },
      "execution_count": null,
      "outputs": []
    },
    {
      "cell_type": "code",
      "source": [
        "model.summary()"
      ],
      "metadata": {
        "id": "ofJDhPZWc8K-"
      },
      "execution_count": null,
      "outputs": []
    },
    {
      "cell_type": "code",
      "source": [
        "early_stopping = tf.keras.callbacks.EarlyStopping(monitor='val_loss',\n",
        "                                                    patience=2,\n",
        "                                                    mode='min')\n",
        "\n",
        "model.compile(loss=tf.losses.MeanSquaredError(),\n",
        "              optimizer=tf.optimizers.Adam(),\n",
        "              metrics=[tf.metrics.MeanAbsoluteError()])\n",
        "\n",
        "history = model.fit_generator(train_generator, epochs=50,\n",
        "                    validation_data=test_generator,\n",
        "                    shuffle=False)\n",
        "                    #callbacks=[early_stopping])"
      ],
      "metadata": {
        "id": "VeGgWaMSdYkV"
      },
      "execution_count": null,
      "outputs": []
    },
    {
      "cell_type": "code",
      "source": [
        "model.evaluate_generator(test_generator, verbose=1)  "
      ],
      "metadata": {
        "id": "ikE1U8WQdi1G"
      },
      "execution_count": null,
      "outputs": []
    },
    {
      "cell_type": "code",
      "source": [
        "predictions=model.predict_generator(test_generator)"
      ],
      "metadata": {
        "id": "--6N8iz2eHi5"
      },
      "execution_count": null,
      "outputs": []
    },
    {
      "cell_type": "code",
      "source": [
        "predictions.shape[0]"
      ],
      "metadata": {
        "id": "tmS_Ft28eh0S"
      },
      "execution_count": null,
      "outputs": []
    },
    {
      "cell_type": "code",
      "source": [
        "y_test"
      ],
      "metadata": {
        "id": "Dv1xtOSZekfG"
      },
      "execution_count": null,
      "outputs": []
    },
    {
      "cell_type": "code",
      "source": [
        "x_test"
      ],
      "metadata": {
        "id": "Jn0qW4pPesTk"
      },
      "execution_count": null,
      "outputs": []
    },
    {
      "cell_type": "code",
      "source": [
        "x_test[:,1:][win_length:]"
      ],
      "metadata": {
        "id": "IhEshZ2pe51o"
      },
      "execution_count": null,
      "outputs": []
    },
    {
      "cell_type": "code",
      "source": [
        "df_pred=pd.concat([pd.DataFrame(predictions), pd.DataFrame(x_test[:,1:][win_length:])],axis=1)"
      ],
      "metadata": {
        "id": "EiOOKwkvfApV"
      },
      "execution_count": null,
      "outputs": []
    },
    {
      "cell_type": "code",
      "source": [
        "df_pred"
      ],
      "metadata": {
        "id": "kngbkeI2fObg"
      },
      "execution_count": null,
      "outputs": []
    },
    {
      "cell_type": "code",
      "source": [
        "rev_trans=scaler.inverse_transform(df_pred)"
      ],
      "metadata": {
        "id": "1VXDctmJfSoN"
      },
      "execution_count": null,
      "outputs": []
    },
    {
      "cell_type": "code",
      "source": [
        "rev_trans"
      ],
      "metadata": {
        "id": "PrCohKQHfXps"
      },
      "execution_count": null,
      "outputs": []
    },
    {
      "cell_type": "code",
      "source": [
        "df_final=df_input[predictions.shape[0]*-1:]"
      ],
      "metadata": {
        "id": "NWHkHxd2fcP4"
      },
      "execution_count": null,
      "outputs": []
    },
    {
      "cell_type": "code",
      "source": [
        "df_final.count()"
      ],
      "metadata": {
        "id": "FrR04vmvfwB6"
      },
      "execution_count": null,
      "outputs": []
    },
    {
      "cell_type": "code",
      "source": [
        "df_final['Close_Pred']=rev_trans[:,0]"
      ],
      "metadata": {
        "id": "0ucPfQGRfxYS"
      },
      "execution_count": null,
      "outputs": []
    },
    {
      "cell_type": "code",
      "source": [
        "df_final"
      ],
      "metadata": {
        "id": "SbgNpMKIf7Oj"
      },
      "execution_count": null,
      "outputs": []
    },
    {
      "cell_type": "code",
      "source": [
        "df_final[['Close','Close_Pred']].plot()"
      ],
      "metadata": {
        "colab": {
          "base_uri": "https://localhost:8080/",
          "height": 282
        },
        "id": "R8cGJPU4gFiX",
        "outputId": "ec61c663-e987-4b14-fcb6-4859c72c0474"
      },
      "execution_count": null,
      "outputs": [
        {
          "output_type": "execute_result",
          "data": {
            "text/plain": [
              "<matplotlib.axes._subplots.AxesSubplot at 0x7fa1c57eb7d0>"
            ]
          },
          "metadata": {},
          "execution_count": 39
        },
        {
          "output_type": "display_data",
          "data": {
            "image/png": "[encoded data removed]",
            "text/plain": [
              "<Figure size 432x288 with 1 Axes>"
            ]
          },
          "metadata": {
            "needs_background": "light"
          }
        }
      ]
    },
    {
      "cell_type": "markdown",
      "source": [
        "***FACEBOOK PROPHET***\n",
        "https://github.com/srivatsan88/End-to-End-Time-Series/blob/master/Time_Series_using_Prophet_for_Multivariate.ipynb"
      ],
      "metadata": {
        "id": "pumzNv9EgS2H"
      }
    },
    {
      "cell_type": "code",
      "source": [
        "!pip install fbprophet"
      ],
      "metadata": {
        "id": "WZ0EHJAm41vn"
      },
      "execution_count": null,
      "outputs": []
    },
    {
      "cell_type": "code",
      "source": [
        "import matplotlib as mpl\n",
        "import matplotlib.pyplot as plt\n",
        "import numpy as np\n",
        "import os\n",
        "from datetime import datetime\n",
        "import pandas as pd\n",
        "import plotly.express as px\n",
        "\n",
        "mpl.rcParams['figure.figsize'] = (10, 8)\n",
        "mpl.rcParams['axes.grid'] = False"
      ],
      "metadata": {
        "id": "qRgD0qY07ChR"
      },
      "execution_count": null,
      "outputs": []
    },
    {
      "cell_type": "code",
      "source": [
        "import os\n",
        "from google.colab import drive\n",
        "drive.mount('/content/drive/')"
      ],
      "metadata": {
        "colab": {
          "base_uri": "https://localhost:8080/"
        },
        "id": "_ph6qpjZ7F9r",
        "outputId": "edbc5923-1d5c-4a63-db40-c75d5446a662"
      },
      "execution_count": null,
      "outputs": [
        {
          "output_type": "stream",
          "name": "stdout",
          "text": [
            "Mounted at /content/drive/\n"
          ]
        }
      ]
    },
    {
      "cell_type": "code",
      "source": [
        "path = \"/content/drive/My Drive/data/Dow_Jones.csv\"\n",
        "data_Dow_Jones = pd.read_csv(path)"
      ],
      "metadata": {
        "id": "ei6qPZNB7f9-"
      },
      "execution_count": null,
      "outputs": []
    },
    {
      "cell_type": "code",
      "source": [
        "data_Dow_Jones['Open'].replace(',','', regex=True, inplace=True)\n",
        "data_Dow_Jones['High'].replace(',','', regex=True, inplace=True)\n",
        "data_Dow_Jones['Low'].replace(',','', regex=True, inplace=True)\n",
        "data_Dow_Jones['Close'].replace(',','', regex=True, inplace=True)"
      ],
      "metadata": {
        "id": "odZa7AFe7kFt"
      },
      "execution_count": null,
      "outputs": []
    },
    {
      "cell_type": "code",
      "source": [
        "data_Dow_Jones['Date']= pd.to_datetime(data_Dow_Jones['Date'])\n",
        "data_Dow_Jones['Open'] = data_Dow_Jones['Open'].astype(float, errors = 'raise')\n",
        "data_Dow_Jones['High'] = data_Dow_Jones['High'].astype(float, errors = 'raise')\n",
        "data_Dow_Jones['Low'] = data_Dow_Jones['Low'].astype(float, errors = 'raise')\n",
        "data_Dow_Jones['Close'] = data_Dow_Jones['Close'].astype(float, errors = 'raise')"
      ],
      "metadata": {
        "id": "3D0BD7CG7rPf"
      },
      "execution_count": null,
      "outputs": []
    },
    {
      "cell_type": "code",
      "source": [
        "data_Dow_Jones.head()"
      ],
      "metadata": {
        "id": "SGCV5E9O7wI9"
      },
      "execution_count": null,
      "outputs": []
    },
    {
      "cell_type": "code",
      "source": [
        "data_Dow_Jones['Date'] = pd.to_datetime(data_Dow_Jones['Date'], infer_datetime_format=True)"
      ],
      "metadata": {
        "id": "HxJLiLvV72fC"
      },
      "execution_count": null,
      "outputs": []
    },
    {
      "cell_type": "code",
      "source": [
        "data_Dow_Jones.set_index('Date')[['Open', 'High', 'Low','Close']].plot(subplots=True)"
      ],
      "metadata": {
        "colab": {
          "base_uri": "https://localhost:8080/",
          "height": 558
        },
        "id": "tAknPIg08BH2",
        "outputId": "8508f835-c0d1-4824-8f5c-c9a5ad64f68b"
      },
      "execution_count": null,
      "outputs": [
        {
          "output_type": "execute_result",
          "data": {
            "text/plain": [
              "array([<matplotlib.axes._subplots.AxesSubplot object at 0x7fa4143ec0d0>,\n",
              "       <matplotlib.axes._subplots.AxesSubplot object at 0x7fa41c31f550>,\n",
              "       <matplotlib.axes._subplots.AxesSubplot object at 0x7fa4143dfc50>,\n",
              "       <matplotlib.axes._subplots.AxesSubplot object at 0x7fa414337dd0>],\n",
              "      dtype=object)"
            ]
          },
          "metadata": {},
          "execution_count": 9
        },
        {
          "output_type": "display_data",
          "data": {
            "image/png": "[encoded data removed]",
            "text/plain": [
              "<Figure size 720x576 with 4 Axes>"
            ]
          },
          "metadata": {
            "needs_background": "light"
          }
        }
      ]
    },
    {
      "cell_type": "code",
      "source": [
        "data_Dow_Jones=data_Dow_Jones.reset_index()[['Date','Open','High', 'Low', 'Close']].rename({'Date':'ds','Close':'y','Low':'Low', 'High':'High', 'Open':'Open'}, axis='columns')"
      ],
      "metadata": {
        "id": "dsR-ymK88DOD"
      },
      "execution_count": null,
      "outputs": []
    },
    {
      "cell_type": "code",
      "source": [
        "data_Dow_Jones"
      ],
      "metadata": {
        "id": "FK8eEgo89IdH"
      },
      "execution_count": null,
      "outputs": []
    },
    {
      "cell_type": "code",
      "source": [
        "train, test = data_Dow_Jones[0:-76], data_Dow_Jones[-76:]"
      ],
      "metadata": {
        "id": "hLAx0tXegt5P"
      },
      "execution_count": null,
      "outputs": []
    },
    {
      "cell_type": "code",
      "source": [
        "train.shape"
      ],
      "metadata": {
        "colab": {
          "base_uri": "https://localhost:8080/"
        },
        "id": "CNkRfiPrhpbJ",
        "outputId": "fb082cf0-7d95-496e-8242-be4d183d0d46"
      },
      "execution_count": null,
      "outputs": [
        {
          "output_type": "execute_result",
          "data": {
            "text/plain": [
              "(175, 5)"
            ]
          },
          "metadata": {},
          "execution_count": 14
        }
      ]
    },
    {
      "cell_type": "code",
      "source": [
        "test.shape"
      ],
      "metadata": {
        "colab": {
          "base_uri": "https://localhost:8080/"
        },
        "id": "XhyPtp__hsj-",
        "outputId": "a092415d-8127-453e-8fc4-f68855412ad6"
      },
      "execution_count": null,
      "outputs": [
        {
          "output_type": "execute_result",
          "data": {
            "text/plain": [
              "(76, 5)"
            ]
          },
          "metadata": {},
          "execution_count": 15
        }
      ]
    },
    {
      "cell_type": "code",
      "source": [
        "from fbprophet import Prophet\n",
        "m = Prophet(interval_width=0.95,yearly_seasonality=True)"
      ],
      "metadata": {
        "id": "ElJVGM5Ahu8L"
      },
      "execution_count": null,
      "outputs": []
    },
    {
      "cell_type": "code",
      "source": [
        "m.add_regressor('Open',standardize=False)\n",
        "m.add_regressor('High',standardize=False)\n",
        "m.add_regressor('Low',standardize=False)"
      ],
      "metadata": {
        "colab": {
          "base_uri": "https://localhost:8080/"
        },
        "id": "EXIOEg_ZiEN3",
        "outputId": "a937316e-9c2f-4432-da24-06c986b88cd6"
      },
      "execution_count": null,
      "outputs": [
        {
          "output_type": "execute_result",
          "data": {
            "text/plain": [
              "<fbprophet.forecaster.Prophet at 0x7fa412cb6b10>"
            ]
          },
          "metadata": {},
          "execution_count": 18
        }
      ]
    },
    {
      "cell_type": "code",
      "source": [
        "m.fit(train)"
      ],
      "metadata": {
        "id": "_oBAsrt2ifQJ"
      },
      "execution_count": null,
      "outputs": []
    },
    {
      "cell_type": "code",
      "source": [
        "m.params"
      ],
      "metadata": {
        "id": "7zGRzahaimjb"
      },
      "execution_count": null,
      "outputs": []
    },
    {
      "cell_type": "code",
      "source": [
        "future = m.make_future_dataframe(periods=76)\n",
        "future.tail()"
      ],
      "metadata": {
        "id": "At14RF_VipL4"
      },
      "execution_count": null,
      "outputs": []
    },
    {
      "cell_type": "code",
      "source": [
        "future['Open'] = data_Dow_Jones['Open']\n",
        "future['Low'] = data_Dow_Jones['Low']\n",
        "future['High'] = data_Dow_Jones['High']\n"
      ],
      "metadata": {
        "id": "yJh8mkdvivHL"
      },
      "execution_count": null,
      "outputs": []
    },
    {
      "cell_type": "code",
      "source": [
        "future"
      ],
      "metadata": {
        "colab": {
          "base_uri": "https://localhost:8080/",
          "height": 419
        },
        "id": "cq45_BJbjCDx",
        "outputId": "7eac5681-5cf0-4d3e-d195-07a3ff79a2cd"
      },
      "execution_count": null,
      "outputs": [
        {
          "output_type": "execute_result",
          "data": {
            "text/html": [
              "\n",
              "  <div id=\"df-ad28e41e-d777-4e2f-97db-96f60aa17643\">\n",
              "    <div class=\"colab-df-container\">\n",
              "      <div>\n",
              "<style scoped>\n",
              "    .dataframe tbody tr th:only-of-type {\n",
              "        vertical-align: middle;\n",
              "    }\n",
              "\n",
              "    .dataframe tbody tr th {\n",
              "        vertical-align: top;\n",
              "    }\n",
              "\n",
              "    .dataframe thead th {\n",
              "        text-align: right;\n",
              "    }\n",
              "</style>\n",
              "<table border=\"1\" class=\"dataframe\">\n",
              "  <thead>\n",
              "    <tr style=\"text-align: right;\">\n",
              "      <th></th>\n",
              "      <th>ds</th>\n",
              "      <th>Open</th>\n",
              "      <th>Low</th>\n",
              "      <th>High</th>\n",
              "    </tr>\n",
              "  </thead>\n",
              "  <tbody>\n",
              "    <tr>\n",
              "      <th>0</th>\n",
              "      <td>2021-04-19</td>\n",
              "      <td>35782.42</td>\n",
              "      <td>35782.42</td>\n",
              "      <td>36060.99</td>\n",
              "    </tr>\n",
              "    <tr>\n",
              "      <th>1</th>\n",
              "      <td>2021-04-20</td>\n",
              "      <td>35491.71</td>\n",
              "      <td>35433.13</td>\n",
              "      <td>35764.67</td>\n",
              "    </tr>\n",
              "    <tr>\n",
              "      <th>2</th>\n",
              "      <td>2021-04-21</td>\n",
              "      <td>35069.50</td>\n",
              "      <td>35069.50</td>\n",
              "      <td>35508.96</td>\n",
              "    </tr>\n",
              "    <tr>\n",
              "      <th>3</th>\n",
              "      <td>2021-04-22</td>\n",
              "      <td>35222.12</td>\n",
              "      <td>34665.50</td>\n",
              "      <td>35222.12</td>\n",
              "    </tr>\n",
              "    <tr>\n",
              "      <th>4</th>\n",
              "      <td>2021-04-23</td>\n",
              "      <td>35800.11</td>\n",
              "      <td>35284.26</td>\n",
              "      <td>35800.11</td>\n",
              "    </tr>\n",
              "    <tr>\n",
              "      <th>...</th>\n",
              "      <td>...</td>\n",
              "      <td>...</td>\n",
              "      <td>...</td>\n",
              "      <td>...</td>\n",
              "    </tr>\n",
              "    <tr>\n",
              "      <th>246</th>\n",
              "      <td>2022-03-05</td>\n",
              "      <td>30627.47</td>\n",
              "      <td>29881.82</td>\n",
              "      <td>30674.28</td>\n",
              "    </tr>\n",
              "    <tr>\n",
              "      <th>247</th>\n",
              "      <td>2022-03-06</td>\n",
              "      <td>30417.64</td>\n",
              "      <td>30344.50</td>\n",
              "      <td>30637.47</td>\n",
              "    </tr>\n",
              "    <tr>\n",
              "      <th>248</th>\n",
              "      <td>2022-03-07</td>\n",
              "      <td>30415.09</td>\n",
              "      <td>30393.04</td>\n",
              "      <td>30525.35</td>\n",
              "    </tr>\n",
              "    <tr>\n",
              "      <th>249</th>\n",
              "      <td>2022-03-08</td>\n",
              "      <td>30492.07</td>\n",
              "      <td>30274.24</td>\n",
              "      <td>30588.79</td>\n",
              "    </tr>\n",
              "    <tr>\n",
              "      <th>250</th>\n",
              "      <td>2022-03-09</td>\n",
              "      <td>30283.23</td>\n",
              "      <td>30283.23</td>\n",
              "      <td>30525.56</td>\n",
              "    </tr>\n",
              "  </tbody>\n",
              "</table>\n",
              "<p>251 rows × 4 columns</p>\n",
              "</div>\n",
              "      <button class=\"colab-df-convert\" onclick=\"convertToInteractive('df-ad28e41e-d777-4e2f-97db-96f60aa17643')\"\n",
              "              title=\"Convert this dataframe to an interactive table.\"\n",
              "              style=\"display:none;\">\n",
              "        \n",
              "  <svg xmlns=\"http://www.w3.org/2000/svg\" height=\"24px\"viewBox=\"0 0 24 24\"\n",
              "       width=\"24px\">\n",
              "    <path d=\"M0 0h24v24H0V0z\" fill=\"none\"/>\n",
              "    <path d=\"M18.56 5.44l.94 2.06.94-2.06 2.06-.94-2.06-.94-.94-2.06-.94 2.06-2.06.94zm-11 1L8.5 8.5l.94-2.06 2.06-.94-2.06-.94L8.5 2.5l-.94 2.06-2.06.94zm10 10l.94 2.06.94-2.06 2.06-.94-2.06-.94-.94-2.06-.94 2.06-2.06.94z\"/><path d=\"M17.41 7.96l-1.37-1.37c-.4-.4-.92-.59-1.43-.59-.52 0-1.04.2-1.43.59L10.3 9.45l-7.72 7.72c-.78.78-.78 2.05 0 2.83L4 21.41c.39.39.9.59 1.41.59.51 0 1.02-.2 1.41-.59l7.78-7.78 2.81-2.81c.8-.78.8-2.07 0-2.86zM5.41 20L4 18.59l7.72-7.72 1.47 1.35L5.41 20z\"/>\n",
              "  </svg>\n",
              "      </button>\n",
              "      \n",
              "  <style>\n",
              "    .colab-df-container {\n",
              "      display:flex;\n",
              "      flex-wrap:wrap;\n",
              "      gap: 12px;\n",
              "    }\n",
              "\n",
              "    .colab-df-convert {\n",
              "      background-color: #E8F0FE;\n",
              "      border: none;\n",
              "      border-radius: 50%;\n",
              "      cursor: pointer;\n",
              "      display: none;\n",
              "      fill: #1967D2;\n",
              "      height: 32px;\n",
              "      padding: 0 0 0 0;\n",
              "      width: 32px;\n",
              "    }\n",
              "\n",
              "    .colab-df-convert:hover {\n",
              "      background-color: #E2EBFA;\n",
              "      box-shadow: 0px 1px 2px rgba(60, 64, 67, 0.3), 0px 1px 3px 1px rgba(60, 64, 67, 0.15);\n",
              "      fill: #174EA6;\n",
              "    }\n",
              "\n",
              "    [theme=dark] .colab-df-convert {\n",
              "      background-color: #3B4455;\n",
              "      fill: #D2E3FC;\n",
              "    }\n",
              "\n",
              "    [theme=dark] .colab-df-convert:hover {\n",
              "      background-color: #434B5C;\n",
              "      box-shadow: 0px 1px 3px 1px rgba(0, 0, 0, 0.15);\n",
              "      filter: drop-shadow(0px 1px 2px rgba(0, 0, 0, 0.3));\n",
              "      fill: #FFFFFF;\n",
              "    }\n",
              "  </style>\n",
              "\n",
              "      <script>\n",
              "        const buttonEl =\n",
              "          document.querySelector('#df-ad28e41e-d777-4e2f-97db-96f60aa17643 button.colab-df-convert');\n",
              "        buttonEl.style.display =\n",
              "          google.colab.kernel.accessAllowed ? 'block' : 'none';\n",
              "\n",
              "        async function convertToInteractive(key) {\n",
              "          const element = document.querySelector('#df-ad28e41e-d777-4e2f-97db-96f60aa17643');\n",
              "          const dataTable =\n",
              "            await google.colab.kernel.invokeFunction('convertToInteractive',\n",
              "                                                     [key], {});\n",
              "          if (!dataTable) return;\n",
              "\n",
              "          const docLinkHtml = 'Like what you see? Visit the ' +\n",
              "            '<a target=\"_blank\" href=https://colab.research.google.com/notebooks/data_table.ipynb>data table notebook</a>'\n",
              "            + ' to learn more about interactive tables.';\n",
              "          element.innerHTML = '';\n",
              "          dataTable['output_type'] = 'display_data';\n",
              "          await google.colab.output.renderOutput(dataTable, element);\n",
              "          const docLink = document.createElement('div');\n",
              "          docLink.innerHTML = docLinkHtml;\n",
              "          element.appendChild(docLink);\n",
              "        }\n",
              "      </script>\n",
              "    </div>\n",
              "  </div>\n",
              "  "
            ],
            "text/plain": [
              "            ds      Open       Low      High\n",
              "0   2021-04-19  35782.42  35782.42  36060.99\n",
              "1   2021-04-20  35491.71  35433.13  35764.67\n",
              "2   2021-04-21  35069.50  35069.50  35508.96\n",
              "3   2021-04-22  35222.12  34665.50  35222.12\n",
              "4   2021-04-23  35800.11  35284.26  35800.11\n",
              "..         ...       ...       ...       ...\n",
              "246 2022-03-05  30627.47  29881.82  30674.28\n",
              "247 2022-03-06  30417.64  30344.50  30637.47\n",
              "248 2022-03-07  30415.09  30393.04  30525.35\n",
              "249 2022-03-08  30492.07  30274.24  30588.79\n",
              "250 2022-03-09  30283.23  30283.23  30525.56\n",
              "\n",
              "[251 rows x 4 columns]"
            ]
          },
          "metadata": {},
          "execution_count": 24
        }
      ]
    },
    {
      "cell_type": "code",
      "source": [
        "forecast = m.predict(future)\n",
        "forecast[['ds', 'yhat', 'yhat_lower', 'yhat_upper']].tail()"
      ],
      "metadata": {
        "colab": {
          "base_uri": "https://localhost:8080/",
          "height": 204
        },
        "id": "zhZqx5B5jkVO",
        "outputId": "4e7c8f44-1679-4cb8-e3a3-ebf1da71996a"
      },
      "execution_count": null,
      "outputs": [
        {
          "output_type": "execute_result",
          "data": {
            "text/html": [
              "\n",
              "  <div id=\"df-10b51116-2e68-4ead-b3e5-3c5ab2f1fa98\">\n",
              "    <div class=\"colab-df-container\">\n",
              "      <div>\n",
              "<style scoped>\n",
              "    .dataframe tbody tr th:only-of-type {\n",
              "        vertical-align: middle;\n",
              "    }\n",
              "\n",
              "    .dataframe tbody tr th {\n",
              "        vertical-align: top;\n",
              "    }\n",
              "\n",
              "    .dataframe thead th {\n",
              "        text-align: right;\n",
              "    }\n",
              "</style>\n",
              "<table border=\"1\" class=\"dataframe\">\n",
              "  <thead>\n",
              "    <tr style=\"text-align: right;\">\n",
              "      <th></th>\n",
              "      <th>ds</th>\n",
              "      <th>yhat</th>\n",
              "      <th>yhat_lower</th>\n",
              "      <th>yhat_upper</th>\n",
              "    </tr>\n",
              "  </thead>\n",
              "  <tbody>\n",
              "    <tr>\n",
              "      <th>246</th>\n",
              "      <td>2022-03-05</td>\n",
              "      <td>36388.480062</td>\n",
              "      <td>-39652.632344</td>\n",
              "      <td>105129.922774</td>\n",
              "    </tr>\n",
              "    <tr>\n",
              "      <th>247</th>\n",
              "      <td>2022-03-06</td>\n",
              "      <td>36395.798405</td>\n",
              "      <td>-31970.486181</td>\n",
              "      <td>108134.529257</td>\n",
              "    </tr>\n",
              "    <tr>\n",
              "      <th>248</th>\n",
              "      <td>2022-03-07</td>\n",
              "      <td>36403.431429</td>\n",
              "      <td>-38758.089991</td>\n",
              "      <td>107727.321692</td>\n",
              "    </tr>\n",
              "    <tr>\n",
              "      <th>249</th>\n",
              "      <td>2022-03-08</td>\n",
              "      <td>36410.952698</td>\n",
              "      <td>-34939.978633</td>\n",
              "      <td>105054.140952</td>\n",
              "    </tr>\n",
              "    <tr>\n",
              "      <th>250</th>\n",
              "      <td>2022-03-09</td>\n",
              "      <td>36418.813495</td>\n",
              "      <td>-36737.021671</td>\n",
              "      <td>106874.129758</td>\n",
              "    </tr>\n",
              "  </tbody>\n",
              "</table>\n",
              "</div>\n",
              "      <button class=\"colab-df-convert\" onclick=\"convertToInteractive('df-10b51116-2e68-4ead-b3e5-3c5ab2f1fa98')\"\n",
              "              title=\"Convert this dataframe to an interactive table.\"\n",
              "              style=\"display:none;\">\n",
              "        \n",
              "  <svg xmlns=\"http://www.w3.org/2000/svg\" height=\"24px\"viewBox=\"0 0 24 24\"\n",
              "       width=\"24px\">\n",
              "    <path d=\"M0 0h24v24H0V0z\" fill=\"none\"/>\n",
              "    <path d=\"M18.56 5.44l.94 2.06.94-2.06 2.06-.94-2.06-.94-.94-2.06-.94 2.06-2.06.94zm-11 1L8.5 8.5l.94-2.06 2.06-.94-2.06-.94L8.5 2.5l-.94 2.06-2.06.94zm10 10l.94 2.06.94-2.06 2.06-.94-2.06-.94-.94-2.06-.94 2.06-2.06.94z\"/><path d=\"M17.41 7.96l-1.37-1.37c-.4-.4-.92-.59-1.43-.59-.52 0-1.04.2-1.43.59L10.3 9.45l-7.72 7.72c-.78.78-.78 2.05 0 2.83L4 21.41c.39.39.9.59 1.41.59.51 0 1.02-.2 1.41-.59l7.78-7.78 2.81-2.81c.8-.78.8-2.07 0-2.86zM5.41 20L4 18.59l7.72-7.72 1.47 1.35L5.41 20z\"/>\n",
              "  </svg>\n",
              "      </button>\n",
              "      \n",
              "  <style>\n",
              "    .colab-df-container {\n",
              "      display:flex;\n",
              "      flex-wrap:wrap;\n",
              "      gap: 12px;\n",
              "    }\n",
              "\n",
              "    .colab-df-convert {\n",
              "      background-color: #E8F0FE;\n",
              "      border: none;\n",
              "      border-radius: 50%;\n",
              "      cursor: pointer;\n",
              "      display: none;\n",
              "      fill: #1967D2;\n",
              "      height: 32px;\n",
              "      padding: 0 0 0 0;\n",
              "      width: 32px;\n",
              "    }\n",
              "\n",
              "    .colab-df-convert:hover {\n",
              "      background-color: #E2EBFA;\n",
              "      box-shadow: 0px 1px 2px rgba(60, 64, 67, 0.3), 0px 1px 3px 1px rgba(60, 64, 67, 0.15);\n",
              "      fill: #174EA6;\n",
              "    }\n",
              "\n",
              "    [theme=dark] .colab-df-convert {\n",
              "      background-color: #3B4455;\n",
              "      fill: #D2E3FC;\n",
              "    }\n",
              "\n",
              "    [theme=dark] .colab-df-convert:hover {\n",
              "      background-color: #434B5C;\n",
              "      box-shadow: 0px 1px 3px 1px rgba(0, 0, 0, 0.15);\n",
              "      filter: drop-shadow(0px 1px 2px rgba(0, 0, 0, 0.3));\n",
              "      fill: #FFFFFF;\n",
              "    }\n",
              "  </style>\n",
              "\n",
              "      <script>\n",
              "        const buttonEl =\n",
              "          document.querySelector('#df-10b51116-2e68-4ead-b3e5-3c5ab2f1fa98 button.colab-df-convert');\n",
              "        buttonEl.style.display =\n",
              "          google.colab.kernel.accessAllowed ? 'block' : 'none';\n",
              "\n",
              "        async function convertToInteractive(key) {\n",
              "          const element = document.querySelector('#df-10b51116-2e68-4ead-b3e5-3c5ab2f1fa98');\n",
              "          const dataTable =\n",
              "            await google.colab.kernel.invokeFunction('convertToInteractive',\n",
              "                                                     [key], {});\n",
              "          if (!dataTable) return;\n",
              "\n",
              "          const docLinkHtml = 'Like what you see? Visit the ' +\n",
              "            '<a target=\"_blank\" href=https://colab.research.google.com/notebooks/data_table.ipynb>data table notebook</a>'\n",
              "            + ' to learn more about interactive tables.';\n",
              "          element.innerHTML = '';\n",
              "          dataTable['output_type'] = 'display_data';\n",
              "          await google.colab.output.renderOutput(dataTable, element);\n",
              "          const docLink = document.createElement('div');\n",
              "          docLink.innerHTML = docLinkHtml;\n",
              "          element.appendChild(docLink);\n",
              "        }\n",
              "      </script>\n",
              "    </div>\n",
              "  </div>\n",
              "  "
            ],
            "text/plain": [
              "            ds          yhat    yhat_lower     yhat_upper\n",
              "246 2022-03-05  36388.480062 -39652.632344  105129.922774\n",
              "247 2022-03-06  36395.798405 -31970.486181  108134.529257\n",
              "248 2022-03-07  36403.431429 -38758.089991  107727.321692\n",
              "249 2022-03-08  36410.952698 -34939.978633  105054.140952\n",
              "250 2022-03-09  36418.813495 -36737.021671  106874.129758"
            ]
          },
          "metadata": {},
          "execution_count": 25
        }
      ]
    },
    {
      "cell_type": "code",
      "source": [
        "fig1 = m.plot(forecast)"
      ],
      "metadata": {
        "colab": {
          "base_uri": "https://localhost:8080/",
          "height": 441
        },
        "id": "xufgrcljj7EY",
        "outputId": "5d91704a-6a89-42a0-dd18-698c52f7efc8"
      },
      "execution_count": null,
      "outputs": [
        {
          "output_type": "display_data",
          "data": {
            "image/png": "[encoded data removed]",
            "text/plain": [
              "<Figure size 720x432 with 1 Axes>"
            ]
          },
          "metadata": {}
        }
      ]
    },
    {
      "cell_type": "code",
      "source": [
        "fig2 = m.plot_components(forecast)"
      ],
      "metadata": {
        "colab": {
          "base_uri": "https://localhost:8080/",
          "height": 873
        },
        "id": "yacjqntcj9TB",
        "outputId": "03d2b6b4-ae1d-48b3-ac57-b0781b7aaa6a"
      },
      "execution_count": null,
      "outputs": [
        {
          "output_type": "display_data",
          "data": {
            "image/png": "[encoded data removed]",
            "text/plain": [
              "<Figure size 648x864 with 4 Axes>"
            ]
          },
          "metadata": {}
        }
      ]
    },
    {
      "cell_type": "code",
      "source": [
        "from fbprophet.diagnostics import cross_validation,  performance_metrics\n",
        "cv_results = cross_validation( model = m, initial = '175 days', horizon = '60 days')\n",
        "df_p = performance_metrics(cv_results)\n",
        "df_p"
      ],
      "metadata": {
        "id": "P5Y13le4kPM9"
      },
      "execution_count": null,
      "outputs": []
    },
    {
      "cell_type": "code",
      "source": [
        "from fbprophet.plot import plot_cross_validation_metric\n",
        "fig3 = plot_cross_validation_metric(cv_results, metric='mape')"
      ],
      "metadata": {
        "colab": {
          "base_uri": "https://localhost:8080/",
          "height": 388
        },
        "id": "ICACI7_qky4y",
        "outputId": "e411b988-d356-49f8-e3ce-af84969e8da7"
      },
      "execution_count": null,
      "outputs": [
        {
          "output_type": "display_data",
          "data": {
            "image/png": "[encoded data removed]",
            "text/plain": [
              "<Figure size 720x432 with 1 Axes>"
            ]
          },
          "metadata": {}
        }
      ]
    },
    {
      "cell_type": "code",
      "source": [
        "forecast.shape\n"
      ],
      "metadata": {
        "colab": {
          "base_uri": "https://localhost:8080/"
        },
        "id": "lytDlNB2lUCP",
        "outputId": "f7bbd0a9-9d8d-467a-a1a3-73f7f909c49b"
      },
      "execution_count": null,
      "outputs": [
        {
          "output_type": "execute_result",
          "data": {
            "text/plain": [
              "(251, 31)"
            ]
          },
          "metadata": {},
          "execution_count": 31
        }
      ]
    },
    {
      "cell_type": "code",
      "source": [
        "forecast.columns"
      ],
      "metadata": {
        "colab": {
          "base_uri": "https://localhost:8080/"
        },
        "id": "igwUWAJulXQi",
        "outputId": "10d9e310-0fa5-4206-98b4-6672b2163831"
      },
      "execution_count": null,
      "outputs": [
        {
          "output_type": "execute_result",
          "data": {
            "text/plain": [
              "Index(['ds', 'trend', 'yhat_lower', 'yhat_upper', 'trend_lower', 'trend_upper',\n",
              "       'High', 'High_lower', 'High_upper', 'Low', 'Low_lower', 'Low_upper',\n",
              "       'Open', 'Open_lower', 'Open_upper', 'additive_terms',\n",
              "       'additive_terms_lower', 'additive_terms_upper',\n",
              "       'extra_regressors_additive', 'extra_regressors_additive_lower',\n",
              "       'extra_regressors_additive_upper', 'weekly', 'weekly_lower',\n",
              "       'weekly_upper', 'yearly', 'yearly_lower', 'yearly_upper',\n",
              "       'multiplicative_terms', 'multiplicative_terms_lower',\n",
              "       'multiplicative_terms_upper', 'yhat'],\n",
              "      dtype='object')"
            ]
          },
          "metadata": {},
          "execution_count": 32
        }
      ]
    },
    {
      "cell_type": "code",
      "source": [
        "forecast['Close'] = data_Dow_Jones['y']"
      ],
      "metadata": {
        "id": "9P2AAoQ2lnMx"
      },
      "execution_count": null,
      "outputs": []
    },
    {
      "cell_type": "code",
      "source": [
        "final_pred = forecast[['Close', 'yhat']]"
      ],
      "metadata": {
        "id": "hBv2sDtFmENR"
      },
      "execution_count": null,
      "outputs": []
    },
    {
      "cell_type": "code",
      "source": [
        "final_pred"
      ],
      "metadata": {
        "id": "ciEExmjWmNyO",
        "outputId": "5e19ebb4-e2e7-45fc-e7db-0bb400a51fa2",
        "colab": {
          "base_uri": "https://localhost:8080/",
          "height": 419
        }
      },
      "execution_count": null,
      "outputs": [
        {
          "output_type": "execute_result",
          "data": {
            "text/html": [
              "\n",
              "  <div id=\"df-f353644c-1308-46d3-a822-ce770c527a24\">\n",
              "    <div class=\"colab-df-container\">\n",
              "      <div>\n",
              "<style scoped>\n",
              "    .dataframe tbody tr th:only-of-type {\n",
              "        vertical-align: middle;\n",
              "    }\n",
              "\n",
              "    .dataframe tbody tr th {\n",
              "        vertical-align: top;\n",
              "    }\n",
              "\n",
              "    .dataframe thead th {\n",
              "        text-align: right;\n",
              "    }\n",
              "</style>\n",
              "<table border=\"1\" class=\"dataframe\">\n",
              "  <thead>\n",
              "    <tr style=\"text-align: right;\">\n",
              "      <th></th>\n",
              "      <th>Close</th>\n",
              "      <th>yhat</th>\n",
              "    </tr>\n",
              "  </thead>\n",
              "  <tbody>\n",
              "    <tr>\n",
              "      <th>0</th>\n",
              "      <td>35950.56</td>\n",
              "      <td>33952.734393</td>\n",
              "    </tr>\n",
              "    <tr>\n",
              "      <th>1</th>\n",
              "      <td>35753.89</td>\n",
              "      <td>33961.371344</td>\n",
              "    </tr>\n",
              "    <tr>\n",
              "      <th>2</th>\n",
              "      <td>35492.70</td>\n",
              "      <td>33970.130032</td>\n",
              "    </tr>\n",
              "    <tr>\n",
              "      <th>3</th>\n",
              "      <td>34932.16</td>\n",
              "      <td>33978.299652</td>\n",
              "    </tr>\n",
              "    <tr>\n",
              "      <th>4</th>\n",
              "      <td>35365.44</td>\n",
              "      <td>33983.793649</td>\n",
              "    </tr>\n",
              "    <tr>\n",
              "      <th>...</th>\n",
              "      <td>...</td>\n",
              "      <td>...</td>\n",
              "    </tr>\n",
              "    <tr>\n",
              "      <th>246</th>\n",
              "      <td>30223.89</td>\n",
              "      <td>36388.480062</td>\n",
              "    </tr>\n",
              "    <tr>\n",
              "      <th>247</th>\n",
              "      <td>30606.48</td>\n",
              "      <td>36395.798405</td>\n",
              "    </tr>\n",
              "    <tr>\n",
              "      <th>248</th>\n",
              "      <td>30409.56</td>\n",
              "      <td>36403.431429</td>\n",
              "    </tr>\n",
              "    <tr>\n",
              "      <th>249</th>\n",
              "      <td>30335.67</td>\n",
              "      <td>36410.952698</td>\n",
              "    </tr>\n",
              "    <tr>\n",
              "      <th>250</th>\n",
              "      <td>30403.97</td>\n",
              "      <td>36418.813495</td>\n",
              "    </tr>\n",
              "  </tbody>\n",
              "</table>\n",
              "<p>251 rows × 2 columns</p>\n",
              "</div>\n",
              "      <button class=\"colab-df-convert\" onclick=\"convertToInteractive('df-f353644c-1308-46d3-a822-ce770c527a24')\"\n",
              "              title=\"Convert this dataframe to an interactive table.\"\n",
              "              style=\"display:none;\">\n",
              "        \n",
              "  <svg xmlns=\"http://www.w3.org/2000/svg\" height=\"24px\"viewBox=\"0 0 24 24\"\n",
              "       width=\"24px\">\n",
              "    <path d=\"M0 0h24v24H0V0z\" fill=\"none\"/>\n",
              "    <path d=\"M18.56 5.44l.94 2.06.94-2.06 2.06-.94-2.06-.94-.94-2.06-.94 2.06-2.06.94zm-11 1L8.5 8.5l.94-2.06 2.06-.94-2.06-.94L8.5 2.5l-.94 2.06-2.06.94zm10 10l.94 2.06.94-2.06 2.06-.94-2.06-.94-.94-2.06-.94 2.06-2.06.94z\"/><path d=\"M17.41 7.96l-1.37-1.37c-.4-.4-.92-.59-1.43-.59-.52 0-1.04.2-1.43.59L10.3 9.45l-7.72 7.72c-.78.78-.78 2.05 0 2.83L4 21.41c.39.39.9.59 1.41.59.51 0 1.02-.2 1.41-.59l7.78-7.78 2.81-2.81c.8-.78.8-2.07 0-2.86zM5.41 20L4 18.59l7.72-7.72 1.47 1.35L5.41 20z\"/>\n",
              "  </svg>\n",
              "      </button>\n",
              "      \n",
              "  <style>\n",
              "    .colab-df-container {\n",
              "      display:flex;\n",
              "      flex-wrap:wrap;\n",
              "      gap: 12px;\n",
              "    }\n",
              "\n",
              "    .colab-df-convert {\n",
              "      background-color: #E8F0FE;\n",
              "      border: none;\n",
              "      border-radius: 50%;\n",
              "      cursor: pointer;\n",
              "      display: none;\n",
              "      fill: #1967D2;\n",
              "      height: 32px;\n",
              "      padding: 0 0 0 0;\n",
              "      width: 32px;\n",
              "    }\n",
              "\n",
              "    .colab-df-convert:hover {\n",
              "      background-color: #E2EBFA;\n",
              "      box-shadow: 0px 1px 2px rgba(60, 64, 67, 0.3), 0px 1px 3px 1px rgba(60, 64, 67, 0.15);\n",
              "      fill: #174EA6;\n",
              "    }\n",
              "\n",
              "    [theme=dark] .colab-df-convert {\n",
              "      background-color: #3B4455;\n",
              "      fill: #D2E3FC;\n",
              "    }\n",
              "\n",
              "    [theme=dark] .colab-df-convert:hover {\n",
              "      background-color: #434B5C;\n",
              "      box-shadow: 0px 1px 3px 1px rgba(0, 0, 0, 0.15);\n",
              "      filter: drop-shadow(0px 1px 2px rgba(0, 0, 0, 0.3));\n",
              "      fill: #FFFFFF;\n",
              "    }\n",
              "  </style>\n",
              "\n",
              "      <script>\n",
              "        const buttonEl =\n",
              "          document.querySelector('#df-f353644c-1308-46d3-a822-ce770c527a24 button.colab-df-convert');\n",
              "        buttonEl.style.display =\n",
              "          google.colab.kernel.accessAllowed ? 'block' : 'none';\n",
              "\n",
              "        async function convertToInteractive(key) {\n",
              "          const element = document.querySelector('#df-f353644c-1308-46d3-a822-ce770c527a24');\n",
              "          const dataTable =\n",
              "            await google.colab.kernel.invokeFunction('convertToInteractive',\n",
              "                                                     [key], {});\n",
              "          if (!dataTable) return;\n",
              "\n",
              "          const docLinkHtml = 'Like what you see? Visit the ' +\n",
              "            '<a target=\"_blank\" href=https://colab.research.google.com/notebooks/data_table.ipynb>data table notebook</a>'\n",
              "            + ' to learn more about interactive tables.';\n",
              "          element.innerHTML = '';\n",
              "          dataTable['output_type'] = 'display_data';\n",
              "          await google.colab.output.renderOutput(dataTable, element);\n",
              "          const docLink = document.createElement('div');\n",
              "          docLink.innerHTML = docLinkHtml;\n",
              "          element.appendChild(docLink);\n",
              "        }\n",
              "      </script>\n",
              "    </div>\n",
              "  </div>\n",
              "  "
            ],
            "text/plain": [
              "        Close          yhat\n",
              "0    35950.56  33952.734393\n",
              "1    35753.89  33961.371344\n",
              "2    35492.70  33970.130032\n",
              "3    34932.16  33978.299652\n",
              "4    35365.44  33983.793649\n",
              "..        ...           ...\n",
              "246  30223.89  36388.480062\n",
              "247  30606.48  36395.798405\n",
              "248  30409.56  36403.431429\n",
              "249  30335.67  36410.952698\n",
              "250  30403.97  36418.813495\n",
              "\n",
              "[251 rows x 2 columns]"
            ]
          },
          "metadata": {},
          "execution_count": 38
        }
      ]
    },
    {
      "cell_type": "code",
      "source": [
        "timeseries_evaluation_metrics_func(final_pred['Close'], final_pred['yhat'])"
      ],
      "metadata": {
        "colab": {
          "base_uri": "https://localhost:8080/"
        },
        "id": "WN-4S5f4njIg",
        "outputId": "2a58b82e-4eec-4abe-b16e-c1195288d502"
      },
      "execution_count": 42,
      "outputs": [
        {
          "output_type": "stream",
          "name": "stdout",
          "text": [
            "Evaluation metric results:-\n",
            "MSE is : 7066777.166403728\n",
            "MAE is : 1969.7649424118015\n",
            "RMSE is : 2658.341055320729\n",
            "MAPE is : 6.055123949415073\n",
            "R2 is : -1.612285633288118\n",
            "\n"
          ]
        }
      ]
    }
  ]
}