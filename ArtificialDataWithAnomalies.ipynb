{
  "nbformat": 4,
  "nbformat_minor": 0,
  "metadata": {
    "colab": {
      "name": "ArtificialDataWithAnomalies.ipynb",
      "provenance": [],
      "collapsed_sections": []
    },
    "kernelspec": {
      "name": "python3",
      "display_name": "Python 3"
    },
    "language_info": {
      "name": "python"
    }
  },
  "cells": [
    {
      "cell_type": "code",
      "metadata": {
        "id": "nrC3r99W13kL"
      },
      "source": [
        "import pandas as pd\n",
        "import numpy as np\n",
        "import matplotlib.pyplot as plt\n",
        "from datetime import datetime, timedelta"
      ],
      "execution_count": 1,
      "outputs": []
    },
    {
      "cell_type": "markdown",
      "metadata": {
        "id": "uV1kBSSI8khJ"
      },
      "source": [
        "Generate data according to below equation of MA model: \n",
        "\n",
        "\n",
        "\n",
        "![CodeCogsEqn.gif](data:image/gif;base64,R0lGODlh8gAQALMAAP///wAAAMzMzKqqqmZmZu7u7hAQEERERIiIiLq6unZ2dlRUVCIiItzc3JiYmDIyMiH5BAEAAAAALAAAAADyABAAAAT+EMhJq714tqccOs2UII6SZOg1lmcqKGkszyppZo63IHTv/8AgoMEIGBYhieAxeSQzhdiy+cQwCMJs1MWUOC+dSYCX/W3L6FljcDmwJQgsytHKuCfx+UKe7tFTd3B8FAoHE0d9NH+JjBZrFwECIgYpixmRkxkCAgSDBQQHDweSjROWGJgSCZQoBQEOE5+ho6USpxiyoqQUAgN8vqUNJCxKAU8CAWcXtxXIx8kYsJ2xClsCdaXMvMYTyMoWCF0ABdVK2IzaFOTW5wVsBqQHZBkEC/b3+DAWBfMMkgncilWxkE5VQADOlkmYZqtWtHMVAD4baIphQ4cVCl7McALZIVL+3xKBQnhQ4hyI256YbEbK4oBNA5SFvODOkAyNCQ1SpODgwJaXvWTKGFBi0MMUQGOqI7Sg2AQQtRBQapAKwABoFOrde/AgXwWqu66GhLWQTwEGO95IgIp0gDgLWu1x9UoB7ASxgLqcTUuBbQZhEhboy4pv7r3BsdAiUAvAL4MWHw4lYqAWQQAJAeoMYIUDJYXMdzlXVECaAQdJZC2IRrFhhkYAoCVsvrBgFwFoqSusvjAFQM9Knk1h4OxqizyEBB7knhAX3+ELXxbaPJAaQdOTgKpftyOHcbfkyzG0vhl8rXZHAdQuuOxdCXgapIGjaI9cuRgJdgEgmIfGwZYCBiTokYBNAETXWQoDUoHfAiEd0F0d7sDBH2tvYYdCgl4k0QCDEpQzjgE8DADhG/vRcNZMPJUnYiwk8ldCCZettUsaHihAQBUDLHaDfEjpWIcAAfKigAEGKBACAqYtkBotcJDmpALzjBfDa1b52E2QTVpXWZJL7oLAk6TxV9uU5enH5VMz4sHHbhj5UWYtbIpX4YFtXhDnBQhIslOKQIj2QAtYFsBEeHXGUACKGAnqmwxEzHBooRUoSmhEkKXwqA+SBrZQbgS8BOmnWXSapgpDOrAnqPR4yloArAaAGCOi2uIBfajWauutuAYRAQA7)"
      ]
    },
    {
      "cell_type": "markdown",
      "metadata": {
        "id": "TlMhFF9V-nvN"
      },
      "source": [
        "Error or White noise: \n",
        "![CodeCogsEqn (1).gif](data:image/gif;base64,R0lGODlhXwATALMAAP///wAAAO7u7mZmZkRERDIyMszMzHZ2drq6upiYmKqqqiIiIlRUVIiIiNzc3BAQECH5BAEAAAAALAAAAABfABMAAAT+EMhJq7044/EIFY0mXuFonpeiXEy3Tgx6CoNsm09hCYfVIBREI3EAjhAFQ0WRuDkvgkBAUGk4LLqJIQsoXDOOhiGgrHCfaMQg0KTUlm0J4QVovEVky4FOIxQIZWgiCQYLZwA9FQRfEnkSCA8mjkExADxUAAZGgho1DQGMCJsTkVqgppgakxSlcTIKCw+JFAqpFjUOASWIFwtBpxJjjBmrEwESCgYGtR8ZWw4ODB4UsxYObQW+EncTDmfCEwjAqoGsVAILDA10AIsbqQPTchkJXwkBQCAWWxS5gQpTRhSTsICKK1YZuAGI50AAA3YVuAWIoWCUBHQV8E1QUApPOVKVACAGG1Dg4ASTDR482LWj2gEy1RBSIBCnQSWPFyJVnCDgRQOWnKgcGBaFgMIJBWwhkOdFQjRbFDRWcDCtgSEGcQBx2hiAwM0Jn2KChahgXREtDw7yYBCgwIFyCUzK3AoAgSGoEuQ6/SpCpAYCeHnq0Ev3BOATfjFEEzEgWWE0Do6mkDEg8OPLCBLTQkHosucLw7YOiwAAOw==)"
      ]
    },
    {
      "cell_type": "code",
      "metadata": {
        "id": "fC_jJI8f8e2U"
      },
      "source": [
        "errors = np.random.normal(0, 1, 400)"
      ],
      "execution_count": 2,
      "outputs": []
    },
    {
      "cell_type": "code",
      "metadata": {
        "id": "fgbON-3gB2vp"
      },
      "source": [
        "date_index = pd.date_range(start='1/1/2019', end='31/12/2019')"
      ],
      "execution_count": 3,
      "outputs": []
    },
    {
      "cell_type": "code",
      "metadata": {
        "id": "6aSEGw5khxwa"
      },
      "source": [
        "mu = 20\n",
        "series = []\n",
        "for t in range(1,len(date_index)+1):\n",
        "    series.append(mu + 0.4*errors[t-1] + 0.3*errors[t-2] + errors[t])"
      ],
      "execution_count": 4,
      "outputs": []
    },
    {
      "cell_type": "code",
      "metadata": {
        "colab": {
          "base_uri": "https://localhost:8080/"
        },
        "id": "GUtDOkR2aQSH",
        "outputId": "8555ba51-e2fd-4f7d-e912-512394b2f040"
      },
      "source": [
        "len(series)"
      ],
      "execution_count": 5,
      "outputs": [
        {
          "output_type": "execute_result",
          "data": {
            "text/plain": [
              "365"
            ]
          },
          "metadata": {},
          "execution_count": 5
        }
      ]
    },
    {
      "cell_type": "code",
      "metadata": {
        "id": "jQinbiyvaXbQ"
      },
      "source": [
        "#print(series)"
      ],
      "execution_count": 6,
      "outputs": []
    },
    {
      "cell_type": "markdown",
      "metadata": {
        "id": "5vU3n1sQ9zKz"
      },
      "source": [
        "Code to insert point anomalies"
      ]
    },
    {
      "cell_type": "code",
      "metadata": {
        "id": "UBMCwpks91ub",
        "colab": {
          "base_uri": "https://localhost:8080/"
        },
        "outputId": "afe3e5bb-1803-44e2-b344-ff0bf28d020f"
      },
      "source": [
        "pointAnomalies = [30, 90, 73, 44, 89, 201, 350 ] # index at which we want to insert point anomalies\n",
        "# values of point anomalies\n",
        "pointAnomaliesValues = np.random.normal(30, 2, 8)\n",
        "\n",
        "print(pointAnomaliesValues)\n",
        "for i in range(len(pointAnomalies)):\n",
        "  series[pointAnomalies[i]] = pointAnomaliesValues[i]\n",
        "  #print(series[i])\n",
        "\n"
      ],
      "execution_count": 7,
      "outputs": [
        {
          "output_type": "stream",
          "name": "stdout",
          "text": [
            "[29.3336241  31.52526437 30.69766853 26.78784571 27.25929777 28.94946903\n",
            " 31.20278003 30.10045481]\n"
          ]
        }
      ]
    },
    {
      "cell_type": "code",
      "metadata": {
        "colab": {
          "base_uri": "https://localhost:8080/"
        },
        "id": "LoizFGGvZeuC",
        "outputId": "4c9a45d6-172d-4127-a235-6abb9f92cdd4"
      },
      "source": [
        "for i in range(len(series)):\n",
        "  if series[i] > 30:\n",
        "    print(series[i])\n",
        "    print(i)"
      ],
      "execution_count": 8,
      "outputs": [
        {
          "output_type": "stream",
          "name": "stdout",
          "text": [
            "30.697668533515014\n",
            "73\n",
            "31.52526436528373\n",
            "90\n",
            "31.202780029070848\n",
            "350\n"
          ]
        }
      ]
    },
    {
      "cell_type": "code",
      "metadata": {
        "id": "bZWQmYH7h_nY"
      },
      "source": [
        "series = pd.Series(series, date_index)\n",
        "series = series.asfreq(pd.infer_freq(series.index))"
      ],
      "execution_count": 9,
      "outputs": []
    },
    {
      "cell_type": "markdown",
      "metadata": {
        "id": "pRlOiaxJa0Wm"
      },
      "source": [
        "**Code to insert Contextual Anomalies**"
      ]
    },
    {
      "cell_type": "code",
      "metadata": {
        "id": "SoHgpxxAa5bL"
      },
      "source": [
        "contextualAnomalies = [[58, 70],[170, 183],[283, 297]]\n",
        "\n",
        "for i in range(len(contextualAnomalies)):\n",
        "  anomalyRange = contextualAnomalies[i][1] - contextualAnomalies[i][0]\n",
        "  pointAnomaliesValues = np.random.normal(10, 2, anomalyRange)\n",
        "  for j in range(anomalyRange):\n",
        "    series[contextualAnomalies[i][0]+j] = pointAnomaliesValues[j]\n",
        "\n",
        "\n",
        "\n"
      ],
      "execution_count": 10,
      "outputs": []
    },
    {
      "cell_type": "code",
      "metadata": {
        "colab": {
          "base_uri": "https://localhost:8080/",
          "height": 282
        },
        "id": "03EFx0iwiGq3",
        "outputId": "cf967e2c-ead0-4de0-efc0-fa8eff59c5c6"
      },
      "source": [
        "plt.figure(figsize=(20,4))\n",
        "plt.plot(series)\n",
        "plt.axhline(mu, linestyle='--', color='grey')"
      ],
      "execution_count": 11,
      "outputs": [
        {
          "output_type": "execute_result",
          "data": {
            "text/plain": [
              "<matplotlib.lines.Line2D at 0x7efef99ac710>"
            ]
          },
          "metadata": {},
          "execution_count": 11
        },
        {
          "output_type": "display_data",
          "data": {
            "image/png": "[encoded data removed]",
            "text/plain": [
              "<Figure size 1440x288 with 1 Axes>"
            ]
          },
          "metadata": {
            "needs_background": "light"
          }
        }
      ]
    },
    {
      "cell_type": "code",
      "metadata": {
        "id": "A_FhPh7ywulG"
      },
      "source": [
        "# convert series to dataframe\n",
        "data = series.to_frame()"
      ],
      "execution_count": 14,
      "outputs": []
    },
    {
      "cell_type": "code",
      "metadata": {
        "colab": {
          "base_uri": "https://localhost:8080/"
        },
        "id": "03ePbgg3xQnL",
        "outputId": "958d3b03-9910-4c33-9509-9bfc3169730e"
      },
      "source": [
        "type(data)"
      ],
      "execution_count": 15,
      "outputs": [
        {
          "output_type": "execute_result",
          "data": {
            "text/plain": [
              "pandas.core.frame.DataFrame"
            ]
          },
          "metadata": {},
          "execution_count": 15
        }
      ]
    },
    {
      "cell_type": "code",
      "metadata": {
        "id": "pH0s7kWtxTzw"
      },
      "source": [
        ""
      ],
      "execution_count": null,
      "outputs": []
    }
  ]
}