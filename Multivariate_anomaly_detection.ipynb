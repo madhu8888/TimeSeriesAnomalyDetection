{
  "nbformat": 4,
  "nbformat_minor": 0,
  "metadata": {
    "colab": {
      "name": "Multivariate_anomaly_detection.ipynb",
      "provenance": [],
      "collapsed_sections": []
    },
    "kernelspec": {
      "name": "python3",
      "display_name": "Python 3"
    },
    "language_info": {
      "name": "python"
    }
  },
  "cells": [
    {
      "cell_type": "markdown",
      "metadata": {
        "id": "PHTwXxgKzSP1"
      },
      "source": [
        "**https://towardsdatascience.com/multivariate-outlier-detection-in-python-e946cfc843b3**\n",
        "\n",
        "http://sdsawtelle.github.io/blog/output/week9-anomaly-andrew-ng-machine-learning-with-python.html#Try-IsolationForests-for-High-Dimensions"
      ]
    },
    {
      "cell_type": "code",
      "metadata": {
        "id": "FpeKTzrpLkDu"
      },
      "source": [
        "import pandas as pd\n",
        "import numpy as np\n",
        "import matplotlib.pyplot as plt\n",
        "from scipy.stats import chi2\n",
        "from matplotlib import patches\n",
        "import seaborn as sns\n",
        "from sklearn.ensemble import IsolationForest\n",
        "from sklearn.preprocessing import StandardScaler"
      ],
      "execution_count": null,
      "outputs": []
    },
    {
      "cell_type": "code",
      "metadata": {
        "colab": {
          "base_uri": "https://localhost:8080/"
        },
        "id": "zveB9JuNLqjH",
        "outputId": "3189c974-2f1e-48d5-db0c-a6e405bcd4d7"
      },
      "source": [
        "import os\n",
        "from google.colab import drive\n",
        "drive.mount('/content/drive/')\n"
      ],
      "execution_count": null,
      "outputs": [
        {
          "output_type": "stream",
          "name": "stdout",
          "text": [
            "Mounted at /content/drive/\n"
          ]
        }
      ]
    },
    {
      "cell_type": "code",
      "metadata": {
        "id": "IoP_Z5UHLwxa"
      },
      "source": [
        "# https://www.kaggle.com/mlg-ulb/creditcardfraud?select=creditcard.csv\n",
        "path = \"/content/drive/My Drive/data/creditcard.csv\"\n",
        "df = pd.read_csv(path)\n",
        "#df"
      ],
      "execution_count": null,
      "outputs": []
    },
    {
      "cell_type": "markdown",
      "metadata": {
        "id": "GLn21-04Oxvc"
      },
      "source": [
        "https://towardsdatascience.com/multivariate-outlier-detection-in-python-e946cfc843b3"
      ]
    },
    {
      "cell_type": "code",
      "metadata": {
        "id": "auZ8OkeIOy6k"
      },
      "source": [
        "df_features = df.drop(['Time', 'Class'], 1)"
      ],
      "execution_count": null,
      "outputs": []
    },
    {
      "cell_type": "code",
      "metadata": {
        "colab": {
          "base_uri": "https://localhost:8080/",
          "height": 224
        },
        "id": "dCieJfWYPr3x",
        "outputId": "0c89943e-f4b1-422d-ddf6-2e02fc6ffd96"
      },
      "source": [
        "df_features.head()"
      ],
      "execution_count": null,
      "outputs": [
        {
          "output_type": "execute_result",
          "data": {
            "text/html": [
              "<div>\n",
              "<style scoped>\n",
              "    .dataframe tbody tr th:only-of-type {\n",
              "        vertical-align: middle;\n",
              "    }\n",
              "\n",
              "    .dataframe tbody tr th {\n",
              "        vertical-align: top;\n",
              "    }\n",
              "\n",
              "    .dataframe thead th {\n",
              "        text-align: right;\n",
              "    }\n",
              "</style>\n",
              "<table border=\"1\" class=\"dataframe\">\n",
              "  <thead>\n",
              "    <tr style=\"text-align: right;\">\n",
              "      <th></th>\n",
              "      <th>V1</th>\n",
              "      <th>V2</th>\n",
              "      <th>V3</th>\n",
              "      <th>V4</th>\n",
              "      <th>V5</th>\n",
              "      <th>V6</th>\n",
              "      <th>V7</th>\n",
              "      <th>V8</th>\n",
              "      <th>V9</th>\n",
              "      <th>V10</th>\n",
              "      <th>V11</th>\n",
              "      <th>V12</th>\n",
              "      <th>V13</th>\n",
              "      <th>V14</th>\n",
              "      <th>V15</th>\n",
              "      <th>V16</th>\n",
              "      <th>V17</th>\n",
              "      <th>V18</th>\n",
              "      <th>V19</th>\n",
              "      <th>V20</th>\n",
              "      <th>V21</th>\n",
              "      <th>V22</th>\n",
              "      <th>V23</th>\n",
              "      <th>V24</th>\n",
              "      <th>V25</th>\n",
              "      <th>V26</th>\n",
              "      <th>V27</th>\n",
              "      <th>V28</th>\n",
              "      <th>Amount</th>\n",
              "    </tr>\n",
              "  </thead>\n",
              "  <tbody>\n",
              "    <tr>\n",
              "      <th>0</th>\n",
              "      <td>-1.359807</td>\n",
              "      <td>-0.072781</td>\n",
              "      <td>2.536347</td>\n",
              "      <td>1.378155</td>\n",
              "      <td>-0.338321</td>\n",
              "      <td>0.462388</td>\n",
              "      <td>0.239599</td>\n",
              "      <td>0.098698</td>\n",
              "      <td>0.363787</td>\n",
              "      <td>0.090794</td>\n",
              "      <td>-0.551600</td>\n",
              "      <td>-0.617801</td>\n",
              "      <td>-0.991390</td>\n",
              "      <td>-0.311169</td>\n",
              "      <td>1.468177</td>\n",
              "      <td>-0.470401</td>\n",
              "      <td>0.207971</td>\n",
              "      <td>0.025791</td>\n",
              "      <td>0.403993</td>\n",
              "      <td>0.251412</td>\n",
              "      <td>-0.018307</td>\n",
              "      <td>0.277838</td>\n",
              "      <td>-0.110474</td>\n",
              "      <td>0.066928</td>\n",
              "      <td>0.128539</td>\n",
              "      <td>-0.189115</td>\n",
              "      <td>0.133558</td>\n",
              "      <td>-0.021053</td>\n",
              "      <td>149.62</td>\n",
              "    </tr>\n",
              "    <tr>\n",
              "      <th>1</th>\n",
              "      <td>1.191857</td>\n",
              "      <td>0.266151</td>\n",
              "      <td>0.166480</td>\n",
              "      <td>0.448154</td>\n",
              "      <td>0.060018</td>\n",
              "      <td>-0.082361</td>\n",
              "      <td>-0.078803</td>\n",
              "      <td>0.085102</td>\n",
              "      <td>-0.255425</td>\n",
              "      <td>-0.166974</td>\n",
              "      <td>1.612727</td>\n",
              "      <td>1.065235</td>\n",
              "      <td>0.489095</td>\n",
              "      <td>-0.143772</td>\n",
              "      <td>0.635558</td>\n",
              "      <td>0.463917</td>\n",
              "      <td>-0.114805</td>\n",
              "      <td>-0.183361</td>\n",
              "      <td>-0.145783</td>\n",
              "      <td>-0.069083</td>\n",
              "      <td>-0.225775</td>\n",
              "      <td>-0.638672</td>\n",
              "      <td>0.101288</td>\n",
              "      <td>-0.339846</td>\n",
              "      <td>0.167170</td>\n",
              "      <td>0.125895</td>\n",
              "      <td>-0.008983</td>\n",
              "      <td>0.014724</td>\n",
              "      <td>2.69</td>\n",
              "    </tr>\n",
              "    <tr>\n",
              "      <th>2</th>\n",
              "      <td>-1.358354</td>\n",
              "      <td>-1.340163</td>\n",
              "      <td>1.773209</td>\n",
              "      <td>0.379780</td>\n",
              "      <td>-0.503198</td>\n",
              "      <td>1.800499</td>\n",
              "      <td>0.791461</td>\n",
              "      <td>0.247676</td>\n",
              "      <td>-1.514654</td>\n",
              "      <td>0.207643</td>\n",
              "      <td>0.624501</td>\n",
              "      <td>0.066084</td>\n",
              "      <td>0.717293</td>\n",
              "      <td>-0.165946</td>\n",
              "      <td>2.345865</td>\n",
              "      <td>-2.890083</td>\n",
              "      <td>1.109969</td>\n",
              "      <td>-0.121359</td>\n",
              "      <td>-2.261857</td>\n",
              "      <td>0.524980</td>\n",
              "      <td>0.247998</td>\n",
              "      <td>0.771679</td>\n",
              "      <td>0.909412</td>\n",
              "      <td>-0.689281</td>\n",
              "      <td>-0.327642</td>\n",
              "      <td>-0.139097</td>\n",
              "      <td>-0.055353</td>\n",
              "      <td>-0.059752</td>\n",
              "      <td>378.66</td>\n",
              "    </tr>\n",
              "    <tr>\n",
              "      <th>3</th>\n",
              "      <td>-0.966272</td>\n",
              "      <td>-0.185226</td>\n",
              "      <td>1.792993</td>\n",
              "      <td>-0.863291</td>\n",
              "      <td>-0.010309</td>\n",
              "      <td>1.247203</td>\n",
              "      <td>0.237609</td>\n",
              "      <td>0.377436</td>\n",
              "      <td>-1.387024</td>\n",
              "      <td>-0.054952</td>\n",
              "      <td>-0.226487</td>\n",
              "      <td>0.178228</td>\n",
              "      <td>0.507757</td>\n",
              "      <td>-0.287924</td>\n",
              "      <td>-0.631418</td>\n",
              "      <td>-1.059647</td>\n",
              "      <td>-0.684093</td>\n",
              "      <td>1.965775</td>\n",
              "      <td>-1.232622</td>\n",
              "      <td>-0.208038</td>\n",
              "      <td>-0.108300</td>\n",
              "      <td>0.005274</td>\n",
              "      <td>-0.190321</td>\n",
              "      <td>-1.175575</td>\n",
              "      <td>0.647376</td>\n",
              "      <td>-0.221929</td>\n",
              "      <td>0.062723</td>\n",
              "      <td>0.061458</td>\n",
              "      <td>123.50</td>\n",
              "    </tr>\n",
              "    <tr>\n",
              "      <th>4</th>\n",
              "      <td>-1.158233</td>\n",
              "      <td>0.877737</td>\n",
              "      <td>1.548718</td>\n",
              "      <td>0.403034</td>\n",
              "      <td>-0.407193</td>\n",
              "      <td>0.095921</td>\n",
              "      <td>0.592941</td>\n",
              "      <td>-0.270533</td>\n",
              "      <td>0.817739</td>\n",
              "      <td>0.753074</td>\n",
              "      <td>-0.822843</td>\n",
              "      <td>0.538196</td>\n",
              "      <td>1.345852</td>\n",
              "      <td>-1.119670</td>\n",
              "      <td>0.175121</td>\n",
              "      <td>-0.451449</td>\n",
              "      <td>-0.237033</td>\n",
              "      <td>-0.038195</td>\n",
              "      <td>0.803487</td>\n",
              "      <td>0.408542</td>\n",
              "      <td>-0.009431</td>\n",
              "      <td>0.798278</td>\n",
              "      <td>-0.137458</td>\n",
              "      <td>0.141267</td>\n",
              "      <td>-0.206010</td>\n",
              "      <td>0.502292</td>\n",
              "      <td>0.219422</td>\n",
              "      <td>0.215153</td>\n",
              "      <td>69.99</td>\n",
              "    </tr>\n",
              "  </tbody>\n",
              "</table>\n",
              "</div>"
            ],
            "text/plain": [
              "         V1        V2        V3        V4  ...       V26       V27       V28  Amount\n",
              "0 -1.359807 -0.072781  2.536347  1.378155  ... -0.189115  0.133558 -0.021053  149.62\n",
              "1  1.191857  0.266151  0.166480  0.448154  ...  0.125895 -0.008983  0.014724    2.69\n",
              "2 -1.358354 -1.340163  1.773209  0.379780  ... -0.139097 -0.055353 -0.059752  378.66\n",
              "3 -0.966272 -0.185226  1.792993 -0.863291  ... -0.221929  0.062723  0.061458  123.50\n",
              "4 -1.158233  0.877737  1.548718  0.403034  ...  0.502292  0.219422  0.215153   69.99\n",
              "\n",
              "[5 rows x 29 columns]"
            ]
          },
          "metadata": {},
          "execution_count": 5
        }
      ]
    },
    {
      "cell_type": "code",
      "metadata": {
        "id": "5T7o4_arP6rM"
      },
      "source": [
        "#df_features = df_features.to_numpy()"
      ],
      "execution_count": null,
      "outputs": []
    },
    {
      "cell_type": "code",
      "metadata": {
        "id": "_mw3jNpucR_T"
      },
      "source": [
        "df_labels = df['Class']"
      ],
      "execution_count": null,
      "outputs": []
    },
    {
      "cell_type": "code",
      "metadata": {
        "id": "znXd2vyhOp_i"
      },
      "source": [
        "#from sklearn.preprocessing import StandardScaler"
      ],
      "execution_count": null,
      "outputs": []
    },
    {
      "cell_type": "code",
      "metadata": {
        "id": "2HPSMkoLcPsk"
      },
      "source": [
        "scaler = StandardScaler()\n",
        "scaled_features = scaler.fit_transform(df_features)"
      ],
      "execution_count": null,
      "outputs": []
    },
    {
      "cell_type": "code",
      "metadata": {
        "colab": {
          "base_uri": "https://localhost:8080/"
        },
        "id": "d-ukejXzlcRV",
        "outputId": "3d834563-ddfe-4867-af07-9cc3846dba67"
      },
      "source": [
        "df_labels.unique()"
      ],
      "execution_count": null,
      "outputs": [
        {
          "output_type": "execute_result",
          "data": {
            "text/plain": [
              "array([0, 1])"
            ]
          },
          "metadata": {},
          "execution_count": 12
        }
      ]
    },
    {
      "cell_type": "markdown",
      "metadata": {
        "id": "-hlh_7iTjyZ0"
      },
      "source": [
        "**One-Class SVM**\n",
        "1. https://machinelearningmastery.com/one-class-classification-algorithms/\n",
        "2. https://scikit-learn.org/stable/modules/generated/sklearn.svm.OneClassSVM.html\n",
        "3. https://analyticsindiamag.com/how-to-use-support-vector-machines-for-one-class-classification/\n",
        "4. http://rvlasveld.github.io/blog/2013/07/12/introduction-to-one-class-support-vector-machines/\n",
        "5. https://machinelearningmastery.com/one-class-classification-algorithms/"
      ]
    },
    {
      "cell_type": "code",
      "metadata": {
        "colab": {
          "base_uri": "https://localhost:8080/"
        },
        "id": "_tFMrBpIj24c",
        "outputId": "e1e91d30-3871-44f7-dd57-d27fb90b6b60"
      },
      "source": [
        "# one-class svm for imbalanced binary classification\n",
        "from sklearn.datasets import make_classification\n",
        "from sklearn.model_selection import train_test_split\n",
        "from sklearn.metrics import f1_score\n",
        "from sklearn.svm import OneClassSVM\n",
        "\n",
        "# split into train/test sets\n",
        "trainX, testX, trainy, testy = train_test_split(scaled_features, df_labels, test_size=0.5, random_state=2, stratify=df_labels)\n",
        "# define outlier detection model\n",
        "model = OneClassSVM(gamma='scale', nu=0.01)\n",
        "# fit on majority class\n",
        "trainX = trainX[trainy==0]\n",
        "model.fit(trainX)\n",
        "# detect outliers in the test set\n",
        "yhat = model.predict(testX)\n",
        "# mark inliers 1, outliers -1\n",
        "testy[testy == 1] = -1\n",
        "testy[testy == 0] = 1\n",
        "# calculate score\n",
        "score = f1_score(testy, yhat, pos_label=-1)\n",
        "print('F1 Score: %.3f' % score)"
      ],
      "execution_count": null,
      "outputs": [
        {
          "output_type": "stream",
          "name": "stdout",
          "text": [
            "F1 Score: 0.163\n"
          ]
        }
      ]
    },
    {
      "cell_type": "markdown",
      "metadata": {
        "id": "3UuVyevYj3RU"
      },
      "source": [
        "**K-Means** \n",
        "\n",
        "\n",
        "https://realpython.com/k-means-clustering-python/\n",
        "\n",
        "Partitional clustering methods have several strengths:\n",
        "\n",
        "*   They work well when clusters have a spherical shape.\n",
        "*   They’re scalable with respect to algorithm complexity.\n",
        "\n",
        "They also have several weaknesses:\n",
        "\n",
        "\n",
        "*   They’re not well suited for clusters with complex shapes and different sizes.\n",
        "*   They break down when used with clusters of different densities.\n",
        "\n",
        "\n",
        "\n",
        "\n"
      ]
    },
    {
      "cell_type": "code",
      "metadata": {
        "id": "Y4jPhuDbbMkq"
      },
      "source": [
        "!pip install kneed"
      ],
      "execution_count": null,
      "outputs": []
    },
    {
      "cell_type": "code",
      "metadata": {
        "id": "myQ4Welnj-zx"
      },
      "source": [
        "import matplotlib.pyplot as plt\n",
        "from kneed import KneeLocator\n",
        "from sklearn.datasets import make_blobs\n",
        "from sklearn.cluster import KMeans\n",
        "from sklearn.metrics import silhouette_score\n",
        "from sklearn.preprocessing import StandardScaler"
      ],
      "execution_count": null,
      "outputs": []
    },
    {
      "cell_type": "code",
      "metadata": {
        "colab": {
          "base_uri": "https://localhost:8080/"
        },
        "id": "HCxPBiBHbFm7",
        "outputId": "b954d99d-36ad-41cc-f4e9-65dcec901d57"
      },
      "source": [
        "scaled_features[:1]"
      ],
      "execution_count": null,
      "outputs": [
        {
          "output_type": "execute_result",
          "data": {
            "text/plain": [
              "array([[-0.69424232, -0.04407492,  1.6727735 ,  0.97336551, -0.24511658,\n",
              "         0.34706795,  0.19367894,  0.08263728,  0.33112778,  0.08338555,\n",
              "        -0.54040704, -0.61829572, -0.99609892, -0.32461019,  1.60401384,\n",
              "        -0.53683287,  0.24486345,  0.03076993,  0.49628203,  0.32611802,\n",
              "        -0.02492336,  0.38285444, -0.17691133,  0.11050692,  0.24658544,\n",
              "        -0.39217043,  0.33089162, -0.06378115,  0.24496426]])"
            ]
          },
          "metadata": {},
          "execution_count": 15
        }
      ]
    },
    {
      "cell_type": "code",
      "metadata": {
        "id": "RUFiMmqtc5sd"
      },
      "source": [
        "kmeans = KMeans(\n",
        "    init=\"random\",\n",
        "    n_clusters=2,\n",
        "    n_init=10,\n",
        "    max_iter=300,\n",
        "    random_state=42\n",
        ")"
      ],
      "execution_count": null,
      "outputs": []
    },
    {
      "cell_type": "code",
      "metadata": {
        "colab": {
          "base_uri": "https://localhost:8080/"
        },
        "id": "hFfeMe1pdvHR",
        "outputId": "4d6f4d63-5a38-4913-fd49-1480a49db350"
      },
      "source": [
        "kmeans.fit(scaled_features)"
      ],
      "execution_count": null,
      "outputs": [
        {
          "output_type": "execute_result",
          "data": {
            "text/plain": [
              "KMeans(init='random', n_clusters=2, random_state=42)"
            ]
          },
          "metadata": {},
          "execution_count": 22
        }
      ]
    },
    {
      "cell_type": "code",
      "metadata": {
        "colab": {
          "base_uri": "https://localhost:8080/"
        },
        "id": "odwLeiodd69a",
        "outputId": "4483dd05-d8d3-49a5-df33-f0cc600c22de"
      },
      "source": [
        "# The lowest SSE value\n",
        "print(kmeans.inertia_)\n",
        "\n",
        "# Final locations of the centroid\n",
        "print(kmeans.cluster_centers_)\n",
        "\n",
        "# The number of iterations required to converge\n",
        "print(kmeans.n_iter_)"
      ],
      "execution_count": null,
      "outputs": [
        {
          "output_type": "stream",
          "name": "stdout",
          "text": [
            "7968049.060373116\n",
            "[[ 2.76200630e-02 -8.55930865e-01 -1.15420801e-01 -6.82129653e-01\n",
            "  -7.22572335e-01  1.37032524e-01 -2.57404024e-01 -4.92741497e-02\n",
            "  -9.36648822e-01  6.02039958e-01 -1.51840666e-01 -2.77771519e-01\n",
            "   2.35888938e-01 -1.36578622e-01 -1.04540854e-01 -1.04630763e+00\n",
            "   1.03386406e-01  8.53537789e-01 -4.98987507e-01 -8.76726002e-02\n",
            "  -1.57793457e-01 -3.54989759e-01 -2.19270155e-02 -1.64585459e-02\n",
            "  -6.96856737e-02 -3.36551424e-03  1.95762634e-02  1.01268889e-02\n",
            "   6.62638241e-01]\n",
            " [-4.76189556e-03  1.47568577e-01  1.98993681e-02  1.17604010e-01\n",
            "   1.24576616e-01 -2.36253829e-02  4.43782869e-02  8.49521432e-03\n",
            "   1.61484927e-01 -1.03795976e-01  2.61784122e-02  4.78897880e-02\n",
            "  -4.06689328e-02  2.35471271e-02  1.80235878e-02  1.80390887e-01\n",
            "  -1.78245527e-02 -1.47155993e-01  8.60289998e-02  1.51153806e-02\n",
            "   2.72047158e-02  6.12027625e-02  3.78037363e-03  2.83757052e-03\n",
            "   1.20143064e-02  5.80238623e-04 -3.37508722e-03 -1.74594777e-03\n",
            "  -1.14243552e-01]]\n",
            "15\n"
          ]
        }
      ]
    },
    {
      "cell_type": "code",
      "metadata": {
        "colab": {
          "base_uri": "https://localhost:8080/"
        },
        "id": "ZxrjpBl_eITM",
        "outputId": "e88bccc6-83de-4d16-f2fc-2f206681849c"
      },
      "source": [
        "kmeans.labels_[:5]"
      ],
      "execution_count": null,
      "outputs": [
        {
          "output_type": "execute_result",
          "data": {
            "text/plain": [
              "array([1, 1, 0, 0, 1], dtype=int32)"
            ]
          },
          "metadata": {},
          "execution_count": 24
        }
      ]
    },
    {
      "cell_type": "markdown",
      "metadata": {
        "id": "3-SMzwxAfG0Z"
      },
      "source": [
        "find number of k using elbow method"
      ]
    },
    {
      "cell_type": "code",
      "metadata": {
        "id": "WDECFAutfKHQ"
      },
      "source": [
        "kmeans_kwargs = {\n",
        "    \"init\": \"random\",\n",
        "    \"n_init\": 20,\n",
        "    \"max_iter\": 300,\n",
        "    \"random_state\": 42,\n",
        "}\n",
        "\n",
        "# A list holds the SSE values for each k\n",
        "sse = []\n",
        "for k in range(1, 21):\n",
        "    kmeans = KMeans(n_clusters=k, **kmeans_kwargs)\n",
        "    kmeans.fit(scaled_features)\n",
        "    sse.append(kmeans.inertia_)"
      ],
      "execution_count": null,
      "outputs": []
    },
    {
      "cell_type": "code",
      "metadata": {
        "colab": {
          "base_uri": "https://localhost:8080/",
          "height": 318
        },
        "id": "OL-iej0afRep",
        "outputId": "84749750-141a-455f-f063-c15493720dee"
      },
      "source": [
        "plt.style.use(\"fivethirtyeight\")\n",
        "plt.plot(range(1, 21), sse)\n",
        "plt.xticks(range(1, 21))\n",
        "plt.xlabel(\"Number of Clusters\")\n",
        "plt.ylabel(\"SSE\")\n",
        "plt.show()"
      ],
      "execution_count": null,
      "outputs": [
        {
          "output_type": "display_data",
          "data": {
            "image/png": "[encoded data removed]",
            "text/plain": [
              "<Figure size 432x288 with 1 Axes>"
            ]
          },
          "metadata": {}
        }
      ]
    },
    {
      "cell_type": "code",
      "metadata": {
        "colab": {
          "base_uri": "https://localhost:8080/"
        },
        "id": "kg3BQPnyf9_Q",
        "outputId": "10516cd9-dc49-4858-99b3-7f94f3ae100a"
      },
      "source": [
        "kl = KneeLocator(\n",
        "    range(1, 21), sse, curve=\"convex\", direction=\"decreasing\"\n",
        "    )\n",
        "\n",
        "kl.elbow"
      ],
      "execution_count": null,
      "outputs": [
        {
          "output_type": "execute_result",
          "data": {
            "text/plain": [
              "9"
            ]
          },
          "metadata": {},
          "execution_count": 31
        }
      ]
    },
    {
      "cell_type": "markdown",
      "metadata": {
        "id": "q_vmCHItgLS5"
      },
      "source": [
        "Silhoutte coefficient"
      ]
    },
    {
      "cell_type": "code",
      "metadata": {
        "id": "256oi-02hHpz"
      },
      "source": [
        "# A list holds the silhouette coefficients for each k\n",
        "silhouette_coefficients = []\n",
        "\n",
        "# Notice you start at 2 clusters for silhouette coefficient\n",
        "for k in range(2, 11):\n",
        "    kmeans = KMeans(n_clusters=k, **kmeans_kwargs)\n",
        "    kmeans.fit(scaled_features)\n",
        "    score = silhouette_score(scaled_features, kmeans.labels_)\n",
        "    silhouette_coefficients.append(score)"
      ],
      "execution_count": null,
      "outputs": []
    },
    {
      "cell_type": "code",
      "metadata": {
        "id": "nu0DU4JthM2Q"
      },
      "source": [
        "plt.style.use(\"fivethirtyeight\")\n",
        "plt.plot(range(2, 11), silhouette_coefficients)\n",
        "plt.xticks(range(2, 11))\n",
        "plt.xlabel(\"Number of Clusters\")\n",
        "plt.ylabel(\"Silhouette Coefficient\")\n",
        "plt.show()"
      ],
      "execution_count": null,
      "outputs": []
    },
    {
      "cell_type": "markdown",
      "metadata": {
        "id": "WUOI0lf-kEex"
      },
      "source": [
        "Use pipeline and dimensionality reduction"
      ]
    },
    {
      "cell_type": "code",
      "metadata": {
        "id": "ysXOMs-jkrm2"
      },
      "source": [
        "import numpy as np\n",
        "import matplotlib.pyplot as plt\n",
        "import pandas as pd\n",
        "import seaborn as sns\n",
        "\n",
        "from sklearn.cluster import KMeans\n",
        "from sklearn.decomposition import PCA\n",
        "from sklearn.metrics import silhouette_score, adjusted_rand_score\n",
        "from sklearn.pipeline import Pipeline\n",
        "from sklearn.preprocessing import LabelEncoder, MinMaxScaler"
      ],
      "execution_count": null,
      "outputs": []
    },
    {
      "cell_type": "code",
      "metadata": {
        "id": "PrPVUzG3kJQE"
      },
      "source": [
        "n_clusters = 2"
      ],
      "execution_count": null,
      "outputs": []
    },
    {
      "cell_type": "code",
      "metadata": {
        "id": "lr5eTJmSkgCy"
      },
      "source": [
        "preprocessor = Pipeline(\n",
        "    [\n",
        "        (\"scaler\", MinMaxScaler()),\n",
        "        (\"pca\", PCA(n_components=2, random_state=42)),\n",
        "    ]\n",
        ")"
      ],
      "execution_count": null,
      "outputs": []
    },
    {
      "cell_type": "code",
      "metadata": {
        "id": "6HMcrS63kw7H"
      },
      "source": [
        "clusterer = Pipeline(\n",
        "   [\n",
        "       (\n",
        "           \"kmeans\",\n",
        "           KMeans(\n",
        "               n_clusters=n_clusters,\n",
        "               init=\"k-means++\",\n",
        "               n_init=50,\n",
        "               max_iter=500,\n",
        "               random_state=42,\n",
        "           ),\n",
        "       ),\n",
        "   ]\n",
        ")"
      ],
      "execution_count": null,
      "outputs": []
    },
    {
      "cell_type": "code",
      "metadata": {
        "id": "gMhN5ntlk3YH"
      },
      "source": [
        "pipe = Pipeline(\n",
        "    [\n",
        "        (\"preprocessor\", preprocessor),\n",
        "        (\"clusterer\", clusterer)\n",
        "    ]\n",
        ")"
      ],
      "execution_count": null,
      "outputs": []
    },
    {
      "cell_type": "code",
      "metadata": {
        "colab": {
          "base_uri": "https://localhost:8080/"
        },
        "id": "JFV_yoZ7lEBL",
        "outputId": "a7d2be28-a912-4a83-81fe-d433e96271e5"
      },
      "source": [
        "pipe.fit(df_features)"
      ],
      "execution_count": null,
      "outputs": [
        {
          "output_type": "execute_result",
          "data": {
            "text/plain": [
              "Pipeline(steps=[('preprocessor',\n",
              "                 Pipeline(steps=[('scaler', MinMaxScaler()),\n",
              "                                 ('pca',\n",
              "                                  PCA(n_components=2, random_state=42))])),\n",
              "                ('clusterer',\n",
              "                 Pipeline(steps=[('kmeans',\n",
              "                                  KMeans(max_iter=500, n_clusters=2, n_init=50,\n",
              "                                         random_state=42))]))])"
            ]
          },
          "metadata": {},
          "execution_count": 39
        }
      ]
    },
    {
      "cell_type": "code",
      "metadata": {
        "colab": {
          "base_uri": "https://localhost:8080/"
        },
        "id": "KpFnhzIKl011",
        "outputId": "17cd1331-b37f-4ac3-c633-80a9b78f9b88"
      },
      "source": [
        "preprocessed_data = pipe[\"preprocessor\"].transform(df_features)\n",
        "\n",
        "predicted_labels = pipe[\"clusterer\"][\"kmeans\"].labels_\n",
        "\n",
        "silhouette_score(preprocessed_data, predicted_labels)"
      ],
      "execution_count": null,
      "outputs": [
        {
          "output_type": "execute_result",
          "data": {
            "text/plain": [
              "0.34146569798351595"
            ]
          },
          "metadata": {},
          "execution_count": 41
        }
      ]
    },
    {
      "cell_type": "markdown",
      "metadata": {
        "id": "uf8brFn1kVT5"
      },
      "source": [
        "**DB-SCAN**\n",
        "\n",
        "1. https://donernesto.github.io/blog/outlier-detection-with-dbscan/\n",
        "2. "
      ]
    },
    {
      "cell_type": "code",
      "metadata": {
        "id": "Zyfpx3GsktD0"
      },
      "source": [
        "from sklearn.cluster import DBSCAN"
      ],
      "execution_count": null,
      "outputs": []
    },
    {
      "cell_type": "code",
      "metadata": {
        "id": "Z0JuhBj2UbDD"
      },
      "source": [
        "scaler = MinMaxScaler()\n",
        "scaled_features = scaler.fit_transform(df_features)"
      ],
      "execution_count": null,
      "outputs": []
    },
    {
      "cell_type": "code",
      "metadata": {
        "id": "DZLhCeU5UWyR"
      },
      "source": [
        "dbscan = DBSCAN(eps=0.5, min_samples=10)\n",
        "dbscan.fit(scaled_features)"
      ],
      "execution_count": null,
      "outputs": []
    },
    {
      "cell_type": "code",
      "metadata": {
        "id": "zn_Kcj-yYmF3"
      },
      "source": [
        "labels=dbscan.labels_"
      ],
      "execution_count": null,
      "outputs": []
    },
    {
      "cell_type": "code",
      "metadata": {
        "colab": {
          "base_uri": "https://localhost:8080/"
        },
        "id": "blKA5p0hUuXv",
        "outputId": "d92e529b-16d0-4e83-d6a8-4c88d771769d"
      },
      "source": [
        "len(dbscan.labels_)"
      ],
      "execution_count": null,
      "outputs": [
        {
          "output_type": "execute_result",
          "data": {
            "text/plain": [
              "284807"
            ]
          },
          "metadata": {},
          "execution_count": 19
        }
      ]
    },
    {
      "cell_type": "code",
      "metadata": {
        "id": "5wVORjctYihp"
      },
      "source": [
        "n_clusters=len(set(labels))- (1 if -1 in labels else 0)"
      ],
      "execution_count": null,
      "outputs": []
    },
    {
      "cell_type": "code",
      "metadata": {
        "colab": {
          "base_uri": "https://localhost:8080/"
        },
        "id": "fbp8G0ZoYsPL",
        "outputId": "38c7fed3-d777-4203-ac4e-bf84446f6a28"
      },
      "source": [
        "print(n_clusters)"
      ],
      "execution_count": null,
      "outputs": [
        {
          "output_type": "stream",
          "name": "stdout",
          "text": [
            "3461\n"
          ]
        }
      ]
    },
    {
      "cell_type": "code",
      "metadata": {
        "id": "bRsU7VzcX_dL"
      },
      "source": [
        "import collections, numpy\n",
        "a = numpy.array(dbscan.labels_)\n",
        "collections.Counter(a)"
      ],
      "execution_count": null,
      "outputs": []
    },
    {
      "cell_type": "markdown",
      "metadata": {
        "id": "nrOlpVLYdH7N"
      },
      "source": [
        "**Isolation Forest: Base Model for point outliers in multivariate outliers detection**\n",
        "\n",
        "1. https://medium.com/analytics-vidhya/anomaly-detection-in-python-part-1-basics-code-and-standard-algorithms-37d022cdbcff\n",
        "2. https://www.analyticsvidhya.com/blog/2021/07/anomaly-detection-using-isolation-forest-a-complete-guide/\n",
        "3. https://stackoverflow.com/questions/50957340/isolation-forest-sklearn-for-1d-array-or-list-and-how-to-tune-hyper-parameters\n",
        "\n",
        "\n",
        "\n",
        "Let us look at the complete algorithm step by step:\n",
        "\n",
        "1.   When given a dataset, a random sub-sample of the data is selected and assigned to a binary tree.\n",
        "2.   Branching of the tree starts by selecting a random feature (from the set of all N features) first. And then branching is done on a random threshold ( any value in the range of minimum and maximum values of the selected feature).\n",
        "3. If the value of a data point is less than the selected threshold, it goes to the left branch else to the right. And thus a node is split into left and right branches.\n",
        "4. This process from step 2 is continued recursively till each data point is completely isolated or till max depth(if defined) is reached.\n",
        "The above steps are repeated to construct random binary trees.\n",
        "\n",
        "\n",
        "\n",
        "\n"
      ]
    },
    {
      "cell_type": "code",
      "metadata": {
        "id": "1lNBcA3wrz7r"
      },
      "source": [
        "from sklearn.model_selection import train_test_split, GridSearchCV\n",
        "# Separate the classes from the train set\n",
        "#df_classes = df_base['Class']\n",
        "#df_train = df_base.drop(['Class'], axis=1)\n",
        "\n",
        "# split the data into train and test \n",
        "#X_train, X_test, y_train, y_test = train_test_split(df_features, df_labels, test_size=0.30, random_state=42)"
      ],
      "execution_count": null,
      "outputs": []
    },
    {
      "cell_type": "code",
      "metadata": {
        "id": "UJACfxI5dLPx"
      },
      "source": [
        "random_state = np.random.RandomState(42)"
      ],
      "execution_count": null,
      "outputs": []
    },
    {
      "cell_type": "code",
      "metadata": {
        "colab": {
          "base_uri": "https://localhost:8080/"
        },
        "id": "-sSIGQKEq6B_",
        "outputId": "476a7589-4877-4e8b-b317-40893e4464c7"
      },
      "source": [
        "model=IsolationForest(n_estimators=100,max_samples='auto',contamination=float(0.02),random_state=random_state)\n",
        "model.fit(df_features.values)\n",
        "print(model.get_params())"
      ],
      "execution_count": null,
      "outputs": [
        {
          "output_type": "stream",
          "name": "stdout",
          "text": [
            "{'bootstrap': False, 'contamination': 0.02, 'max_features': 1.0, 'max_samples': 'auto', 'n_estimators': 100, 'n_jobs': None, 'random_state': RandomState(MT19937) at 0x7F8D6F892E20, 'verbose': 0, 'warm_start': False}\n"
          ]
        }
      ]
    },
    {
      "cell_type": "code",
      "metadata": {
        "id": "ahQ4CQTgtAGe"
      },
      "source": [
        "df_features['scores']  = model.decision_function(df_features.values)\n"
      ],
      "execution_count": null,
      "outputs": []
    },
    {
      "cell_type": "code",
      "metadata": {
        "id": "liFML8kZu5aY"
      },
      "source": [
        "df_anomaly_score = df_features.drop(['scores'], 1)"
      ],
      "execution_count": null,
      "outputs": []
    },
    {
      "cell_type": "code",
      "metadata": {
        "id": "mN_-JqzytKFf"
      },
      "source": [
        "df_features['anomaly_score'] = model.predict(df_anomaly_score.values)"
      ],
      "execution_count": null,
      "outputs": []
    },
    {
      "cell_type": "code",
      "metadata": {
        "colab": {
          "base_uri": "https://localhost:8080/",
          "height": 224
        },
        "id": "GkNXlQL_s5RJ",
        "outputId": "899914bc-72fc-46ce-ffb2-12f3149ff28d"
      },
      "source": [
        "df_features[df_features['anomaly_score']==-1].head()"
      ],
      "execution_count": null,
      "outputs": [
        {
          "output_type": "execute_result",
          "data": {
            "text/html": [
              "<div>\n",
              "<style scoped>\n",
              "    .dataframe tbody tr th:only-of-type {\n",
              "        vertical-align: middle;\n",
              "    }\n",
              "\n",
              "    .dataframe tbody tr th {\n",
              "        vertical-align: top;\n",
              "    }\n",
              "\n",
              "    .dataframe thead th {\n",
              "        text-align: right;\n",
              "    }\n",
              "</style>\n",
              "<table border=\"1\" class=\"dataframe\">\n",
              "  <thead>\n",
              "    <tr style=\"text-align: right;\">\n",
              "      <th></th>\n",
              "      <th>V1</th>\n",
              "      <th>V2</th>\n",
              "      <th>V3</th>\n",
              "      <th>V4</th>\n",
              "      <th>V5</th>\n",
              "      <th>V6</th>\n",
              "      <th>V7</th>\n",
              "      <th>V8</th>\n",
              "      <th>V9</th>\n",
              "      <th>V10</th>\n",
              "      <th>V11</th>\n",
              "      <th>V12</th>\n",
              "      <th>V13</th>\n",
              "      <th>V14</th>\n",
              "      <th>V15</th>\n",
              "      <th>V16</th>\n",
              "      <th>V17</th>\n",
              "      <th>V18</th>\n",
              "      <th>V19</th>\n",
              "      <th>V20</th>\n",
              "      <th>V21</th>\n",
              "      <th>V22</th>\n",
              "      <th>V23</th>\n",
              "      <th>V24</th>\n",
              "      <th>V25</th>\n",
              "      <th>V26</th>\n",
              "      <th>V27</th>\n",
              "      <th>V28</th>\n",
              "      <th>Amount</th>\n",
              "      <th>scores</th>\n",
              "      <th>anomaly_score</th>\n",
              "    </tr>\n",
              "  </thead>\n",
              "  <tbody>\n",
              "    <tr>\n",
              "      <th>2</th>\n",
              "      <td>-1.358354</td>\n",
              "      <td>-1.340163</td>\n",
              "      <td>1.773209</td>\n",
              "      <td>0.379780</td>\n",
              "      <td>-0.503198</td>\n",
              "      <td>1.800499</td>\n",
              "      <td>0.791461</td>\n",
              "      <td>0.247676</td>\n",
              "      <td>-1.514654</td>\n",
              "      <td>0.207643</td>\n",
              "      <td>0.624501</td>\n",
              "      <td>0.066084</td>\n",
              "      <td>0.717293</td>\n",
              "      <td>-0.165946</td>\n",
              "      <td>2.345865</td>\n",
              "      <td>-2.890083</td>\n",
              "      <td>1.109969</td>\n",
              "      <td>-0.121359</td>\n",
              "      <td>-2.261857</td>\n",
              "      <td>0.524980</td>\n",
              "      <td>0.247998</td>\n",
              "      <td>0.771679</td>\n",
              "      <td>0.909412</td>\n",
              "      <td>-0.689281</td>\n",
              "      <td>-0.327642</td>\n",
              "      <td>-0.139097</td>\n",
              "      <td>-0.055353</td>\n",
              "      <td>-0.059752</td>\n",
              "      <td>378.66</td>\n",
              "      <td>-0.010101</td>\n",
              "      <td>-1</td>\n",
              "    </tr>\n",
              "    <tr>\n",
              "      <th>7</th>\n",
              "      <td>-0.644269</td>\n",
              "      <td>1.417964</td>\n",
              "      <td>1.074380</td>\n",
              "      <td>-0.492199</td>\n",
              "      <td>0.948934</td>\n",
              "      <td>0.428118</td>\n",
              "      <td>1.120631</td>\n",
              "      <td>-3.807864</td>\n",
              "      <td>0.615375</td>\n",
              "      <td>1.249376</td>\n",
              "      <td>-0.619468</td>\n",
              "      <td>0.291474</td>\n",
              "      <td>1.757964</td>\n",
              "      <td>-1.323865</td>\n",
              "      <td>0.686133</td>\n",
              "      <td>-0.076127</td>\n",
              "      <td>-1.222127</td>\n",
              "      <td>-0.358222</td>\n",
              "      <td>0.324505</td>\n",
              "      <td>-0.156742</td>\n",
              "      <td>1.943465</td>\n",
              "      <td>-1.015455</td>\n",
              "      <td>0.057504</td>\n",
              "      <td>-0.649709</td>\n",
              "      <td>-0.415267</td>\n",
              "      <td>-0.051634</td>\n",
              "      <td>-1.206921</td>\n",
              "      <td>-1.085339</td>\n",
              "      <td>40.80</td>\n",
              "      <td>-0.039264</td>\n",
              "      <td>-1</td>\n",
              "    </tr>\n",
              "    <tr>\n",
              "      <th>14</th>\n",
              "      <td>-2.791855</td>\n",
              "      <td>-0.327771</td>\n",
              "      <td>1.641750</td>\n",
              "      <td>1.767473</td>\n",
              "      <td>-0.136588</td>\n",
              "      <td>0.807596</td>\n",
              "      <td>-0.422911</td>\n",
              "      <td>-1.907107</td>\n",
              "      <td>0.755713</td>\n",
              "      <td>1.151087</td>\n",
              "      <td>0.844555</td>\n",
              "      <td>0.792944</td>\n",
              "      <td>0.370448</td>\n",
              "      <td>-0.734975</td>\n",
              "      <td>0.406796</td>\n",
              "      <td>-0.303058</td>\n",
              "      <td>-0.155869</td>\n",
              "      <td>0.778265</td>\n",
              "      <td>2.221868</td>\n",
              "      <td>-1.582122</td>\n",
              "      <td>1.151663</td>\n",
              "      <td>0.222182</td>\n",
              "      <td>1.020586</td>\n",
              "      <td>0.028317</td>\n",
              "      <td>-0.232746</td>\n",
              "      <td>-0.235557</td>\n",
              "      <td>-0.164778</td>\n",
              "      <td>-0.030154</td>\n",
              "      <td>58.80</td>\n",
              "      <td>-0.006530</td>\n",
              "      <td>-1</td>\n",
              "    </tr>\n",
              "    <tr>\n",
              "      <th>18</th>\n",
              "      <td>-5.401258</td>\n",
              "      <td>-5.450148</td>\n",
              "      <td>1.186305</td>\n",
              "      <td>1.736239</td>\n",
              "      <td>3.049106</td>\n",
              "      <td>-1.763406</td>\n",
              "      <td>-1.559738</td>\n",
              "      <td>0.160842</td>\n",
              "      <td>1.233090</td>\n",
              "      <td>0.345173</td>\n",
              "      <td>0.917230</td>\n",
              "      <td>0.970117</td>\n",
              "      <td>-0.266568</td>\n",
              "      <td>-0.479130</td>\n",
              "      <td>-0.526609</td>\n",
              "      <td>0.472004</td>\n",
              "      <td>-0.725481</td>\n",
              "      <td>0.075081</td>\n",
              "      <td>-0.406867</td>\n",
              "      <td>-2.196848</td>\n",
              "      <td>-0.503600</td>\n",
              "      <td>0.984460</td>\n",
              "      <td>2.458589</td>\n",
              "      <td>0.042119</td>\n",
              "      <td>-0.481631</td>\n",
              "      <td>-0.621272</td>\n",
              "      <td>0.392053</td>\n",
              "      <td>0.949594</td>\n",
              "      <td>46.80</td>\n",
              "      <td>-0.058501</td>\n",
              "      <td>-1</td>\n",
              "    </tr>\n",
              "    <tr>\n",
              "      <th>23</th>\n",
              "      <td>0.247491</td>\n",
              "      <td>0.277666</td>\n",
              "      <td>1.185471</td>\n",
              "      <td>-0.092603</td>\n",
              "      <td>-1.314394</td>\n",
              "      <td>-0.150116</td>\n",
              "      <td>-0.946365</td>\n",
              "      <td>-1.617935</td>\n",
              "      <td>1.544071</td>\n",
              "      <td>-0.829881</td>\n",
              "      <td>-0.583200</td>\n",
              "      <td>0.524933</td>\n",
              "      <td>-0.453375</td>\n",
              "      <td>0.081393</td>\n",
              "      <td>1.555204</td>\n",
              "      <td>-1.396895</td>\n",
              "      <td>0.783131</td>\n",
              "      <td>0.436621</td>\n",
              "      <td>2.177807</td>\n",
              "      <td>-0.230983</td>\n",
              "      <td>1.650180</td>\n",
              "      <td>0.200454</td>\n",
              "      <td>-0.185353</td>\n",
              "      <td>0.423073</td>\n",
              "      <td>0.820591</td>\n",
              "      <td>-0.227632</td>\n",
              "      <td>0.336634</td>\n",
              "      <td>0.250475</td>\n",
              "      <td>22.75</td>\n",
              "      <td>-0.015583</td>\n",
              "      <td>-1</td>\n",
              "    </tr>\n",
              "  </tbody>\n",
              "</table>\n",
              "</div>"
            ],
            "text/plain": [
              "          V1        V2        V3  ...  Amount    scores  anomaly_score\n",
              "2  -1.358354 -1.340163  1.773209  ...  378.66 -0.010101             -1\n",
              "7  -0.644269  1.417964  1.074380  ...   40.80 -0.039264             -1\n",
              "14 -2.791855 -0.327771  1.641750  ...   58.80 -0.006530             -1\n",
              "18 -5.401258 -5.450148  1.186305  ...   46.80 -0.058501             -1\n",
              "23  0.247491  0.277666  1.185471  ...   22.75 -0.015583             -1\n",
              "\n",
              "[5 rows x 31 columns]"
            ]
          },
          "metadata": {},
          "execution_count": 45
        }
      ]
    },
    {
      "cell_type": "code",
      "metadata": {
        "colab": {
          "base_uri": "https://localhost:8080/"
        },
        "id": "djobYqkawGEk",
        "outputId": "3f8c1b6d-a52e-41c0-d761-a6d4924a410e"
      },
      "source": [
        "number_anomalies = list(df_features['anomaly_score']).count(-1)\n",
        "print(\"Number of anomalies:\", number_anomalies)"
      ],
      "execution_count": null,
      "outputs": [
        {
          "output_type": "stream",
          "name": "stdout",
          "text": [
            "Number of anomalies: 56962\n"
          ]
        }
      ]
    },
    {
      "cell_type": "code",
      "metadata": {
        "colab": {
          "base_uri": "https://localhost:8080/"
        },
        "id": "a2MX2GzEwn7P",
        "outputId": "4099306d-49a8-415f-9509-44b699d76111"
      },
      "source": [
        "print(len(df_features))"
      ],
      "execution_count": null,
      "outputs": [
        {
          "output_type": "stream",
          "name": "stdout",
          "text": [
            "284807\n"
          ]
        }
      ]
    },
    {
      "cell_type": "markdown",
      "metadata": {
        "id": "3h2J4rQ_2cYS"
      },
      "source": [
        "**Gaussian Mixture Model**\n",
        "1. https://www.analyticsvidhya.com/blog/2019/10/gaussian-mixture-models-clustering/\n",
        "2. https://jakevdp.github.io/PythonDataScienceHandbook/05.12-gaussian-mixtures.html\n",
        "3. https://scikit-learn.org/stable/modules/mixture.html\n"
      ]
    },
    {
      "cell_type": "code",
      "metadata": {
        "id": "NxbpNOES2gj7"
      },
      "source": [
        "# training gaussian mixture model \n",
        "from sklearn.mixture import GaussianMixture\n",
        "gmm = GaussianMixture(n_components=4)\n",
        "gmm.fit(df_features)\n",
        "\n",
        "#predictions from gmm\n",
        "labels = gmm.predict(df_features)\n",
        "frame = pd.DataFrame(df_features)\n",
        "frame['cluster'] = labels\n",
        "\n"
      ],
      "execution_count": null,
      "outputs": []
    },
    {
      "cell_type": "code",
      "metadata": {
        "colab": {
          "base_uri": "https://localhost:8080/"
        },
        "id": "oKEXdbXXQZ3g",
        "outputId": "a61186c4-6f24-486e-d636-d45e033c64c4"
      },
      "source": [
        "frame['cluster']"
      ],
      "execution_count": null,
      "outputs": [
        {
          "output_type": "execute_result",
          "data": {
            "text/plain": [
              "0         2\n",
              "1         0\n",
              "2         2\n",
              "3         2\n",
              "4         2\n",
              "         ..\n",
              "284802    3\n",
              "284803    2\n",
              "284804    0\n",
              "284805    2\n",
              "284806    2\n",
              "Name: cluster, Length: 284807, dtype: int64"
            ]
          },
          "metadata": {},
          "execution_count": 9
        }
      ]
    },
    {
      "cell_type": "markdown",
      "metadata": {
        "id": "3A5ZGn2LQzxt"
      },
      "source": [
        "**Facebook Prophet**"
      ]
    },
    {
      "cell_type": "markdown",
      "metadata": {
        "id": "BZ2UphqtgE0a"
      },
      "source": [
        "\n",
        "\n",
        "\n",
        "\n",
        "\n",
        "**https://towardsdatascience.com/time-series-analysis-with-facebook-prophet-how-it-works-and-how-to-use-it-f15ecf2c0e3a**"
      ]
    },
    {
      "cell_type": "code",
      "metadata": {
        "id": "e3jUgTRCgJlf"
      },
      "source": [
        ""
      ],
      "execution_count": null,
      "outputs": []
    },
    {
      "cell_type": "markdown",
      "source": [
        "**VAR MODEL**\n",
        "1. https://www.machinelearningplus.com/time-series/vector-autoregression-examples-python/\n",
        "2. "
      ],
      "metadata": {
        "id": "h7KsVGJ8MX1D"
      }
    }
  ]
}