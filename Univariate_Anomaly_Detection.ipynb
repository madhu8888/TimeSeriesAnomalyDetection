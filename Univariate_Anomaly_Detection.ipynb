{
  "nbformat": 4,
  "nbformat_minor": 0,
  "metadata": {
    "colab": {
      "name": "Univariate_Anomaly_Detection.ipynb",
      "provenance": []
    },
    "kernelspec": {
      "name": "python3",
      "display_name": "Python 3"
    },
    "language_info": {
      "name": "python"
    }
  },
  "cells": [
    {
      "cell_type": "markdown",
      "metadata": {
        "id": "t6Qcr02dKOuH"
      },
      "source": [
        "1. https://towardsdatascience.com/anomaly-detection-with-time-series-forecasting-c34c6d04b24a\n",
        "2. https://www.analyticsvidhya.com/blog/2021/08/univariate-time-series-anomaly-detection-using-arima-model/\n",
        "3. https://www.kaggle.com/kevinarvai/outlier-detection-practice-uni-multivariate\n",
        "4. https://www.kaggle.com/mukulkirti/outlier-or-anomalies-detection-and-removal/\n",
        "5. https://machinelearningmastery.com/one-class-classification-algorithms/\n",
        "6. https://machinelearningmastery.com/how-to-develop-lstm-models-for-time-series-forecasting/\n",
        "7. https://statisticsbyjim.com/basics/outliers/\n",
        "8. https://machinelearningmastery.com/model-based-outlier-detection-and-removal-in-python/"
      ]
    },
    {
      "cell_type": "markdown",
      "metadata": {
        "id": "ltRJUDVqGtfP"
      },
      "source": [
        "\n",
        "**READ DATA**\n",
        "\n",
        "\n"
      ]
    },
    {
      "cell_type": "code",
      "metadata": {
        "id": "koAo-OayGmrq"
      },
      "source": [
        "import pandas as pd\n",
        "import numpy as np\n",
        "import matplotlib.pyplot as plt"
      ],
      "execution_count": null,
      "outputs": []
    },
    {
      "cell_type": "code",
      "metadata": {
        "colab": {
          "base_uri": "https://localhost:8080/"
        },
        "id": "HZNdjA4eMmfh",
        "outputId": "a36d07c8-3792-44e0-d958-d3519f70ab28"
      },
      "source": [
        "import os\n",
        "from google.colab import drive\n",
        "drive.mount('/content/drive/')"
      ],
      "execution_count": null,
      "outputs": [
        {
          "output_type": "stream",
          "name": "stdout",
          "text": [
            "Mounted at /content/drive/\n"
          ]
        }
      ]
    },
    {
      "cell_type": "code",
      "metadata": {
        "colab": {
          "base_uri": "https://localhost:8080/"
        },
        "id": "RJpTCnKgMqxO",
        "outputId": "642e25ae-86ac-4cad-da3d-ca3b968c1476"
      },
      "source": [
        "path = \"/content/drive/My Drive/data/realKnownCause/nyc_taxi.xlsx\"\n",
        "data_Taxi = pd.read_excel(path)\n",
        "data_Taxi.info()"
      ],
      "execution_count": null,
      "outputs": [
        {
          "output_type": "stream",
          "name": "stdout",
          "text": [
            "<class 'pandas.core.frame.DataFrame'>\n",
            "RangeIndex: 10320 entries, 0 to 10319\n",
            "Data columns (total 3 columns):\n",
            " #   Column     Non-Null Count  Dtype \n",
            "---  ------     --------------  ----- \n",
            " 0   timestamp  10320 non-null  object\n",
            " 1   value      10320 non-null  int64 \n",
            " 2   Anomaly    10320 non-null  int64 \n",
            "dtypes: int64(2), object(1)\n",
            "memory usage: 242.0+ KB\n"
          ]
        }
      ]
    },
    {
      "cell_type": "code",
      "metadata": {
        "colab": {
          "base_uri": "https://localhost:8080/",
          "height": 204
        },
        "id": "9Q4uLpVrNM4c",
        "outputId": "f216a625-f767-4dc8-8921-5aa866fb8a8a"
      },
      "source": [
        "data_Taxi.head()"
      ],
      "execution_count": null,
      "outputs": [
        {
          "output_type": "execute_result",
          "data": {
            "text/html": [
              "<div>\n",
              "<style scoped>\n",
              "    .dataframe tbody tr th:only-of-type {\n",
              "        vertical-align: middle;\n",
              "    }\n",
              "\n",
              "    .dataframe tbody tr th {\n",
              "        vertical-align: top;\n",
              "    }\n",
              "\n",
              "    .dataframe thead th {\n",
              "        text-align: right;\n",
              "    }\n",
              "</style>\n",
              "<table border=\"1\" class=\"dataframe\">\n",
              "  <thead>\n",
              "    <tr style=\"text-align: right;\">\n",
              "      <th></th>\n",
              "      <th>timestamp</th>\n",
              "      <th>value</th>\n",
              "      <th>Anomaly</th>\n",
              "    </tr>\n",
              "  </thead>\n",
              "  <tbody>\n",
              "    <tr>\n",
              "      <th>0</th>\n",
              "      <td>2014-07-01 00:00:00</td>\n",
              "      <td>10844</td>\n",
              "      <td>0</td>\n",
              "    </tr>\n",
              "    <tr>\n",
              "      <th>1</th>\n",
              "      <td>2014-07-01 00:30:00</td>\n",
              "      <td>8127</td>\n",
              "      <td>0</td>\n",
              "    </tr>\n",
              "    <tr>\n",
              "      <th>2</th>\n",
              "      <td>2014-07-01 01:00:00</td>\n",
              "      <td>6210</td>\n",
              "      <td>0</td>\n",
              "    </tr>\n",
              "    <tr>\n",
              "      <th>3</th>\n",
              "      <td>2014-07-01 01:30:00</td>\n",
              "      <td>4656</td>\n",
              "      <td>0</td>\n",
              "    </tr>\n",
              "    <tr>\n",
              "      <th>4</th>\n",
              "      <td>2014-07-01 02:00:00</td>\n",
              "      <td>3820</td>\n",
              "      <td>0</td>\n",
              "    </tr>\n",
              "  </tbody>\n",
              "</table>\n",
              "</div>"
            ],
            "text/plain": [
              "             timestamp  value  Anomaly\n",
              "0  2014-07-01 00:00:00  10844        0\n",
              "1  2014-07-01 00:30:00   8127        0\n",
              "2  2014-07-01 01:00:00   6210        0\n",
              "3  2014-07-01 01:30:00   4656        0\n",
              "4  2014-07-01 02:00:00   3820        0"
            ]
          },
          "metadata": {},
          "execution_count": 5
        }
      ]
    },
    {
      "cell_type": "markdown",
      "metadata": {
        "id": "ZODt6d8VNTzj"
      },
      "source": [
        "**Fetch only data values column to apply anomaly detection algorithms**"
      ]
    },
    {
      "cell_type": "code",
      "metadata": {
        "id": "LZvkJ8xHNe-I"
      },
      "source": [
        "df_data = data_Taxi[\"value\"]"
      ],
      "execution_count": null,
      "outputs": []
    },
    {
      "cell_type": "code",
      "metadata": {
        "colab": {
          "base_uri": "https://localhost:8080/"
        },
        "id": "iRW0NswgNloa",
        "outputId": "8e1a4168-93b9-4aba-87ba-919989ce833b"
      },
      "source": [
        "df_data.head()"
      ],
      "execution_count": null,
      "outputs": [
        {
          "output_type": "execute_result",
          "data": {
            "text/plain": [
              "0    10844\n",
              "1     8127\n",
              "2     6210\n",
              "3     4656\n",
              "4     3820\n",
              "Name: value, dtype: int64"
            ]
          },
          "metadata": {},
          "execution_count": 7
        }
      ]
    },
    {
      "cell_type": "markdown",
      "metadata": {
        "id": "HZh9ijK7WPmg"
      },
      "source": [
        "**Z-Score : Base Model for one dimensional point outliers**\n",
        "\n",
        "1. https://medium.com/@stevernewman/eliminating-outliers-in-python-with-z-scores-dd72ca5d4ead\n"
      ]
    },
    {
      "cell_type": "code",
      "metadata": {
        "colab": {
          "base_uri": "https://localhost:8080/"
        },
        "id": "wBpcICzXV1tA",
        "outputId": "021a8b2a-6c49-4b2f-a134-7572caea749e"
      },
      "source": [
        "mean = np.mean(df_data)\n",
        "std = np.std(df_data)\n",
        "print(f\"Mean {mean}, Standard Deviation {std}\")"
      ],
      "execution_count": null,
      "outputs": [
        {
          "output_type": "stream",
          "name": "stdout",
          "text": [
            "Mean 15137.569379844961, Standard Deviation 6939.159584040666\n"
          ]
        }
      ]
    },
    {
      "cell_type": "code",
      "metadata": {
        "colab": {
          "base_uri": "https://localhost:8080/"
        },
        "id": "lbLsv5feJXsf",
        "outputId": "2743365e-002b-4914-8ba2-0090058101cc"
      },
      "source": [
        "outliers = []\n",
        "for i in df_data:\n",
        "  z_score = abs((i-mean)/std) \n",
        "  #print(z_score)\n",
        "  if z_score > 3:\n",
        "    print(f\"number {i} :  z-score {z_score}\")\n",
        "    outliers.append(i)\n",
        "\n",
        "print(outliers)\n",
        "    \n",
        "\n"
      ],
      "execution_count": null,
      "outputs": [
        {
          "output_type": "stream",
          "name": "stdout",
          "text": [
            "number 39197 :  z-score 3.4671966149170554\n",
            "[39197]\n"
          ]
        }
      ]
    },
    {
      "cell_type": "markdown",
      "metadata": {
        "id": "TzTOqxkkCS9s"
      },
      "source": [
        "**IQR and Box-and-Whisker’s plot** \n",
        "\n",
        "https://blog.clairvoyantsoft.com/mlmuse-approaches-to-outlier-detection-part-1-bd4c8faa4f24"
      ]
    },
    {
      "cell_type": "code",
      "metadata": {
        "id": "_sgDk8mkfoIT"
      },
      "source": [
        ""
      ],
      "execution_count": null,
      "outputs": []
    },
    {
      "cell_type": "markdown",
      "metadata": {
        "id": "meJThkNxo_qV"
      },
      "source": [
        "**ARIMA Model**"
      ]
    },
    {
      "cell_type": "code",
      "metadata": {
        "id": "Dx_eY6f-pDGI"
      },
      "source": [
        ""
      ],
      "execution_count": null,
      "outputs": []
    }
  ]
}